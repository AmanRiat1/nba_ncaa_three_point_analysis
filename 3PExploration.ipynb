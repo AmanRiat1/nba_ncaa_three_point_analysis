{
 "cells": [
  {
   "cell_type": "code",
   "execution_count": 1,
   "metadata": {},
   "outputs": [],
   "source": [
    "import pandas as pd\n",
    "from basketball_reference_web_scraper import client\n",
    "from basketball_reference_web_scraper.data import OutputType"
   ]
  },
  {
   "cell_type": "markdown",
   "metadata": {},
   "source": [
    "## Gathering NBA Player Data"
   ]
  },
  {
   "cell_type": "code",
   "execution_count": 2,
   "metadata": {},
   "outputs": [],
   "source": [
    "YEARS = [2020, 2019, 2018, 2017, 2016, 2015]\n",
    "nba_player_stats_df = pd.DataFrame()\n",
    "for year in YEARS:\n",
    "    all_player_season_total = client.players_season_totals(season_end_year=year, output_type=OutputType.JSON)\n",
    "    nba_player_stats_year_df = pd.read_json(all_player_season_total)\n",
    "    nba_player_stats_df = pd.concat([nba_player_stats_df, nba_player_stats_year_df])\n",
    "nba_player_stats_df = nba_player_stats_df.drop_duplicates(subset=['slug'])\n",
    "nba_player_stats_df = nba_player_stats_df.reset_index().drop('index',axis=1)"
   ]
  },
  {
   "cell_type": "markdown",
   "metadata": {},
   "source": [
    "Making sure duplicated data is removed"
   ]
  },
  {
   "cell_type": "code",
   "execution_count": 3,
   "metadata": {},
   "outputs": [
    {
     "data": {
      "text/plain": [
       "edwarvi01    1\n",
       "turnemy01    1\n",
       "hudsole01    1\n",
       "hamilju01    1\n",
       "brownja01    1\n",
       "            ..\n",
       "browntr01    1\n",
       "abrinal01    1\n",
       "villach01    1\n",
       "blackta01    1\n",
       "mclaujo01    1\n",
       "Name: slug, Length: 1019, dtype: int64"
      ]
     },
     "execution_count": 3,
     "metadata": {},
     "output_type": "execute_result"
    }
   ],
   "source": [
    "nba_player_stats_df['slug'].value_counts()"
   ]
  },
  {
   "cell_type": "markdown",
   "metadata": {},
   "source": [
    "## Filtering out Players who do not Fit Requirements\n",
    "* The requirements include having attempted a mininmum of 750 career three point attempts and having college data accessible \n",
    "* 750 was decided as the threshold from reading this article https://fansided.com/2015/01/30/freelance-friday-small-sample-size-stop-small/"
   ]
  },
  {
   "cell_type": "code",
   "execution_count": 168,
   "metadata": {},
   "outputs": [
    {
     "name": "stdout",
     "output_type": "stream",
     "text": [
      "Giannis Antetokounmpo  not found!  giannis-antetokounmpo-1\n",
      "J.J. Barea  not found!  jj-barea-1\n",
      "Nicolas Batum  not found!  nicolas-batum-1\n",
      "Marco Belinelli  not found!  marco-belinelli-1\n",
      "Dāvis Bertāns  not found!  dāvis-bertāns-1\n",
      "Nemanja Bjelica  not found!  nemanja-bjelica-1\n",
      "Bogdan Bogdanović  not found!  bogdan-bogdanović-1\n",
      "Bojan Bogdanović  not found!  bojan-bogdanović-1\n",
      "Luka Dončić  not found!  luka-dončić-1\n",
      "Goran Dragić  not found!  goran-dragić-1\n",
      "Yogi Ferrell  not found!  yogi-ferrell-1\n",
      "Evan Fournier  not found!  evan-fournier-1\n",
      "Danilo Gallinari  not found!  danilo-gallinari-1\n",
      "Marc Gasol  not found!  marc-gasol-1\n",
      "Mario Hezonja  not found!  mario-hezonja-1\n",
      "Serge Ibaka  not found!  serge-ibaka-1\n",
      "Ersan İlyasova  not found!  ersan-i̇lyasova-1\n",
      "Joe Ingles  not found!  joe-ingles-1\n",
      "LeBron James  not found!  lebron-james-1\n",
      "Nikola Jokić  not found!  nikola-jokić-1\n",
      "C.J. Miles  not found!  cj-miles-1\n",
      "Patty Mills  not found!  patty-mills-1\n",
      "E'Twaun Moore  not found!  e'twaun-moore-1\n",
      "Emmanuel Mudiay  not found!  emmanuel-mudiay-1\n",
      "Cedi Osman  not found!  cedi-osman-1\n",
      "Kelly Oubre Jr.  not found!  kelly-oubre-jr-1\n",
      "Kristaps Porziņģis  not found!  kristaps-porziņģis-1\n",
      "Ricky Rubio  not found!  ricky-rubio-1\n",
      "D'Angelo Russell  not found!  d'angelo-russell-1\n",
      "Dario Šarić  not found!  dario-šarić-1\n",
      "Dennis Schröder  not found!  dennis-schröder-1\n",
      "Thabo Sefolosha  not found!  thabo-sefolosha-1\n",
      "Ish Smith  not found!  ish-smith-1\n",
      "J.R. Smith  not found!  jr-smith-1\n",
      "Fred VanVleet  not found!  fred-vanvleet-1\n",
      "Nikola Vučević  not found!  nikola-vučević-1\n",
      "José Calderón  not found!  josé-calderón-1\n",
      "Omri Casspi  not found!  omri-casspi-1\n",
      "Gerald Green  not found!  gerald-green-1\n",
      "Jonas Jerebko  not found!  jonas-jerebko-1\n",
      "Nikola Mirotić  not found!  nikola-mirotić-1\n",
      "Dirk Nowitzki  not found!  dirk-nowitzki-1\n",
      "Manu Ginóbili  not found!  manu-ginóbili-1\n",
      "Mirza Teletović  not found!  mirza-teletović-1\n",
      "Leandro Barbosa  not found!  leandro-barbosa-1\n",
      "Boris Diaw  not found!  boris-diaw-1\n",
      "Monta Ellis  not found!  monta-ellis-1\n",
      "Beno Udrih  not found!  beno-udrih-1\n",
      "Greivis Vásquez  not found!  greivis-vásquez-1\n",
      "Sasha Vujačić  not found!  sasha-vujačić-1\n",
      "Metta World Peace  not found!  metta-world-peace-1\n",
      "Andrea Bargnani  not found!  andrea-bargnani-1\n",
      "Kobe Bryant  not found!  kobe-bryant-1\n",
      "Francisco García  not found!  francisco-garcía-1\n",
      "Andrei Kirilenko  not found!  andrei-kirilenko-1\n",
      "Sebastian Telfair  not found!  sebastian-telfair-1\n",
      "Hedo Türkoğlu  not found!  hedo-türkoğlu-1\n",
      "Martell Webster  not found!  martell-webster-1\n",
      "Dorell Wright  not found!  dorell-wright-1\n"
     ]
    }
   ],
   "source": [
    "from sportsreference.nba.roster import Player as NBAPlayer\n",
    "from sportsreference.ncaab.roster import Player as NCAAPlayer\n",
    "\n",
    "nba_player_names = nba_player_stats_df[['name', 'slug']]\n",
    "nba_college_player_df_column_names = ['name','slug','NBA_3PA', 'NBA_3P%', 'NCAA_FT%', 'NCAA_3P%']\n",
    "nba_ncaa_raw_player_data = []\n",
    "nba_player_college_data_not_found = []\n",
    "\n",
    "for player_index in range(len(nba_player_names)):\n",
    "    nba_player_name = nba_player_names['name'].loc[player_index]\n",
    "    nba_player_id = nba_player_names['slug'].loc[player_index]\n",
    "    nba_player = NBAPlayer(nba_player_id)\n",
    "    if (nba_player.three_point_attempts > 750):\n",
    "        try: \n",
    "            if \".\" in nba_player_name:\n",
    "                nba_player_name = nba_player_name.split('.')\n",
    "                nba_player_name = \"\".join(nba_player_name)\n",
    "            ncaa_player_id = nba_player_name.lower().split()\n",
    "            ncaa_player_id = '-'.join(ncaa_player_id) + '-1'\n",
    "            ncaa_player = NCAAPlayer(ncaa_player_id) \n",
    "            \n",
    "            #Each index matches the nba_college_player_df_column_names\n",
    "            nba_ncaa_raw_player_data.append([\n",
    "                nba_player_name,\n",
    "                nba_player_id, \n",
    "                nba_player.three_point_attempts,\n",
    "                nba_player.three_point_percentage,\n",
    "                ncaa_player.free_throw_percentage,\n",
    "                ncaa_player.three_point_percentage,\n",
    "\n",
    "            ])\n",
    "            \n",
    "        except TypeError as e:\n",
    "            print(nba_player_names['name'].loc[player_index], ' not found! ', ncaa_player_id)\n",
    "            nba_player_college_data_not_found.append([\n",
    "                nba_player_names['name'].loc[player_index],\n",
    "                nba_player_id, \n",
    "                player_index\n",
    "            ])"
   ]
  },
  {
   "cell_type": "code",
   "execution_count": 172,
   "metadata": {},
   "outputs": [],
   "source": [
    "nba_ncaa_data_df = pd.DataFrame(nba_ncaa_raw_player_data, columns =nba_college_player_df_column_names)\n",
    "nba_ncaa_not_found_df = pd.DataFrame(nba_player_college_data_not_found, columns=['name','slug', 'player_df_index'])"
   ]
  },
  {
   "cell_type": "code",
   "execution_count": 182,
   "metadata": {},
   "outputs": [
    {
     "data": {
      "text/plain": [
       "0.27978178230451334"
      ]
     },
     "execution_count": 182,
     "metadata": {},
     "output_type": "execute_result"
    }
   ],
   "source": [
    "nba_ncaa_data_df['NBA_3P%'].corr(nba_ncaa_data_df['NCAA_FT%'])"
   ]
  },
  {
   "cell_type": "code",
   "execution_count": 183,
   "metadata": {},
   "outputs": [
    {
     "data": {
      "text/html": [
       "<div>\n",
       "<style scoped>\n",
       "    .dataframe tbody tr th:only-of-type {\n",
       "        vertical-align: middle;\n",
       "    }\n",
       "\n",
       "    .dataframe tbody tr th {\n",
       "        vertical-align: top;\n",
       "    }\n",
       "\n",
       "    .dataframe thead th {\n",
       "        text-align: right;\n",
       "    }\n",
       "</style>\n",
       "<table border=\"1\" class=\"dataframe\">\n",
       "  <thead>\n",
       "    <tr style=\"text-align: right;\">\n",
       "      <th></th>\n",
       "      <th>NBA_3PA</th>\n",
       "      <th>NBA_3P%</th>\n",
       "      <th>NCAA_FT%</th>\n",
       "      <th>NCAA_3P%</th>\n",
       "    </tr>\n",
       "  </thead>\n",
       "  <tbody>\n",
       "    <tr>\n",
       "      <th>NBA_3PA</th>\n",
       "      <td>1.000000</td>\n",
       "      <td>0.312761</td>\n",
       "      <td>0.107970</td>\n",
       "      <td>0.048057</td>\n",
       "    </tr>\n",
       "    <tr>\n",
       "      <th>NBA_3P%</th>\n",
       "      <td>0.312761</td>\n",
       "      <td>1.000000</td>\n",
       "      <td>0.279782</td>\n",
       "      <td>0.206285</td>\n",
       "    </tr>\n",
       "    <tr>\n",
       "      <th>NCAA_FT%</th>\n",
       "      <td>0.107970</td>\n",
       "      <td>0.279782</td>\n",
       "      <td>1.000000</td>\n",
       "      <td>0.407608</td>\n",
       "    </tr>\n",
       "    <tr>\n",
       "      <th>NCAA_3P%</th>\n",
       "      <td>0.048057</td>\n",
       "      <td>0.206285</td>\n",
       "      <td>0.407608</td>\n",
       "      <td>1.000000</td>\n",
       "    </tr>\n",
       "  </tbody>\n",
       "</table>\n",
       "</div>"
      ],
      "text/plain": [
       "           NBA_3PA   NBA_3P%  NCAA_FT%  NCAA_3P%\n",
       "NBA_3PA   1.000000  0.312761  0.107970  0.048057\n",
       "NBA_3P%   0.312761  1.000000  0.279782  0.206285\n",
       "NCAA_FT%  0.107970  0.279782  1.000000  0.407608\n",
       "NCAA_3P%  0.048057  0.206285  0.407608  1.000000"
      ]
     },
     "execution_count": 183,
     "metadata": {},
     "output_type": "execute_result"
    }
   ],
   "source": [
    "nba_ncaa_data_df.corr()"
   ]
  },
  {
   "cell_type": "code",
   "execution_count": 178,
   "metadata": {},
   "outputs": [
    {
     "data": {
      "text/plain": [
       "<AxesSubplot:xlabel='NCAA_FT%', ylabel='NBA_3P%'>"
      ]
     },
     "execution_count": 178,
     "metadata": {},
     "output_type": "execute_result"
    },
    {
     "data": {
      "image/png": "[encoded data removed]",
      "text/plain": [
       "<Figure size 432x288 with 1 Axes>"
      ]
     },
     "metadata": {
      "needs_background": "light"
     },
     "output_type": "display_data"
    }
   ],
   "source": [
    "import matplotlib as plt\n",
    "nba_ncaa_data_df.plot.scatter(x=\"NCAA_FT%\", y=\"NBA_3P%\")"
   ]
  },
  {
   "cell_type": "code",
   "execution_count": 199,
   "metadata": {},
   "outputs": [
    {
     "data": {
      "text/html": [
       "<div>\n",
       "<style scoped>\n",
       "    .dataframe tbody tr th:only-of-type {\n",
       "        vertical-align: middle;\n",
       "    }\n",
       "\n",
       "    .dataframe tbody tr th {\n",
       "        vertical-align: top;\n",
       "    }\n",
       "\n",
       "    .dataframe thead th {\n",
       "        text-align: right;\n",
       "    }\n",
       "</style>\n",
       "<table border=\"1\" class=\"dataframe\">\n",
       "  <thead>\n",
       "    <tr style=\"text-align: right;\">\n",
       "      <th></th>\n",
       "      <th>name</th>\n",
       "      <th>slug</th>\n",
       "      <th>NBA_3PA</th>\n",
       "      <th>NBA_3P%</th>\n",
       "      <th>NCAA_FT%</th>\n",
       "      <th>NCAA_3P%</th>\n",
       "    </tr>\n",
       "  </thead>\n",
       "  <tbody>\n",
       "    <tr>\n",
       "      <th>190</th>\n",
       "      <td>Steve Novak</td>\n",
       "      <td>novakst01</td>\n",
       "      <td>1337</td>\n",
       "      <td>0.430</td>\n",
       "      <td>0.931</td>\n",
       "      <td>0.461</td>\n",
       "    </tr>\n",
       "    <tr>\n",
       "      <th>113</th>\n",
       "      <td>JJ Redick</td>\n",
       "      <td>redicjj01</td>\n",
       "      <td>4526</td>\n",
       "      <td>0.416</td>\n",
       "      <td>0.912</td>\n",
       "      <td>0.406</td>\n",
       "    </tr>\n",
       "    <tr>\n",
       "      <th>71</th>\n",
       "      <td>Kyrie Irving</td>\n",
       "      <td>irvinky01</td>\n",
       "      <td>2870</td>\n",
       "      <td>0.390</td>\n",
       "      <td>0.901</td>\n",
       "      <td>0.462</td>\n",
       "    </tr>\n",
       "    <tr>\n",
       "      <th>164</th>\n",
       "      <td>Luke Babbitt</td>\n",
       "      <td>babbilu01</td>\n",
       "      <td>979</td>\n",
       "      <td>0.402</td>\n",
       "      <td>0.893</td>\n",
       "      <td>0.421</td>\n",
       "    </tr>\n",
       "    <tr>\n",
       "      <th>79</th>\n",
       "      <td>Kyle Korver</td>\n",
       "      <td>korveky01</td>\n",
       "      <td>5715</td>\n",
       "      <td>0.429</td>\n",
       "      <td>0.891</td>\n",
       "      <td>0.453</td>\n",
       "    </tr>\n",
       "    <tr>\n",
       "      <th>154</th>\n",
       "      <td>Jodie Meeks</td>\n",
       "      <td>meeksjo01</td>\n",
       "      <td>2078</td>\n",
       "      <td>0.373</td>\n",
       "      <td>0.890</td>\n",
       "      <td>0.386</td>\n",
       "    </tr>\n",
       "    <tr>\n",
       "      <th>33</th>\n",
       "      <td>Stephen Curry</td>\n",
       "      <td>curryst01</td>\n",
       "      <td>5739</td>\n",
       "      <td>0.435</td>\n",
       "      <td>0.876</td>\n",
       "      <td>0.412</td>\n",
       "    </tr>\n",
       "    <tr>\n",
       "      <th>16</th>\n",
       "      <td>Malcolm Brogdon</td>\n",
       "      <td>brogdma01</td>\n",
       "      <td>828</td>\n",
       "      <td>0.385</td>\n",
       "      <td>0.876</td>\n",
       "      <td>0.365</td>\n",
       "    </tr>\n",
       "    <tr>\n",
       "      <th>96</th>\n",
       "      <td>Ben McLemore</td>\n",
       "      <td>mclembe01</td>\n",
       "      <td>1695</td>\n",
       "      <td>0.366</td>\n",
       "      <td>0.870</td>\n",
       "      <td>0.420</td>\n",
       "    </tr>\n",
       "    <tr>\n",
       "      <th>87</th>\n",
       "      <td>Damian Lillard</td>\n",
       "      <td>lillada01</td>\n",
       "      <td>4764</td>\n",
       "      <td>0.373</td>\n",
       "      <td>0.867</td>\n",
       "      <td>0.390</td>\n",
       "    </tr>\n",
       "  </tbody>\n",
       "</table>\n",
       "</div>"
      ],
      "text/plain": [
       "                name       slug  NBA_3PA  NBA_3P%  NCAA_FT%  NCAA_3P%\n",
       "190      Steve Novak  novakst01     1337    0.430     0.931     0.461\n",
       "113        JJ Redick  redicjj01     4526    0.416     0.912     0.406\n",
       "71      Kyrie Irving  irvinky01     2870    0.390     0.901     0.462\n",
       "164     Luke Babbitt  babbilu01      979    0.402     0.893     0.421\n",
       "79       Kyle Korver  korveky01     5715    0.429     0.891     0.453\n",
       "154      Jodie Meeks  meeksjo01     2078    0.373     0.890     0.386\n",
       "33     Stephen Curry  curryst01     5739    0.435     0.876     0.412\n",
       "16   Malcolm Brogdon  brogdma01      828    0.385     0.876     0.365\n",
       "96      Ben McLemore  mclembe01     1695    0.366     0.870     0.420\n",
       "87    Damian Lillard  lillada01     4764    0.373     0.867     0.390"
      ]
     },
     "execution_count": 199,
     "metadata": {},
     "output_type": "execute_result"
    }
   ],
   "source": [
    "nba_ncaa_data_df.sort_values(by=['NCAA_FT%'], ascending=False)[:10]"
   ]
  },
  {
   "cell_type": "code",
   "execution_count": 201,
   "metadata": {},
   "outputs": [],
   "source": [
    "nba_ncaa_data_df.to_csv('data/nba_ncaa_data_df_2015_2020.csv', index=False)\n",
    "nba_ncaa_not_found_df.to_csv('data/nba_ncaa_not_found_df_2015_2020.csv', index=False)"
   ]
  },
  {
   "cell_type": "code",
   "execution_count": 82,
   "metadata": {},
   "outputs": [],
   "source": [
    "from bs4 import BeautifulSoup\n",
    "from selenium import webdriver\n",
    "\n",
    "driver = webdriver.Chrome(\"C:/Users/Aman Riat/Downloads/chromedriver_win32/chromedriver.exe\")\n",
    "driver.get(url)\n",
    "soup = BeautifulSoup(driver.page_source,'html.parser')"
   ]
  },
  {
   "cell_type": "code",
   "execution_count": 84,
   "metadata": {
    "scrolled": true
   },
   "outputs": [
    {
     "data": {
      "text/plain": [
       "<table class=\"sortable stats_table now_sortable\" data-cols-to-freeze=\"1\" id=\"all_college_stats\"><caption>College Stats Table</caption>\n",
       "<colgroup><col/><col/><col/><col/><col/><col/><col/><col/><col/><col/><col/><col/><col/><col/><col/><col/><col/><col/><col/><col/><col/><col/><col/><col/><col/><col/></colgroup>\n",
       "<thead>\n",
       "<tr class=\"over_header\">\n",
       "<th aria-label=\"\" class=\"over_header center\" colspan=\"3\" data-stat=\"\"></th>\n",
       "<th aria-label=\"\" class=\"over_header center\" colspan=\"2\" data-stat=\"DUMMY\"> </th>\n",
       "<th aria-label=\"\" class=\"over_header center\" colspan=\"14\" data-stat=\"totals\">Totals</th>\n",
       "<th aria-label=\"\" class=\"over_header center\" colspan=\"3\" data-stat=\"header_shooting\">Shooting</th>\n",
       "<th aria-label=\"\" class=\"over_header center\" colspan=\"4\" data-stat=\"header_per_g\">Per Game</th>\n",
       "</tr>\n",
       "<tr>\n",
       "<th aria-label=\"If listed as single number, the year the season ended.★ - Indicates All-Star for league.Only on regular season tables.\" class=\"poptip sort_default_asc center\" data-stat=\"season\" data-tip=\"If listed as single number, the year the season ended.&lt;br&gt;★ - Indicates All-Star for league.&lt;br&gt;Only on regular season tables.\" scope=\"col\">Season</th>\n",
       "<th aria-label=\"Player's age on February 1 of the season\" class=\"poptip sort_default_asc center\" data-stat=\"age\" data-tip=\"Player's age on February 1 of the season\" scope=\"col\">Age</th>\n",
       "<th aria-label=\"College\" class=\"poptip sort_default_asc center\" data-stat=\"college_id\" scope=\"col\">College</th>\n",
       "<th aria-label=\"Games\" class=\"poptip center\" data-over-header=\" \" data-stat=\"g\" data-tip=\"Games\" scope=\"col\">G</th>\n",
       "<th aria-label=\"Minutes Played\" class=\"poptip center\" data-over-header=\" \" data-stat=\"mp\" data-tip=\"Minutes Played\" scope=\"col\">MP</th>\n",
       "<th aria-label=\"Field Goals\" class=\"poptip center\" data-stat=\"fg\" data-tip=\"Field Goals\" scope=\"col\">FG</th>\n",
       "<th aria-label=\"Field Goal Attempts\" class=\"poptip center\" data-stat=\"fga\" data-tip=\"Field Goal Attempts\" scope=\"col\">FGA</th>\n",
       "<th aria-label=\"3-Point Field Goals\" class=\"poptip center\" data-stat=\"fg3\" data-tip=\"3-Point Field Goals\" scope=\"col\">3P</th>\n",
       "<th aria-label=\"3-Point Field Goal Attempts\" class=\"poptip center\" data-stat=\"fg3a\" data-tip=\"3-Point Field Goal Attempts\" scope=\"col\">3PA</th>\n",
       "<th aria-label=\"Free Throws\" class=\"poptip center\" data-stat=\"ft\" data-tip=\"Free Throws\" scope=\"col\">FT</th>\n",
       "<th aria-label=\"Free Throw Attempts\" class=\"poptip center\" data-stat=\"fta\" data-tip=\"Free Throw Attempts\" scope=\"col\">FTA</th>\n",
       "<th aria-label=\"Offensive Rebounds\" class=\"poptip center\" data-stat=\"orb\" data-tip=\"Offensive Rebounds\" scope=\"col\">ORB</th>\n",
       "<th aria-label=\"Total Rebounds\" class=\"poptip center\" data-stat=\"trb\" data-tip=\"Total Rebounds\" scope=\"col\">TRB</th>\n",
       "<th aria-label=\"Assists\" class=\"poptip center\" data-stat=\"ast\" data-tip=\"Assists\" scope=\"col\">AST</th>\n",
       "<th aria-label=\"Steals\" class=\"poptip center\" data-stat=\"stl\" data-tip=\"Steals\" scope=\"col\">STL</th>\n",
       "<th aria-label=\"Blocks\" class=\"poptip center\" data-stat=\"blk\" data-tip=\"Blocks\" scope=\"col\">BLK</th>\n",
       "<th aria-label=\"Turnovers\" class=\"poptip center\" data-stat=\"tov\" data-tip=\"Turnovers\" scope=\"col\">TOV</th>\n",
       "<th aria-label=\"Personal Fouls\" class=\"poptip center\" data-stat=\"pf\" data-tip=\"Personal Fouls\" scope=\"col\">PF</th>\n",
       "<th aria-label=\"Points\" class=\"poptip center\" data-stat=\"pts\" data-tip=\"Points\" scope=\"col\">PTS</th>\n",
       "<th aria-label=\"Field Goal Percentage\" class=\"poptip center\" data-over-header=\"Shooting\" data-stat=\"fg_pct\" data-tip=\"Field Goal Percentage\" scope=\"col\">FG%</th>\n",
       "<th aria-label=\"3-Point Field Goal Percentage\" class=\"poptip center\" data-over-header=\"Shooting\" data-stat=\"fg3_pct\" data-tip=\"3-Point Field Goal Percentage\" scope=\"col\">3P%</th>\n",
       "<th aria-label=\"Free Throw Percentage\" class=\"poptip center\" data-over-header=\"Shooting\" data-stat=\"ft_pct\" data-tip=\"Free Throw Percentage\" scope=\"col\">FT%</th>\n",
       "<th aria-label=\"Minutes Played Per Game\" class=\"poptip center\" data-over-header=\"Per Game\" data-stat=\"mp_per_g\" data-tip=\"Minutes Played Per Game\" scope=\"col\">MP</th>\n",
       "<th aria-label=\"Points Per Game\" class=\"poptip center\" data-over-header=\"Per Game\" data-stat=\"pts_per_g\" data-tip=\"Points Per Game\" scope=\"col\">PTS</th>\n",
       "<th aria-label=\"Total Rebounds Per Game\" class=\"poptip center\" data-over-header=\"Per Game\" data-stat=\"trb_per_g\" data-tip=\"Total Rebounds Per Game\" scope=\"col\">TRB</th>\n",
       "<th aria-label=\"Assists Per Game\" class=\"poptip center\" data-over-header=\"Per Game\" data-stat=\"ast_per_g\" data-tip=\"Assists Per Game\" scope=\"col\">AST</th>\n",
       "</tr>\n",
       "</thead>\n",
       "<tbody>\n",
       "<tr data-row=\"0\"><th class=\"left\" data-stat=\"season\" scope=\"row\">2016-17</th><td class=\"center\" data-stat=\"age\">19</td><td class=\"left\" data-stat=\"college_id\"><a href=\"/friv/colleges.cgi?college=kentucky\" title=\"Kentucky\">KENTUCKY</a></td><td class=\"right\" data-stat=\"g\">38</td><td class=\"right\" data-stat=\"mp\">1145</td><td class=\"right\" data-stat=\"fg\">170</td><td class=\"right\" data-stat=\"fga\">284</td><td class=\"right iz\" data-stat=\"fg3\">0</td><td class=\"right iz\" data-stat=\"fg3a\">0</td><td class=\"right\" data-stat=\"ft\">154</td><td class=\"right\" data-stat=\"fta\">236</td><td class=\"right\" data-stat=\"orb\">118</td><td class=\"right\" data-stat=\"trb\">304</td><td class=\"right\" data-stat=\"ast\">32</td><td class=\"right\" data-stat=\"stl\">26</td><td class=\"right\" data-stat=\"blk\">57</td><td class=\"right\" data-stat=\"tov\">64</td><td class=\"right\" data-stat=\"pf\">99</td><td class=\"right\" data-stat=\"pts\">494</td><td class=\"right\" data-stat=\"fg_pct\">.599</td><td class=\"right iz\" data-stat=\"fg3_pct\"></td><td class=\"right\" data-stat=\"ft_pct\">.653</td><td class=\"right\" data-stat=\"mp_per_g\">30.1</td><td class=\"right\" data-stat=\"pts_per_g\">13.0</td><td class=\"right\" data-stat=\"trb_per_g\">8.0</td><td class=\"right\" data-stat=\"ast_per_g\">0.8</td></tr>\n",
       "</tbody>\n",
       "<tfoot><tr data-row=\"1\"><th class=\"left\" data-stat=\"season\" scope=\"row\">Career</th><td class=\"center iz\" data-stat=\"age\"></td><td class=\"left iz\" data-stat=\"college_id\"></td><td class=\"right\" data-stat=\"g\">38</td><td class=\"right\" data-stat=\"mp\">1145</td><td class=\"right\" data-stat=\"fg\">170</td><td class=\"right\" data-stat=\"fga\">284</td><td class=\"right iz\" data-stat=\"fg3\">0</td><td class=\"right iz\" data-stat=\"fg3a\">0</td><td class=\"right\" data-stat=\"ft\">154</td><td class=\"right\" data-stat=\"fta\">236</td><td class=\"right\" data-stat=\"orb\">118</td><td class=\"right\" data-stat=\"trb\">304</td><td class=\"right\" data-stat=\"ast\">32</td><td class=\"right\" data-stat=\"stl\">26</td><td class=\"right\" data-stat=\"blk\">57</td><td class=\"right\" data-stat=\"tov\">64</td><td class=\"right\" data-stat=\"pf\">99</td><td class=\"right\" data-stat=\"pts\">494</td><td class=\"right\" data-stat=\"fg_pct\">.599</td><td class=\"right iz\" data-stat=\"fg3_pct\"></td><td class=\"right\" data-stat=\"ft_pct\">.653</td><td class=\"right\" data-stat=\"mp_per_g\">30.1</td><td class=\"right\" data-stat=\"pts_per_g\">13.0</td><td class=\"right\" data-stat=\"trb_per_g\">8.0</td><td class=\"right\" data-stat=\"ast_per_g\">0.8</td></tr>\n",
       "</tfoot>\n",
       "</table>"
      ]
     },
     "execution_count": 84,
     "metadata": {},
     "output_type": "execute_result"
    }
   ],
   "source": [
    "table = soup.find('table', id=\"all_college_stats\")\n",
    "table"
   ]
  }
 ],
 "metadata": {
  "kernelspec": {
   "display_name": "Python 3",
   "language": "python",
   "name": "python3"
  },
  "language_info": {
   "codemirror_mode": {
    "name": "ipython",
    "version": 3
   },
   "file_extension": ".py",
   "mimetype": "text/x-python",
   "name": "python",
   "nbconvert_exporter": "python",
   "pygments_lexer": "ipython3",
   "version": "3.6.12"
  }
 },
 "nbformat": 4,
 "nbformat_minor": 4
}
