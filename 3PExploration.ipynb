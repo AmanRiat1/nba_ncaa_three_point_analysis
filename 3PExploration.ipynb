{
 "cells": [
  {
   "cell_type": "code",
   "execution_count": 1,
   "metadata": {},
   "outputs": [],
   "source": [
    "import pandas as pd\n",
    "from basketball_reference_web_scraper import client\n",
    "from basketball_reference_web_scraper.data import OutputType"
   ]
  },
  {
   "cell_type": "markdown",
   "metadata": {},
   "source": [
    "## Gathering NBA Player Data"
   ]
  },
  {
   "cell_type": "code",
   "execution_count": 4,
   "metadata": {},
   "outputs": [],
   "source": [
    "nba_player_stats_df = pd.DataFrame()\n",
    "for year in range(2000, 2021):\n",
    "    all_player_season_total = client.players_season_totals(season_end_year=year, output_type=OutputType.JSON)\n",
    "    nba_player_stats_year_df = pd.read_json(all_player_season_total)\n",
    "    nba_player_stats_df = pd.concat([nba_player_stats_df, nba_player_stats_year_df])\n",
    "nba_player_stats_df = nba_player_stats_df.drop_duplicates(subset=['slug'])\n",
    "nba_player_stats_df = nba_player_stats_df.reset_index().drop('index',axis=1)"
   ]
  },
  {
   "cell_type": "markdown",
   "metadata": {},
   "source": [
    "Making sure duplicated data is removed"
   ]
  },
  {
   "cell_type": "code",
   "execution_count": 5,
   "metadata": {},
   "outputs": [
    {
     "data": {
      "text/plain": [
       "martike03    1\n",
       "carlige01    1\n",
       "grahatr01    1\n",
       "butleji01    1\n",
       "obryajo01    1\n",
       "            ..\n",
       "gadzuda01    1\n",
       "daviste01    1\n",
       "kurucro01    1\n",
       "bynumwi01    1\n",
       "labissk01    1\n",
       "Name: slug, Length: 2040, dtype: int64"
      ]
     },
     "execution_count": 5,
     "metadata": {},
     "output_type": "execute_result"
    }
   ],
   "source": [
    "nba_player_stats_df['slug'].value_counts()"
   ]
  },
  {
   "cell_type": "markdown",
   "metadata": {},
   "source": [
    "## Filtering out Players who do not Fit Requirements\n",
    "* The requirements include having attempted a mininmum of 750 career three point attempts and having college data accessible \n",
    "* 750 was decided as the threshold from reading this article https://fansided.com/2015/01/30/freelance-friday-small-sample-size-stop-small/"
   ]
  },
  {
   "cell_type": "code",
   "execution_count": 93,
   "metadata": {},
   "outputs": [
    {
     "name": "stdout",
     "output_type": "stream",
     "text": [
      "Darrell Armstrong  not found!  darrell-armstrong-1\n",
      "Kobe Bryant  not found!  kobe-bryant-1\n",
      "Mario Elie  not found!  mario-elie-1\n",
      "Devean George  not found!  devean-george-1\n",
      "Al Harrington  not found!  al-harrington-1\n",
      "Toni Kukoč  not found!  toni-kukoč-1\n",
      "Rashard Lewis  not found!  rashard-lewis-1\n",
      "Tracy McGrady  not found!  tracy-mcgrady-1\n",
      "Dirk Nowitzki  not found!  dirk-nowitzki-1\n",
      "Scottie Pippen  not found!  scottie-pippen-1\n",
      "Terry Porter  not found!  terry-porter-1\n",
      "Peja Stojaković  not found!  peja-stojaković-1\n",
      "Metta World Peace  not found!  metta-world-peace-1\n",
      "Stephen Jackson  not found!  stephen-jackson-1\n",
      "DeShawn Stevenson  not found!  deshawn-stevenson-1\n",
      "Hedo Türkoğlu  not found!  hedo-türkoğlu-1\n",
      "Andrei Kirilenko  not found!  andrei-kirilenko-1\n",
      "Vladimir Radmanović  not found!  vladimir-radmanović-1\n",
      "Manu Ginóbili  not found!  manu-ginóbili-1\n",
      "Gordan Giriček  not found!  gordan-giriček-1\n",
      "Marko Jarić  not found!  marko-jarić-1\n",
      "Ronald Murray  not found!  ronald-murray-1\n",
      "Boštjan Nachbar  not found!  boštjan-nachbar-1\n",
      "Mehmet Okur  not found!  mehmet-okur-1\n",
      "Leandro Barbosa  not found!  leandro-barbosa-1\n",
      "Boris Diaw  not found!  boris-diaw-1\n",
      "LeBron James  not found!  lebron-james-1\n",
      "Travis Outlaw  not found!  travis-outlaw-1\n",
      "Sasha Pavlović  not found!  sasha-pavlović-1\n",
      "Mickaël Piétrus  not found!  mickaël-piétrus-1\n",
      "Carlos Delfino  not found!  carlos-delfino-1\n",
      "Andrés Nocioni  not found!  andrés-nocioni-1\n",
      "J.R. Smith  not found!  jr-smith-1\n",
      "Sebastian Telfair  not found!  sebastian-telfair-1\n",
      "Beno Udrih  not found!  beno-udrih-1\n",
      "Sasha Vujačić  not found!  sasha-vujačić-1\n",
      "Dorell Wright  not found!  dorell-wright-1\n",
      "José Calderón  not found!  josé-calderón-1\n",
      "Monta Ellis  not found!  monta-ellis-1\n",
      "Francisco García  not found!  francisco-garcía-1\n",
      "Gerald Green  not found!  gerald-green-1\n",
      "C.J. Miles  not found!  cj-miles-1\n",
      "Martell Webster  not found!  martell-webster-1\n",
      "J.J. Barea  not found!  jj-barea-1\n",
      "Andrea Bargnani  not found!  andrea-bargnani-1\n",
      "Ersan İlyasova  not found!  ersan-i̇lyasova-1\n",
      "Thabo Sefolosha  not found!  thabo-sefolosha-1\n",
      "Marco Belinelli  not found!  marco-belinelli-1\n",
      "Nicolas Batum  not found!  nicolas-batum-1\n",
      "Goran Dragić  not found!  goran-dragić-1\n",
      "Rudy Fernández  not found!  rudy-fernández-1\n",
      "Danilo Gallinari  not found!  danilo-gallinari-1\n",
      "Marc Gasol  not found!  marc-gasol-1\n",
      "Omri Casspi  not found!  omri-casspi-1\n",
      "Serge Ibaka  not found!  serge-ibaka-1\n",
      "Jonas Jerebko  not found!  jonas-jerebko-1\n",
      "Patty Mills  not found!  patty-mills-1\n",
      "Ish Smith  not found!  ish-smith-1\n",
      "Greivis Vásquez  not found!  greivis-vásquez-1\n",
      "E'Twaun Moore  not found!  e'twaun-moore-1\n",
      "Ricky Rubio  not found!  ricky-rubio-1\n",
      "Nikola Vučević  not found!  nikola-vučević-1\n",
      "Evan Fournier  not found!  evan-fournier-1\n",
      "Mirza Teletović  not found!  mirza-teletović-1\n",
      "Giannis Antetokounmpo  not found!  giannis-antetokounmpo-1\n",
      "Dennis Schröder  not found!  dennis-schröder-1\n",
      "Bojan Bogdanović  not found!  bojan-bogdanović-1\n",
      "Joe Ingles  not found!  joe-ingles-1\n",
      "Nikola Mirotić  not found!  nikola-mirotić-1\n",
      "Nemanja Bjelica  not found!  nemanja-bjelica-1\n",
      "Mario Hezonja  not found!  mario-hezonja-1\n",
      "Nikola Jokić  not found!  nikola-jokić-1\n",
      "Emmanuel Mudiay  not found!  emmanuel-mudiay-1\n",
      "Kelly Oubre Jr.  not found!  kelly-oubre-jr-1\n",
      "Kristaps Porziņģis  not found!  kristaps-porziņģis-1\n",
      "D'Angelo Russell  not found!  d'angelo-russell-1\n",
      "Dāvis Bertāns  not found!  dāvis-bertāns-1\n",
      "Yogi Ferrell  not found!  yogi-ferrell-1\n",
      "Dario Šarić  not found!  dario-šarić-1\n",
      "Fred VanVleet  not found!  fred-vanvleet-1\n",
      "Bogdan Bogdanović  not found!  bogdan-bogdanović-1\n",
      "Cedi Osman  not found!  cedi-osman-1\n",
      "Luka Dončić  not found!  luka-dončić-1\n"
     ]
    }
   ],
   "source": [
    "from sportsreference.nba.roster import Player as NBAPlayer\n",
    "from sportsreference.ncaab.roster import Player as NCAAPlayer\n",
    "\n",
    "nba_player_names = nba_player_stats_df[['name', 'slug']]\n",
    "nba_college_player_df_column_names = ['name','slug','NBA_3PA', 'NBA_3P%', 'NCAA_FT%', 'NCAA_3P%', 'NCAA_FTA']\n",
    "nba_ncaa_raw_player_data = []\n",
    "nba_player_college_data_not_found = []\n",
    "\n",
    "for player_index in range(len(nba_player_names)):\n",
    "    nba_player_name = nba_player_names['name'].loc[player_index]\n",
    "    nba_player_id = nba_player_names['slug'].loc[player_index]\n",
    "    nba_player = NBAPlayer(nba_player_id)\n",
    "    if (nba_player.three_point_attempts > 750):\n",
    "        try: \n",
    "            if \".\" in nba_player_name:\n",
    "                nba_player_name = nba_player_name.split('.')\n",
    "                nba_player_name = \"\".join(nba_player_name)\n",
    "            ncaa_player_id = nba_player_name.lower().split()\n",
    "            ncaa_player_id = '-'.join(ncaa_player_id) + '-1'\n",
    "            ncaa_player = NCAAPlayer(ncaa_player_id) \n",
    "            \n",
    "            #Each index matches the nba_college_player_df_column_names\n",
    "            nba_ncaa_raw_player_data.append([\n",
    "                nba_player_name,\n",
    "                nba_player_id, \n",
    "                nba_player.three_point_attempts,\n",
    "                nba_player.three_point_percentage,\n",
    "                ncaa_player.free_throw_percentage,\n",
    "                ncaa_player.three_point_percentage,\n",
    "                ncaa_player.free_throw_attempts\n",
    "\n",
    "            ])\n",
    "            \n",
    "        except TypeError as e:\n",
    "            print(nba_player_names['name'].loc[player_index], ' not found! ', ncaa_player_id)\n",
    "            nba_player_college_data_not_found.append([\n",
    "                nba_player_names['name'].loc[player_index],\n",
    "                nba_player_id, \n",
    "                player_index\n",
    "            ])"
   ]
  },
  {
   "cell_type": "code",
   "execution_count": 95,
   "metadata": {},
   "outputs": [],
   "source": [
    "nba_ncaa_data_df = pd.DataFrame(nba_ncaa_raw_player_data, columns =nba_college_player_df_column_names)\n",
    "nba_ncaa_not_found_df = pd.DataFrame(nba_player_college_data_not_found, columns=['name','slug', 'player_df_index'])"
   ]
  },
  {
   "cell_type": "code",
   "execution_count": 96,
   "metadata": {},
   "outputs": [
    {
     "data": {
      "text/html": [
       "<div>\n",
       "<style scoped>\n",
       "    .dataframe tbody tr th:only-of-type {\n",
       "        vertical-align: middle;\n",
       "    }\n",
       "\n",
       "    .dataframe tbody tr th {\n",
       "        vertical-align: top;\n",
       "    }\n",
       "\n",
       "    .dataframe thead th {\n",
       "        text-align: right;\n",
       "    }\n",
       "</style>\n",
       "<table border=\"1\" class=\"dataframe\">\n",
       "  <thead>\n",
       "    <tr style=\"text-align: right;\">\n",
       "      <th></th>\n",
       "      <th>name</th>\n",
       "      <th>slug</th>\n",
       "      <th>NBA_3PA</th>\n",
       "      <th>NBA_3P%</th>\n",
       "      <th>NCAA_FT%</th>\n",
       "      <th>NCAA_3P%</th>\n",
       "      <th>NCAA_FTA</th>\n",
       "    </tr>\n",
       "  </thead>\n",
       "  <tbody>\n",
       "    <tr>\n",
       "      <th>374</th>\n",
       "      <td>Joe Harris</td>\n",
       "      <td>harrijo01</td>\n",
       "      <td>1459</td>\n",
       "      <td>0.426</td>\n",
       "      <td>0.000</td>\n",
       "      <td>0.375</td>\n",
       "      <td>4</td>\n",
       "    </tr>\n",
       "    <tr>\n",
       "      <th>371</th>\n",
       "      <td>Aaron Gordon</td>\n",
       "      <td>gordoaa01</td>\n",
       "      <td>1383</td>\n",
       "      <td>0.319</td>\n",
       "      <td>0.422</td>\n",
       "      <td>0.356</td>\n",
       "      <td>180</td>\n",
       "    </tr>\n",
       "    <tr>\n",
       "      <th>214</th>\n",
       "      <td>Josh Smith</td>\n",
       "      <td>smithjo03</td>\n",
       "      <td>1578</td>\n",
       "      <td>0.285</td>\n",
       "      <td>0.500</td>\n",
       "      <td>NaN</td>\n",
       "      <td>2</td>\n",
       "    </tr>\n",
       "    <tr>\n",
       "      <th>205</th>\n",
       "      <td>Trevor Ariza</td>\n",
       "      <td>arizatr01</td>\n",
       "      <td>4362</td>\n",
       "      <td>0.352</td>\n",
       "      <td>0.504</td>\n",
       "      <td>0.237</td>\n",
       "      <td>113</td>\n",
       "    </tr>\n",
       "    <tr>\n",
       "      <th>305</th>\n",
       "      <td>Wesley Johnson</td>\n",
       "      <td>johnswe01</td>\n",
       "      <td>1823</td>\n",
       "      <td>0.337</td>\n",
       "      <td>0.508</td>\n",
       "      <td>NaN</td>\n",
       "      <td>61</td>\n",
       "    </tr>\n",
       "    <tr>\n",
       "      <th>...</th>\n",
       "      <td>...</td>\n",
       "      <td>...</td>\n",
       "      <td>...</td>\n",
       "      <td>...</td>\n",
       "      <td>...</td>\n",
       "      <td>...</td>\n",
       "      <td>...</td>\n",
       "    </tr>\n",
       "    <tr>\n",
       "      <th>297</th>\n",
       "      <td>Luke Babbitt</td>\n",
       "      <td>babbilu01</td>\n",
       "      <td>979</td>\n",
       "      <td>0.402</td>\n",
       "      <td>0.893</td>\n",
       "      <td>0.421</td>\n",
       "      <td>393</td>\n",
       "    </tr>\n",
       "    <tr>\n",
       "      <th>315</th>\n",
       "      <td>Kyrie Irving</td>\n",
       "      <td>irvinky01</td>\n",
       "      <td>2870</td>\n",
       "      <td>0.390</td>\n",
       "      <td>0.901</td>\n",
       "      <td>0.462</td>\n",
       "      <td>71</td>\n",
       "    </tr>\n",
       "    <tr>\n",
       "      <th>240</th>\n",
       "      <td>JJ Redick</td>\n",
       "      <td>redicjj01</td>\n",
       "      <td>4526</td>\n",
       "      <td>0.416</td>\n",
       "      <td>0.912</td>\n",
       "      <td>0.406</td>\n",
       "      <td>726</td>\n",
       "    </tr>\n",
       "    <tr>\n",
       "      <th>239</th>\n",
       "      <td>Steve Novak</td>\n",
       "      <td>novakst01</td>\n",
       "      <td>1337</td>\n",
       "      <td>0.430</td>\n",
       "      <td>0.931</td>\n",
       "      <td>0.461</td>\n",
       "      <td>261</td>\n",
       "    </tr>\n",
       "    <tr>\n",
       "      <th>376</th>\n",
       "      <td>Tyler Johnson</td>\n",
       "      <td>johnsty01</td>\n",
       "      <td>1072</td>\n",
       "      <td>0.359</td>\n",
       "      <td>NaN</td>\n",
       "      <td>1.000</td>\n",
       "      <td>0</td>\n",
       "    </tr>\n",
       "  </tbody>\n",
       "</table>\n",
       "<p>409 rows × 7 columns</p>\n",
       "</div>"
      ],
      "text/plain": [
       "               name       slug  NBA_3PA  NBA_3P%  NCAA_FT%  NCAA_3P%  NCAA_FTA\n",
       "374      Joe Harris  harrijo01     1459    0.426     0.000     0.375         4\n",
       "371    Aaron Gordon  gordoaa01     1383    0.319     0.422     0.356       180\n",
       "214      Josh Smith  smithjo03     1578    0.285     0.500       NaN         2\n",
       "205    Trevor Ariza  arizatr01     4362    0.352     0.504     0.237       113\n",
       "305  Wesley Johnson  johnswe01     1823    0.337     0.508       NaN        61\n",
       "..              ...        ...      ...      ...       ...       ...       ...\n",
       "297    Luke Babbitt  babbilu01      979    0.402     0.893     0.421       393\n",
       "315    Kyrie Irving  irvinky01     2870    0.390     0.901     0.462        71\n",
       "240       JJ Redick  redicjj01     4526    0.416     0.912     0.406       726\n",
       "239     Steve Novak  novakst01     1337    0.430     0.931     0.461       261\n",
       "376   Tyler Johnson  johnsty01     1072    0.359       NaN     1.000         0\n",
       "\n",
       "[409 rows x 7 columns]"
      ]
     },
     "execution_count": 96,
     "metadata": {},
     "output_type": "execute_result"
    }
   ],
   "source": [
    "nba_ncaa_data_df.sort_values(by=['NCAA_FT%'])"
   ]
  },
  {
   "cell_type": "markdown",
   "metadata": {},
   "source": [
    "We have an outlier in Joe Harris and this is from a bug in error collection so we'll drop that row "
   ]
  },
  {
   "cell_type": "code",
   "execution_count": 97,
   "metadata": {},
   "outputs": [
    {
     "data": {
      "text/plain": [
       "0.39713533519150995"
      ]
     },
     "execution_count": 97,
     "metadata": {},
     "output_type": "execute_result"
    }
   ],
   "source": [
    "nba_ncaa_data_df = nba_ncaa_data_df.drop(374)\n",
    "nba_ncaa_data_df = nba_ncaa_data_df.dropna()\n",
    "nba_ncaa_data_df['NBA_3P%'].corr(nba_ncaa_data_df['NCAA_FT%'])"
   ]
  },
  {
   "cell_type": "markdown",
   "metadata": {},
   "source": [
    "A moderate to low correlation! Let's graph out our data and see what it looks like."
   ]
  },
  {
   "cell_type": "code",
   "execution_count": 101,
   "metadata": {},
   "outputs": [
    {
     "data": {
      "application/vnd.plotly.v1+json": {
       "config": {
        "plotlyServerURL": "https://plot.ly"
       },
       "data": [
        {
         "customdata": [
          [
           "Ray Allen"
          ],
          [
           "Rafer Alston"
          ],
          [
           "Derek Anderson"
          ],
          [
           "Kenny Anderson"
          ],
          [
           "Nick Anderson"
          ],
          [
           "Shandon Anderson"
          ],
          [
           "Greg Anthony"
          ],
          [
           "BJ Armstrong"
          ],
          [
           "Chucky Atkins"
          ],
          [
           "Dana Barros"
          ],
          [
           "Brent Barry"
          ],
          [
           "Jon Barry"
          ],
          [
           "Travis Best"
          ],
          [
           "Mike Bibby"
          ],
          [
           "Chauncey Billups"
          ],
          [
           "Mookie Blaylock"
          ],
          [
           "Bruce Bowen"
          ],
          [
           "Earl Boykins"
          ],
          [
           "Terrell Brandon"
          ],
          [
           "Dee Brown"
          ],
          [
           "Matt Bullard"
          ],
          [
           "Scott Burrell"
          ],
          [
           "Vince Carter"
          ],
          [
           "Sam Cassell"
          ],
          [
           "Cedric Ceballos"
          ],
          [
           "Rex Chapman"
          ],
          [
           "Chris Childs"
          ],
          [
           "Doug Christie"
          ],
          [
           "Derrick Coleman"
          ],
          [
           "Bimbo Coles"
          ],
          [
           "Austin Croshere"
          ],
          [
           "Dell Curry"
          ],
          [
           "Antonio Daniels"
          ],
          [
           "Baron Davis"
          ],
          [
           "Hubert Davis"
          ],
          [
           "Ricky Davis"
          ],
          [
           "Todd Day"
          ],
          [
           "Tony Delk"
          ],
          [
           "Howard Eisley"
          ],
          [
           "Sean Elliott"
          ],
          [
           "LaPhonso Ellis"
          ],
          [
           "Danny Ferry"
          ],
          [
           "Michael Finley"
          ],
          [
           "Derek Fisher"
          ],
          [
           "Rick Fox"
          ],
          [
           "Steve Francis"
          ],
          [
           "Pat Garrity"
          ],
          [
           "Kendall Gill"
          ],
          [
           "Richard Hamilton"
          ],
          [
           "Anfernee Hardaway"
          ],
          [
           "Tim Hardaway"
          ],
          [
           "Lucious Harris"
          ],
          [
           "Hersey Hawkins"
          ],
          [
           "Fred Hoiberg"
          ],
          [
           "Robert Horry"
          ],
          [
           "Allan Houston"
          ],
          [
           "Troy Hudson"
          ],
          [
           "Larry Hughes"
          ],
          [
           "Lindsey Hunter"
          ],
          [
           "Allen Iverson"
          ],
          [
           "Bobby Jackson"
          ],
          [
           "Jaren Jackson"
          ],
          [
           "Jim Jackson"
          ],
          [
           "Mark Jackson"
          ],
          [
           "Antawn Jamison"
          ],
          [
           "Anthony Johnson"
          ],
          [
           "Larry Johnson"
          ],
          [
           "Damon Jones"
          ],
          [
           "Eddie Jones"
          ],
          [
           "Jumaine Jones"
          ],
          [
           "Steve Kerr"
          ],
          [
           "Jason Kidd"
          ],
          [
           "Kerry Kittles"
          ],
          [
           "Raef LaFrentz"
          ],
          [
           "Voshon Lenard"
          ],
          [
           "Tyronn Lue"
          ],
          [
           "Sam Mack"
          ],
          [
           "Corey Maggette"
          ],
          [
           "Dan Majerle"
          ],
          [
           "Matt Maloney"
          ],
          [
           "Stephon Marbury"
          ],
          [
           "Shawn Marion"
          ],
          [
           "Donyell Marshall"
          ],
          [
           "Darrick Martin"
          ],
          [
           "Jamal Mashburn"
          ],
          [
           "Vernon Maxwell"
          ],
          [
           "Walter McCarty"
          ],
          [
           "George McCloud"
          ],
          [
           "Jeff McInnis"
          ],
          [
           "Aaron McKie"
          ],
          [
           "Andre Miller"
          ],
          [
           "Reggie Miller"
          ],
          [
           "Chris Mills"
          ],
          [
           "Terry Mills"
          ],
          [
           "Cuttino Mobley"
          ],
          [
           "Eric Murdock"
          ],
          [
           "Lamond Murray"
          ],
          [
           "Tracy Murray"
          ],
          [
           "Steve Nash"
          ],
          [
           "Lamar Odom"
          ],
          [
           "Anthony Parker"
          ],
          [
           "Gary Payton"
          ],
          [
           "Anthony Peeler"
          ],
          [
           "Sam Perkins"
          ],
          [
           "Wesley Person"
          ],
          [
           "Bobby Phills"
          ],
          [
           "Eric Piatkowski"
          ],
          [
           "Paul Pierce"
          ],
          [
           "James Posey"
          ],
          [
           "Brent Price"
          ],
          [
           "Glen Rice"
          ],
          [
           "Mitch Richmond"
          ],
          [
           "Isaiah Rider"
          ],
          [
           "Clifford Robinson"
          ],
          [
           "Glenn Robinson"
          ],
          [
           "Rodney Rogers"
          ],
          [
           "Jalen Rose"
          ],
          [
           "Bryon Russell"
          ],
          [
           "Dennis Scott"
          ],
          [
           "Brian Shaw"
          ],
          [
           "Steve Smith"
          ],
          [
           "Latrell Sprewell"
          ],
          [
           "Jerry Stackhouse"
          ],
          [
           "John Starks"
          ],
          [
           "Bryant Stith"
          ],
          [
           "Damon Stoudamire"
          ],
          [
           "Erick Strickland"
          ],
          [
           "Bob Sura"
          ],
          [
           "Wally Szczerbiak"
          ],
          [
           "Jason Terry"
          ],
          [
           "Tim Thomas"
          ],
          [
           "Nick Van Exel"
          ],
          [
           "Keith Van Horn"
          ],
          [
           "Antoine Walker"
          ],
          [
           "Rasheed Wallace"
          ],
          [
           "Charlie Ward"
          ],
          [
           "Chris Webber"
          ],
          [
           "David Wesley"
          ],
          [
           "Chris Whitney"
          ],
          [
           "Jason Williams"
          ],
          [
           "Walt Williams"
          ],
          [
           "Mahmoud Abdul-Rauf"
          ],
          [
           "Raja Bell"
          ],
          [
           "Jamal Crawford"
          ],
          [
           "Keyon Dooling"
          ],
          [
           "Eddie House"
          ],
          [
           "DerMarr Johnson"
          ],
          [
           "Mike Miller"
          ],
          [
           "Morris Peterson"
          ],
          [
           "Michael Redd"
          ],
          [
           "Quentin Richardson"
          ],
          [
           "James Robinson"
          ],
          [
           "Gilbert Arenas"
          ],
          [
           "Shane Battier"
          ],
          [
           "Charlie Bell"
          ],
          [
           "Maurice Evans"
          ],
          [
           "Eddie Griffin"
          ],
          [
           "Mike James"
          ],
          [
           "Richard Jefferson"
          ],
          [
           "Joe Johnson"
          ],
          [
           "Michael Jordan"
          ],
          [
           "Troy Murphy"
          ],
          [
           "Jason Richardson"
          ],
          [
           "Bobby Simmons"
          ],
          [
           "Jamaal Tinsley"
          ],
          [
           "Gerald Wallace"
          ],
          [
           "Earl Watson"
          ],
          [
           "Devin Brown"
          ],
          [
           "Caron Butler"
          ],
          [
           "Rasual Butler"
          ],
          [
           "Juan Dixon"
          ],
          [
           "Fred Jones"
          ],
          [
           "Roger Mason"
          ],
          [
           "Jannero Pargo"
          ],
          [
           "Smush Parker"
          ],
          [
           "Tayshaun Prince"
          ],
          [
           "Kareem Rush"
          ],
          [
           "John Salmons"
          ],
          [
           "Carmelo Anthony"
          ],
          [
           "Matt Barnes"
          ],
          [
           "Steve Blake"
          ],
          [
           "Keith Bogans"
          ],
          [
           "Chris Bosh"
          ],
          [
           "Matt Carroll"
          ],
          [
           "Willie Green"
          ],
          [
           "Jarvis Hayes"
          ],
          [
           "Kirk Hinrich"
          ],
          [
           "Josh Howard"
          ],
          [
           "James Jones"
          ],
          [
           "Jason Kapono"
          ],
          [
           "Kyle Korver"
          ],
          [
           "Luke Ridnour"
          ],
          [
           "Dwyane Wade"
          ],
          [
           "Mo Williams"
          ],
          [
           "Trevor Ariza"
          ],
          [
           "Matt Bonner"
          ],
          [
           "Luol Deng"
          ],
          [
           "Chris Duhon"
          ],
          [
           "Ben Gordon"
          ],
          [
           "Devin Harris"
          ],
          [
           "Andre Iguodala"
          ],
          [
           "Kevin Martin"
          ],
          [
           "Jameer Nelson"
          ],
          [
           "Delonte West"
          ],
          [
           "Alan Anderson"
          ],
          [
           "Raymond Felton"
          ],
          [
           "Channing Frye"
          ],
          [
           "Ryan Gomes"
          ],
          [
           "Danny Granger"
          ],
          [
           "Luther Head"
          ],
          [
           "Jarrett Jack"
          ],
          [
           "Linas Kleiza"
          ],
          [
           "Rashad McCants"
          ],
          [
           "Chris Paul"
          ],
          [
           "Ronnie Price"
          ],
          [
           "Nate Robinson"
          ],
          [
           "Charlie Villanueva"
          ],
          [
           "Deron Williams"
          ],
          [
           "Lou Williams"
          ],
          [
           "Marvin Williams"
          ],
          [
           "Shannon Brown"
          ],
          [
           "Jordan Farmar"
          ],
          [
           "Randy Foye"
          ],
          [
           "Rudy Gay"
          ],
          [
           "Daniel Gibson"
          ],
          [
           "Kyle Lowry"
          ],
          [
           "Paul Millsap"
          ],
          [
           "Steve Novak"
          ],
          [
           "JJ Redick"
          ],
          [
           "Rajon Rondo"
          ],
          [
           "Brandon Roy"
          ],
          [
           "PJ Tucker"
          ],
          [
           "Shawne Williams"
          ],
          [
           "Arron Afflalo"
          ],
          [
           "Corey Brewer"
          ],
          [
           "Aaron Brooks"
          ],
          [
           "Wilson Chandler"
          ],
          [
           "Mike Conley"
          ],
          [
           "Daequan Cook"
          ],
          [
           "Jared Dudley"
          ],
          [
           "Kevin Durant"
          ],
          [
           "Jeff Green"
          ],
          [
           "Spencer Hawes"
          ],
          [
           "Al Horford"
          ],
          [
           "Rodney Stuckey"
          ],
          [
           "CJ Watson"
          ],
          [
           "Nick Young"
          ],
          [
           "Thaddeus Young"
          ],
          [
           "Ryan Anderson"
          ],
          [
           "DJ Augustin"
          ],
          [
           "Jerryd Bayless"
          ],
          [
           "Michael Beasley"
          ],
          [
           "Mario Chalmers"
          ],
          [
           "Eric Gordon"
          ],
          [
           "George Hill"
          ],
          [
           "Courtney Lee"
          ],
          [
           "Brook Lopez"
          ],
          [
           "Kevin Love"
          ],
          [
           "OJ Mayo"
          ],
          [
           "Anthony Morrow"
          ],
          [
           "Derrick Rose"
          ],
          [
           "Brandon Rush"
          ],
          [
           "Anthony Tolliver"
          ],
          [
           "Russell Westbrook"
          ],
          [
           "Chase Budinger"
          ],
          [
           "DeMarre Carroll"
          ],
          [
           "Darren Collison"
          ],
          [
           "Stephen Curry"
          ],
          [
           "DeMar DeRozan"
          ],
          [
           "Toney Douglas"
          ],
          [
           "Wayne Ellington"
          ],
          [
           "Tyreke Evans"
          ],
          [
           "Danny Green"
          ],
          [
           "James Harden"
          ],
          [
           "Jrue Holiday"
          ],
          [
           "Brandon Jennings"
          ],
          [
           "James Johnson"
          ],
          [
           "Ty Lawson"
          ],
          [
           "Wesley Matthews"
          ],
          [
           "Jodie Meeks"
          ],
          [
           "Jeff Teague"
          ],
          [
           "Garrett Temple"
          ],
          [
           "Marcus Thornton"
          ],
          [
           "Al-Farouq Aminu"
          ],
          [
           "Luke Babbitt"
          ],
          [
           "Eric Bledsoe"
          ],
          [
           "Avery Bradley"
          ],
          [
           "DeMarcus Cousins"
          ],
          [
           "Jordan Crawford"
          ],
          [
           "Paul George"
          ],
          [
           "Blake Griffin"
          ],
          [
           "Gordon Hayward"
          ],
          [
           "Jeremy Lin"
          ],
          [
           "Gary Neal"
          ],
          [
           "Patrick Patterson"
          ],
          [
           "Lance Stephenson"
          ],
          [
           "Evan Turner"
          ],
          [
           "John Wall"
          ],
          [
           "Alec Burks"
          ],
          [
           "Jimmy Butler"
          ],
          [
           "Tobias Harris"
          ],
          [
           "Kyrie Irving"
          ],
          [
           "Reggie Jackson"
          ],
          [
           "Cory Joseph"
          ],
          [
           "Brandon Knight"
          ],
          [
           "Kawhi Leonard"
          ],
          [
           "Shelvin Mack"
          ],
          [
           "Marcus Morris"
          ],
          [
           "Markieff Morris"
          ],
          [
           "Chandler Parsons"
          ],
          [
           "Iman Shumpert"
          ],
          [
           "Isaiah Thomas"
          ],
          [
           "Klay Thompson"
          ],
          [
           "Kemba Walker"
          ],
          [
           "Derrick Williams"
          ],
          [
           "Harrison Barnes"
          ],
          [
           "Will Barton"
          ],
          [
           "Kent Bazemore"
          ],
          [
           "Bradley Beal"
          ],
          [
           "Patrick Beverley"
          ],
          [
           "Jae Crowder"
          ],
          [
           "Anthony Davis"
          ],
          [
           "Draymond Green"
          ],
          [
           "Maurice Harkless"
          ],
          [
           "Justin Holiday"
          ],
          [
           "Jeremy Lamb"
          ],
          [
           "Meyers Leonard"
          ],
          [
           "Damian Lillard"
          ],
          [
           "Khris Middleton"
          ],
          [
           "Darius Miller"
          ],
          [
           "Austin Rivers"
          ],
          [
           "Terrence Ross"
          ],
          [
           "Mike Scott"
          ],
          [
           "Kyle Singler"
          ],
          [
           "Dion Waiters"
          ],
          [
           "Reggie Bullock"
          ],
          [
           "Trey Burke"
          ],
          [
           "Kentavious Caldwell-Pope"
          ],
          [
           "Isaiah Canaan"
          ],
          [
           "Robert Covington"
          ],
          [
           "Allen Crabbe"
          ],
          [
           "Seth Curry"
          ],
          [
           "Troy Daniels"
          ],
          [
           "Matthew Dellavedova"
          ],
          [
           "Tim Hardaway Jr"
          ],
          [
           "Solomon Hill"
          ],
          [
           "CJ McCollum"
          ],
          [
           "Ben McLemore"
          ],
          [
           "Victor Oladipo"
          ],
          [
           "Kelly Olynyk"
          ],
          [
           "Otto Porter"
          ],
          [
           "Tony Snell"
          ],
          [
           "Hollis Thompson"
          ],
          [
           "Jordan Clarkson"
          ],
          [
           "Spencer Dinwiddie"
          ],
          [
           "James Ennis"
          ],
          [
           "Langston Galloway"
          ],
          [
           "Aaron Gordon"
          ],
          [
           "Jerami Grant"
          ],
          [
           "Gary Harris"
          ],
          [
           "Rodney Hood"
          ],
          [
           "Zach LaVine"
          ],
          [
           "Doug McDermott"
          ],
          [
           "Shabazz Napier"
          ],
          [
           "Marcus Smart"
          ],
          [
           "Nik Stauskas"
          ],
          [
           "Andrew Wiggins"
          ],
          [
           "Devin Booker"
          ],
          [
           "Stanley Johnson"
          ],
          [
           "Frank Kaminsky"
          ],
          [
           "Trey Lyles"
          ],
          [
           "Norman Powell"
          ],
          [
           "Josh Richardson"
          ],
          [
           "Terry Rozier"
          ],
          [
           "Karl-Anthony Towns"
          ],
          [
           "Malik Beasley"
          ],
          [
           "Malcolm Brogdon"
          ],
          [
           "Jaylen Brown"
          ],
          [
           "Dorian Finney-Smith"
          ],
          [
           "Bryn Forbes"
          ],
          [
           "Buddy Hield"
          ],
          [
           "Brandon Ingram"
          ],
          [
           "Caris LeVert"
          ],
          [
           "Jamal Murray"
          ],
          [
           "Taurean Prince"
          ],
          [
           "Lonzo Ball"
          ],
          [
           "Josh Hart"
          ],
          [
           "Kyle Kuzma"
          ],
          [
           "Lauri Markkanen"
          ],
          [
           "Donovan Mitchell"
          ],
          [
           "Malik Monk"
          ],
          [
           "Jayson Tatum"
          ],
          [
           "Trae Young"
          ]
         ],
         "hovertemplate": "NCAA_FT%=%{x}<br>NBA_3P%=%{y}<br>NBA_3PA=%{marker.size}<br>name=%{customdata[0]}<br>NCAA_FTA=%{marker.color}<extra></extra>",
         "legendgroup": "",
         "marker": {
          "color": [
           358,
           66,
           399,
           333,
           268,
           484,
           547,
           485,
           438,
           479,
           378,
           272,
           486,
           270,
           357,
           214,
           495,
           638,
           316,
           320,
           306,
           478,
           292,
           304,
           389,
           170,
           439,
           478,
           858,
           793,
           458,
           437,
           534,
           268,
           371,
           129,
           668,
           340,
           476,
           786,
           468,
           551,
           593,
           534,
           375,
           157,
           655,
           375,
           505,
           364,
           522,
           755,
           856,
           552,
           430,
           767,
           201,
           260,
           508,
           567,
           248,
           220,
           422,
           465,
           635,
           309,
           460,
           193,
           324,
           289,
           276,
           303,
           449,
           566,
           475,
           396,
           297,
           155,
           662,
           208,
           164,
           111,
           488,
           419,
           495,
           706,
           244,
           405,
           256,
           438,
           568,
           584,
           450,
           277,
           312,
           610,
           422,
           416,
           427,
           182,
           587,
           491,
           670,
           705,
           348,
           383,
           489,
           531,
           557,
           517,
           380,
           395,
           323,
           630,
           475,
           434,
           550,
           363,
           355,
           257,
           614,
           215,
           465,
           136,
           875,
           434,
           434,
           696,
           372,
           371,
           152,
           221,
           651,
           203,
           232,
           220,
           296,
           441,
           179,
           145,
           504,
           410,
           434,
           51,
           277,
           336,
           95,
           284,
           426,
           547,
           302,
           462,
           282,
           561,
           390,
           387,
           109,
           336,
           298,
           170,
           420,
           755,
           148,
           429,
           336,
           155,
           428,
           652,
           370,
           409,
           501,
           483,
           366,
           122,
           137,
           370,
           332,
           389,
           238,
           355,
           271,
           475,
           174,
           355,
           477,
           263,
           371,
           511,
           366,
           458,
           350,
           389,
           404,
           215,
           113,
           331,
           138,
           349,
           464,
           465,
           206,
           635,
           584,
           267,
           456,
           353,
           486,
           620,
           598,
           242,
           452,
           297,
           377,
           365,
           453,
           333,
           204,
           216,
           14,
           163,
           290,
           263,
           498,
           244,
           232,
           228,
           623,
           261,
           726,
           222,
           468,
           409,
           145,
           375,
           384,
           367,
           176,
           144,
           66,
           784,
           256,
           400,
           98,
           444,
           479,
           516,
           373,
           70,
           328,
           400,
           223,
           279,
           356,
           277,
           582,
           476,
           259,
           258,
           152,
           226,
           205,
           273,
           410,
           181,
           395,
           466,
           410,
           547,
           147,
           576,
           288,
           194,
           239,
           494,
           62,
           35,
           443,
           432,
           687,
           336,
           361,
           258,
           315,
           351,
           393,
           123,
           66,
           268,
           217,
           264,
           521,
           340,
           495,
           624,
           417,
           119,
           508,
           232,
           495,
           596,
           170,
           71,
           296,
           73,
           171,
           262,
           372,
           471,
           311,
           401,
           381,
           630,
           382,
           640,
           91,
           319,
           262,
           489,
           173,
           270,
           287,
           412,
           495,
           139,
           125,
           180,
           144,
           600,
           272,
           227,
           184,
           127,
           155,
           643,
           166,
           46,
           291,
           250,
           593,
           399,
           320,
           498,
           87,
           541,
           381,
           458,
           739,
           138,
           359,
           285,
           241,
           201,
           170,
           487,
           506,
           241,
           407,
           180,
           251,
           240,
           176,
           68,
           715,
           626,
           465,
           291,
           227,
           368,
           178,
           389,
           102,
           347,
           100,
           228,
           134,
           128,
           482,
           217,
           432,
           351,
           450,
           170,
           265,
           152,
           355,
           98,
           500,
           270,
           164,
           165,
           180,
           139,
           274
          ],
          "coloraxis": "coloraxis",
          "size": [
           7429,
           2815,
           1891,
           1580,
           2964,
           972,
           1748,
           1026,
           2565,
           2652,
           3442,
           1676,
           772,
           3999,
           4725,
           3816,
           2082,
           1104,
           1110,
           1697,
           1561,
           909,
           6168,
           2029,
           760,
           2301,
           1082,
           2272,
           1105,
           943,
           1262,
           3098,
           1154,
           4159,
           1651,
           1614,
           1646,
           1376,
           1474,
           1572,
           797,
           1724,
           3880,
           3341,
           2208,
           1684,
           1587,
           1051,
           1530,
           1591,
           4345,
           1155,
           3108,
           941,
           2329,
           3247,
           1333,
           1696,
           2984,
           3383,
           1947,
           980,
           2413,
           2213,
           3365,
           933,
           1104,
           2414,
           4147,
           1218,
           1599,
           5701,
           1838,
           1315,
           2437,
           1175,
           879,
           1431,
           3798,
           1073,
           3048,
           2390,
           2578,
           1030,
           2226,
           3931,
           1318,
           2573,
           929,
           1109,
           888,
           6486,
           1251,
           1387,
           2867,
           863,
           1466,
           1942,
           3939,
           2126,
           1474,
           3570,
           2445,
           2348,
           2754,
           878,
           2168,
           5816,
           2967,
           938,
           3896,
           3417,
           1896,
           3515,
           1823,
           1986,
           2102,
           1856,
           3060,
           1416,
           3208,
           3272,
           3202,
           3591,
           931,
           3464,
           1151,
           1303,
           1453,
           6010,
           2609,
           4278,
           1655,
           4264,
           3228,
           1754,
           883,
           3051,
           1528,
           3784,
           2575,
           1339,
           2357,
           6379,
           1277,
           2096,
           815,
           3910,
           2702,
           2751,
           3288,
           1151,
           3077,
           3254,
           1213,
           1172,
           752,
           1813,
           2769,
           5331,
           1778,
           1578,
           4344,
           955,
           1326,
           1303,
           1551,
           888,
           2144,
           2520,
           972,
           979,
           1549,
           1124,
           838,
           1550,
           805,
           1986,
           4151,
           2931,
           2709,
           2020,
           910,
           896,
           1494,
           1101,
           3122,
           1029,
           1937,
           1054,
           5715,
           1674,
           1874,
           2891,
           4362,
           1923,
           1982,
           1788,
           2921,
           2558,
           3013,
           2969,
           3134,
           1012,
           963,
           2813,
           2706,
           956,
           2644,
           1162,
           1809,
           1154,
           793,
           3730,
           808,
           2255,
           2101,
           3296,
           3871,
           2894,
           831,
           1559,
           3017,
           2818,
           1419,
           4636,
           1410,
           1337,
           4526,
           1207,
           925,
           1911,
           812,
           2205,
           1774,
           2218,
           2560,
           3150,
           1232,
           2241,
           4122,
           2795,
           1026,
           1275,
           921,
           1263,
           2764,
           1459,
           3491,
           2930,
           1382,
           835,
           2153,
           4201,
           2499,
           2259,
           1580,
           3302,
           2287,
           1937,
           1541,
           1300,
           2306,
           3208,
           1172,
           1839,
           1610,
           5739,
           1208,
           1256,
           2689,
           1548,
           3205,
           6394,
           2616,
           2648,
           1046,
           1319,
           4367,
           2078,
           1886,
           1626,
           2051,
           1597,
           979,
           2027,
           2042,
           1031,
           1041,
           4172,
           1223,
           2327,
           1313,
           1203,
           1597,
           1099,
           917,
           1663,
           1114,
           1514,
           2244,
           2870,
           1955,
           883,
           2012,
           1997,
           916,
           2449,
           1534,
           1844,
           1447,
           2781,
           4291,
           4062,
           838,
           2028,
           1649,
           1683,
           3268,
           1820,
           2565,
           794,
           1632,
           997,
           1748,
           1457,
           831,
           4764,
           2303,
           856,
           1757,
           2887,
           1210,
           826,
           1660,
           1030,
           1391,
           2524,
           1042,
           2606,
           1596,
           1007,
           1404,
           1075,
           2671,
           868,
           2563,
           1695,
           1862,
           1524,
           1364,
           1611,
           941,
           1973,
           1379,
           768,
           1637,
           1383,
           1073,
           1501,
           1566,
           1721,
           1224,
           1000,
           1835,
           1121,
           1625,
           1890,
           832,
           1093,
           918,
           891,
           1387,
           1368,
           1280,
           791,
           828,
           1055,
           815,
           1075,
           2126,
           770,
           803,
           1518,
           1305,
           918,
           825,
           1128,
           1050,
           1542,
           777,
           1022,
           1050
          ],
          "sizemode": "area",
          "sizeref": 18.5725,
          "symbol": "circle"
         },
         "mode": "markers",
         "name": "",
         "orientation": "v",
         "showlegend": false,
         "type": "scatter",
         "x": [
          0.779,
          0.758,
          0.805,
          0.787,
          0.657,
          0.634,
          0.707,
          0.831,
          0.737,
          0.841,
          0.794,
          0.717,
          0.809,
          0.73,
          0.857,
          0.668,
          0.695,
          0.803,
          0.81,
          0.763,
          0.768,
          0.64,
          0.705,
          0.734,
          0.671,
          0.771,
          0.818,
          0.747,
          0.684,
          0.748,
          0.843,
          0.785,
          0.758,
          0.631,
          0.819,
          0.698,
          0.747,
          0.709,
          0.784,
          0.793,
          0.675,
          0.775,
          0.769,
          0.747,
          0.757,
          0.79,
          0.747,
          0.755,
          0.826,
          0.717,
          0.718,
          0.727,
          0.806,
          0.844,
          0.742,
          0.849,
          0.806,
          0.692,
          0.709,
          0.683,
          0.786,
          0.709,
          0.784,
          0.751,
          0.617,
          0.725,
          0.789,
          0.668,
          0.614,
          0.751,
          0.815,
          0.677,
          0.719,
          0.712,
          0.802,
          0.788,
          0.751,
          0.716,
          0.631,
          0.793,
          0.738,
          0.73,
          0.77,
          0.754,
          0.697,
          0.715,
          0.684,
          0.778,
          0.719,
          0.79,
          0.676,
          0.836,
          0.767,
          0.755,
          0.821,
          0.784,
          0.713,
          0.791,
          0.867,
          0.687,
          0.75,
          0.684,
          0.779,
          0.796,
          0.747,
          0.71,
          0.777,
          0.697,
          0.808,
          0.818,
          0.797,
          0.77,
          0.805,
          0.641,
          0.773,
          0.694,
          0.738,
          0.683,
          0.777,
          0.728,
          0.756,
          0.74,
          0.72,
          0.838,
          0.789,
          0.804,
          0.776,
          0.652,
          0.809,
          0.784,
          0.796,
          0.701,
          0.851,
          0.66,
          0.621,
          0.636,
          0.53,
          0.828,
          0.788,
          0.793,
          0.762,
          0.863,
          0.73,
          0.784,
          0.733,
          0.798,
          0.737,
          0.718,
          0.746,
          0.649,
          0.728,
          0.697,
          0.738,
          0.777,
          0.782,
          0.752,
          0.734,
          0.726,
          0.718,
          0.753,
          0.748,
          0.777,
          0.649,
          0.783,
          0.685,
          0.568,
          0.654,
          0.733,
          0.768,
          0.829,
          0.85,
          0.805,
          0.869,
          0.82,
          0.73,
          0.743,
          0.777,
          0.805,
          0.706,
          0.566,
          0.771,
          0.688,
          0.73,
          0.825,
          0.757,
          0.772,
          0.776,
          0.708,
          0.831,
          0.83,
          0.891,
          0.859,
          0.745,
          0.847,
          0.504,
          0.74,
          0.71,
          0.693,
          0.795,
          0.778,
          0.738,
          0.841,
          0.786,
          0.831,
          0.831,
          0.731,
          0.759,
          0.789,
          0.753,
          0.752,
          0.796,
          0.707,
          0.721,
          0.838,
          0.788,
          0.793,
          0.681,
          0.685,
          0.643,
          0.847,
          0.831,
          0.76,
          0.781,
          0.721,
          0.741,
          0.737,
          0.62,
          0.931,
          0.912,
          0.577,
          0.765,
          0.711,
          0.786,
          0.781,
          0.708,
          0.834,
          0.659,
          0.694,
          0.697,
          0.731,
          0.816,
          0.7,
          0.755,
          0.619,
          0.806,
          0.777,
          0.764,
          0.743,
          0.841,
          0.808,
          0.839,
          0.774,
          0.767,
          0.834,
          0.785,
          0.817,
          0.764,
          0.767,
          0.803,
          0.867,
          0.712,
          0.733,
          0.671,
          0.685,
          0.782,
          0.603,
          0.851,
          0.876,
          0.646,
          0.802,
          0.809,
          0.711,
          0.845,
          0.755,
          0.726,
          0.771,
          0.792,
          0.78,
          0.799,
          0.89,
          0.812,
          0.783,
          0.771,
          0.687,
          0.893,
          0.667,
          0.545,
          0.604,
          0.765,
          0.803,
          0.589,
          0.824,
          0.733,
          0.827,
          0.734,
          0.664,
          0.758,
          0.754,
          0.804,
          0.773,
          0.753,
          0.901,
          0.753,
          0.699,
          0.795,
          0.744,
          0.755,
          0.66,
          0.653,
          0.611,
          0.738,
          0.713,
          0.827,
          0.783,
          0.813,
          0.734,
          0.733,
          0.581,
          0.769,
          0.73,
          0.683,
          0.728,
          0.687,
          0.676,
          0.736,
          0.806,
          0.729,
          0.867,
          0.768,
          0.815,
          0.658,
          0.764,
          0.677,
          0.773,
          0.753,
          0.522,
          0.777,
          0.752,
          0.803,
          0.802,
          0.819,
          0.827,
          0.782,
          0.86,
          0.724,
          0.745,
          0.825,
          0.87,
          0.716,
          0.709,
          0.751,
          0.821,
          0.676,
          0.805,
          0.83,
          0.788,
          0.821,
          0.422,
          0.641,
          0.788,
          0.773,
          0.691,
          0.831,
          0.813,
          0.751,
          0.832,
          0.775,
          0.658,
          0.742,
          0.763,
          0.735,
          0.746,
          0.56,
          0.772,
          0.813,
          0.813,
          0.876,
          0.654,
          0.657,
          0.821,
          0.836,
          0.682,
          0.77,
          0.783,
          0.718,
          0.673,
          0.72,
          0.633,
          0.835,
          0.788,
          0.822,
          0.849,
          0.861
         ],
         "xaxis": "x",
         "y": [
          0.4,
          0.354,
          0.341,
          0.346,
          0.356,
          0.316,
          0.349,
          0.425,
          0.364,
          0.411,
          0.405,
          0.392,
          0.345,
          0.379,
          0.387,
          0.336,
          0.393,
          0.348,
          0.355,
          0.357,
          0.384,
          0.373,
          0.371,
          0.331,
          0.309,
          0.35,
          0.344,
          0.354,
          0.295,
          0.267,
          0.34,
          0.402,
          0.311,
          0.32,
          0.441,
          0.361,
          0.345,
          0.343,
          0.35,
          0.375,
          0.302,
          0.393,
          0.375,
          0.374,
          0.349,
          0.341,
          0.398,
          0.3,
          0.346,
          0.316,
          0.355,
          0.348,
          0.394,
          0.396,
          0.341,
          0.402,
          0.339,
          0.309,
          0.36,
          0.313,
          0.354,
          0.353,
          0.365,
          0.332,
          0.346,
          0.356,
          0.332,
          0.39,
          0.373,
          0.349,
          0.454,
          0.349,
          0.378,
          0.363,
          0.384,
          0.391,
          0.374,
          0.324,
          0.358,
          0.372,
          0.325,
          0.331,
          0.35,
          0.34,
          0.345,
          0.32,
          0.346,
          0.358,
          0.328,
          0.35,
          0.217,
          0.395,
          0.351,
          0.384,
          0.378,
          0.343,
          0.36,
          0.388,
          0.428,
          0.312,
          0.404,
          0.317,
          0.384,
          0.362,
          0.418,
          0.39,
          0.399,
          0.368,
          0.349,
          0.387,
          0.4,
          0.388,
          0.352,
          0.356,
          0.34,
          0.347,
          0.355,
          0.369,
          0.397,
          0.304,
          0.358,
          0.337,
          0.309,
          0.34,
          0.329,
          0.357,
          0.351,
          0.325,
          0.406,
          0.38,
          0.369,
          0.357,
          0.361,
          0.325,
          0.336,
          0.364,
          0.299,
          0.368,
          0.361,
          0.327,
          0.379,
          0.354,
          0.406,
          0.348,
          0.349,
          0.39,
          0.336,
          0.407,
          0.373,
          0.38,
          0.355,
          0.348,
          0.351,
          0.384,
          0.361,
          0.363,
          0.315,
          0.379,
          0.376,
          0.371,
          0.327,
          0.388,
          0.37,
          0.396,
          0.299,
          0.312,
          0.324,
          0.338,
          0.348,
          0.362,
          0.341,
          0.353,
          0.383,
          0.356,
          0.345,
          0.367,
          0.358,
          0.366,
          0.349,
          0.335,
          0.383,
          0.353,
          0.335,
          0.384,
          0.346,
          0.356,
          0.375,
          0.332,
          0.401,
          0.434,
          0.429,
          0.349,
          0.293,
          0.378,
          0.352,
          0.414,
          0.332,
          0.363,
          0.401,
          0.325,
          0.333,
          0.384,
          0.368,
          0.372,
          0.344,
          0.329,
          0.388,
          0.349,
          0.38,
          0.388,
          0.343,
          0.335,
          0.368,
          0.37,
          0.302,
          0.36,
          0.341,
          0.357,
          0.349,
          0.361,
          0.332,
          0.374,
          0.366,
          0.347,
          0.407,
          0.366,
          0.343,
          0.43,
          0.416,
          0.316,
          0.348,
          0.361,
          0.339,
          0.386,
          0.284,
          0.37,
          0.341,
          0.375,
          0.359,
          0.393,
          0.381,
          0.334,
          0.35,
          0.364,
          0.3,
          0.373,
          0.376,
          0.333,
          0.38,
          0.379,
          0.361,
          0.349,
          0.351,
          0.37,
          0.384,
          0.388,
          0.341,
          0.37,
          0.373,
          0.417,
          0.304,
          0.402,
          0.373,
          0.305,
          0.352,
          0.358,
          0.394,
          0.435,
          0.282,
          0.354,
          0.378,
          0.323,
          0.4,
          0.363,
          0.354,
          0.345,
          0.31,
          0.359,
          0.381,
          0.373,
          0.356,
          0.347,
          0.358,
          0.335,
          0.402,
          0.336,
          0.364,
          0.332,
          0.317,
          0.381,
          0.333,
          0.366,
          0.342,
          0.382,
          0.369,
          0.315,
          0.294,
          0.324,
          0.364,
          0.333,
          0.365,
          0.39,
          0.337,
          0.332,
          0.353,
          0.383,
          0.33,
          0.367,
          0.345,
          0.373,
          0.338,
          0.364,
          0.419,
          0.36,
          0.3,
          0.375,
          0.347,
          0.351,
          0.38,
          0.381,
          0.34,
          0.319,
          0.319,
          0.325,
          0.36,
          0.339,
          0.39,
          0.373,
          0.392,
          0.382,
          0.348,
          0.37,
          0.364,
          0.362,
          0.346,
          0.385,
          0.345,
          0.349,
          0.351,
          0.356,
          0.387,
          0.443,
          0.395,
          0.368,
          0.353,
          0.336,
          0.397,
          0.366,
          0.35,
          0.373,
          0.404,
          0.385,
          0.386,
          0.342,
          0.318,
          0.35,
          0.367,
          0.319,
          0.347,
          0.36,
          0.372,
          0.375,
          0.412,
          0.345,
          0.318,
          0.353,
          0.332,
          0.354,
          0.293,
          0.347,
          0.341,
          0.361,
          0.363,
          0.371,
          0.396,
          0.388,
          0.385,
          0.371,
          0.33,
          0.4,
          0.411,
          0.36,
          0.339,
          0.358,
          0.366,
          0.341,
          0.353,
          0.331,
          0.356,
          0.355,
          0.322,
          0.401,
          0.344
         ],
         "yaxis": "y"
        }
       ],
       "layout": {
        "coloraxis": {
         "colorbar": {
          "title": {
           "text": "NCAA_FTA"
          }
         },
         "colorscale": [
          [
           0,
           "#0d0887"
          ],
          [
           0.1111111111111111,
           "#46039f"
          ],
          [
           0.2222222222222222,
           "#7201a8"
          ],
          [
           0.3333333333333333,
           "#9c179e"
          ],
          [
           0.4444444444444444,
           "#bd3786"
          ],
          [
           0.5555555555555556,
           "#d8576b"
          ],
          [
           0.6666666666666666,
           "#ed7953"
          ],
          [
           0.7777777777777778,
           "#fb9f3a"
          ],
          [
           0.8888888888888888,
           "#fdca26"
          ],
          [
           1,
           "#f0f921"
          ]
         ]
        },
        "legend": {
         "itemsizing": "constant",
         "tracegroupgap": 0
        },
        "margin": {
         "t": 60
        },
        "template": {
         "data": {
          "bar": [
           {
            "error_x": {
             "color": "#2a3f5f"
            },
            "error_y": {
             "color": "#2a3f5f"
            },
            "marker": {
             "line": {
              "color": "#E5ECF6",
              "width": 0.5
             }
            },
            "type": "bar"
           }
          ],
          "barpolar": [
           {
            "marker": {
             "line": {
              "color": "#E5ECF6",
              "width": 0.5
             }
            },
            "type": "barpolar"
           }
          ],
          "carpet": [
           {
            "aaxis": {
             "endlinecolor": "#2a3f5f",
             "gridcolor": "white",
             "linecolor": "white",
             "minorgridcolor": "white",
             "startlinecolor": "#2a3f5f"
            },
            "baxis": {
             "endlinecolor": "#2a3f5f",
             "gridcolor": "white",
             "linecolor": "white",
             "minorgridcolor": "white",
             "startlinecolor": "#2a3f5f"
            },
            "type": "carpet"
           }
          ],
          "choropleth": [
           {
            "colorbar": {
             "outlinewidth": 0,
             "ticks": ""
            },
            "type": "choropleth"
           }
          ],
          "contour": [
           {
            "colorbar": {
             "outlinewidth": 0,
             "ticks": ""
            },
            "colorscale": [
             [
              0,
              "#0d0887"
             ],
             [
              0.1111111111111111,
              "#46039f"
             ],
             [
              0.2222222222222222,
              "#7201a8"
             ],
             [
              0.3333333333333333,
              "#9c179e"
             ],
             [
              0.4444444444444444,
              "#bd3786"
             ],
             [
              0.5555555555555556,
              "#d8576b"
             ],
             [
              0.6666666666666666,
              "#ed7953"
             ],
             [
              0.7777777777777778,
              "#fb9f3a"
             ],
             [
              0.8888888888888888,
              "#fdca26"
             ],
             [
              1,
              "#f0f921"
             ]
            ],
            "type": "contour"
           }
          ],
          "contourcarpet": [
           {
            "colorbar": {
             "outlinewidth": 0,
             "ticks": ""
            },
            "type": "contourcarpet"
           }
          ],
          "heatmap": [
           {
            "colorbar": {
             "outlinewidth": 0,
             "ticks": ""
            },
            "colorscale": [
             [
              0,
              "#0d0887"
             ],
             [
              0.1111111111111111,
              "#46039f"
             ],
             [
              0.2222222222222222,
              "#7201a8"
             ],
             [
              0.3333333333333333,
              "#9c179e"
             ],
             [
              0.4444444444444444,
              "#bd3786"
             ],
             [
              0.5555555555555556,
              "#d8576b"
             ],
             [
              0.6666666666666666,
              "#ed7953"
             ],
             [
              0.7777777777777778,
              "#fb9f3a"
             ],
             [
              0.8888888888888888,
              "#fdca26"
             ],
             [
              1,
              "#f0f921"
             ]
            ],
            "type": "heatmap"
           }
          ],
          "heatmapgl": [
           {
            "colorbar": {
             "outlinewidth": 0,
             "ticks": ""
            },
            "colorscale": [
             [
              0,
              "#0d0887"
             ],
             [
              0.1111111111111111,
              "#46039f"
             ],
             [
              0.2222222222222222,
              "#7201a8"
             ],
             [
              0.3333333333333333,
              "#9c179e"
             ],
             [
              0.4444444444444444,
              "#bd3786"
             ],
             [
              0.5555555555555556,
              "#d8576b"
             ],
             [
              0.6666666666666666,
              "#ed7953"
             ],
             [
              0.7777777777777778,
              "#fb9f3a"
             ],
             [
              0.8888888888888888,
              "#fdca26"
             ],
             [
              1,
              "#f0f921"
             ]
            ],
            "type": "heatmapgl"
           }
          ],
          "histogram": [
           {
            "marker": {
             "colorbar": {
              "outlinewidth": 0,
              "ticks": ""
             }
            },
            "type": "histogram"
           }
          ],
          "histogram2d": [
           {
            "colorbar": {
             "outlinewidth": 0,
             "ticks": ""
            },
            "colorscale": [
             [
              0,
              "#0d0887"
             ],
             [
              0.1111111111111111,
              "#46039f"
             ],
             [
              0.2222222222222222,
              "#7201a8"
             ],
             [
              0.3333333333333333,
              "#9c179e"
             ],
             [
              0.4444444444444444,
              "#bd3786"
             ],
             [
              0.5555555555555556,
              "#d8576b"
             ],
             [
              0.6666666666666666,
              "#ed7953"
             ],
             [
              0.7777777777777778,
              "#fb9f3a"
             ],
             [
              0.8888888888888888,
              "#fdca26"
             ],
             [
              1,
              "#f0f921"
             ]
            ],
            "type": "histogram2d"
           }
          ],
          "histogram2dcontour": [
           {
            "colorbar": {
             "outlinewidth": 0,
             "ticks": ""
            },
            "colorscale": [
             [
              0,
              "#0d0887"
             ],
             [
              0.1111111111111111,
              "#46039f"
             ],
             [
              0.2222222222222222,
              "#7201a8"
             ],
             [
              0.3333333333333333,
              "#9c179e"
             ],
             [
              0.4444444444444444,
              "#bd3786"
             ],
             [
              0.5555555555555556,
              "#d8576b"
             ],
             [
              0.6666666666666666,
              "#ed7953"
             ],
             [
              0.7777777777777778,
              "#fb9f3a"
             ],
             [
              0.8888888888888888,
              "#fdca26"
             ],
             [
              1,
              "#f0f921"
             ]
            ],
            "type": "histogram2dcontour"
           }
          ],
          "mesh3d": [
           {
            "colorbar": {
             "outlinewidth": 0,
             "ticks": ""
            },
            "type": "mesh3d"
           }
          ],
          "parcoords": [
           {
            "line": {
             "colorbar": {
              "outlinewidth": 0,
              "ticks": ""
             }
            },
            "type": "parcoords"
           }
          ],
          "pie": [
           {
            "automargin": true,
            "type": "pie"
           }
          ],
          "scatter": [
           {
            "marker": {
             "colorbar": {
              "outlinewidth": 0,
              "ticks": ""
             }
            },
            "type": "scatter"
           }
          ],
          "scatter3d": [
           {
            "line": {
             "colorbar": {
              "outlinewidth": 0,
              "ticks": ""
             }
            },
            "marker": {
             "colorbar": {
              "outlinewidth": 0,
              "ticks": ""
             }
            },
            "type": "scatter3d"
           }
          ],
          "scattercarpet": [
           {
            "marker": {
             "colorbar": {
              "outlinewidth": 0,
              "ticks": ""
             }
            },
            "type": "scattercarpet"
           }
          ],
          "scattergeo": [
           {
            "marker": {
             "colorbar": {
              "outlinewidth": 0,
              "ticks": ""
             }
            },
            "type": "scattergeo"
           }
          ],
          "scattergl": [
           {
            "marker": {
             "colorbar": {
              "outlinewidth": 0,
              "ticks": ""
             }
            },
            "type": "scattergl"
           }
          ],
          "scattermapbox": [
           {
            "marker": {
             "colorbar": {
              "outlinewidth": 0,
              "ticks": ""
             }
            },
            "type": "scattermapbox"
           }
          ],
          "scatterpolar": [
           {
            "marker": {
             "colorbar": {
              "outlinewidth": 0,
              "ticks": ""
             }
            },
            "type": "scatterpolar"
           }
          ],
          "scatterpolargl": [
           {
            "marker": {
             "colorbar": {
              "outlinewidth": 0,
              "ticks": ""
             }
            },
            "type": "scatterpolargl"
           }
          ],
          "scatterternary": [
           {
            "marker": {
             "colorbar": {
              "outlinewidth": 0,
              "ticks": ""
             }
            },
            "type": "scatterternary"
           }
          ],
          "surface": [
           {
            "colorbar": {
             "outlinewidth": 0,
             "ticks": ""
            },
            "colorscale": [
             [
              0,
              "#0d0887"
             ],
             [
              0.1111111111111111,
              "#46039f"
             ],
             [
              0.2222222222222222,
              "#7201a8"
             ],
             [
              0.3333333333333333,
              "#9c179e"
             ],
             [
              0.4444444444444444,
              "#bd3786"
             ],
             [
              0.5555555555555556,
              "#d8576b"
             ],
             [
              0.6666666666666666,
              "#ed7953"
             ],
             [
              0.7777777777777778,
              "#fb9f3a"
             ],
             [
              0.8888888888888888,
              "#fdca26"
             ],
             [
              1,
              "#f0f921"
             ]
            ],
            "type": "surface"
           }
          ],
          "table": [
           {
            "cells": {
             "fill": {
              "color": "#EBF0F8"
             },
             "line": {
              "color": "white"
             }
            },
            "header": {
             "fill": {
              "color": "#C8D4E3"
             },
             "line": {
              "color": "white"
             }
            },
            "type": "table"
           }
          ]
         },
         "layout": {
          "annotationdefaults": {
           "arrowcolor": "#2a3f5f",
           "arrowhead": 0,
           "arrowwidth": 1
          },
          "autotypenumbers": "strict",
          "coloraxis": {
           "colorbar": {
            "outlinewidth": 0,
            "ticks": ""
           }
          },
          "colorscale": {
           "diverging": [
            [
             0,
             "#8e0152"
            ],
            [
             0.1,
             "#c51b7d"
            ],
            [
             0.2,
             "#de77ae"
            ],
            [
             0.3,
             "#f1b6da"
            ],
            [
             0.4,
             "#fde0ef"
            ],
            [
             0.5,
             "#f7f7f7"
            ],
            [
             0.6,
             "#e6f5d0"
            ],
            [
             0.7,
             "#b8e186"
            ],
            [
             0.8,
             "#7fbc41"
            ],
            [
             0.9,
             "#4d9221"
            ],
            [
             1,
             "#276419"
            ]
           ],
           "sequential": [
            [
             0,
             "#0d0887"
            ],
            [
             0.1111111111111111,
             "#46039f"
            ],
            [
             0.2222222222222222,
             "#7201a8"
            ],
            [
             0.3333333333333333,
             "#9c179e"
            ],
            [
             0.4444444444444444,
             "#bd3786"
            ],
            [
             0.5555555555555556,
             "#d8576b"
            ],
            [
             0.6666666666666666,
             "#ed7953"
            ],
            [
             0.7777777777777778,
             "#fb9f3a"
            ],
            [
             0.8888888888888888,
             "#fdca26"
            ],
            [
             1,
             "#f0f921"
            ]
           ],
           "sequentialminus": [
            [
             0,
             "#0d0887"
            ],
            [
             0.1111111111111111,
             "#46039f"
            ],
            [
             0.2222222222222222,
             "#7201a8"
            ],
            [
             0.3333333333333333,
             "#9c179e"
            ],
            [
             0.4444444444444444,
             "#bd3786"
            ],
            [
             0.5555555555555556,
             "#d8576b"
            ],
            [
             0.6666666666666666,
             "#ed7953"
            ],
            [
             0.7777777777777778,
             "#fb9f3a"
            ],
            [
             0.8888888888888888,
             "#fdca26"
            ],
            [
             1,
             "#f0f921"
            ]
           ]
          },
          "colorway": [
           "#636efa",
           "#EF553B",
           "#00cc96",
           "#ab63fa",
           "#FFA15A",
           "#19d3f3",
           "#FF6692",
           "#B6E880",
           "#FF97FF",
           "#FECB52"
          ],
          "font": {
           "color": "#2a3f5f"
          },
          "geo": {
           "bgcolor": "white",
           "lakecolor": "white",
           "landcolor": "#E5ECF6",
           "showlakes": true,
           "showland": true,
           "subunitcolor": "white"
          },
          "hoverlabel": {
           "align": "left"
          },
          "hovermode": "closest",
          "mapbox": {
           "style": "light"
          },
          "paper_bgcolor": "white",
          "plot_bgcolor": "#E5ECF6",
          "polar": {
           "angularaxis": {
            "gridcolor": "white",
            "linecolor": "white",
            "ticks": ""
           },
           "bgcolor": "#E5ECF6",
           "radialaxis": {
            "gridcolor": "white",
            "linecolor": "white",
            "ticks": ""
           }
          },
          "scene": {
           "xaxis": {
            "backgroundcolor": "#E5ECF6",
            "gridcolor": "white",
            "gridwidth": 2,
            "linecolor": "white",
            "showbackground": true,
            "ticks": "",
            "zerolinecolor": "white"
           },
           "yaxis": {
            "backgroundcolor": "#E5ECF6",
            "gridcolor": "white",
            "gridwidth": 2,
            "linecolor": "white",
            "showbackground": true,
            "ticks": "",
            "zerolinecolor": "white"
           },
           "zaxis": {
            "backgroundcolor": "#E5ECF6",
            "gridcolor": "white",
            "gridwidth": 2,
            "linecolor": "white",
            "showbackground": true,
            "ticks": "",
            "zerolinecolor": "white"
           }
          },
          "shapedefaults": {
           "line": {
            "color": "#2a3f5f"
           }
          },
          "ternary": {
           "aaxis": {
            "gridcolor": "white",
            "linecolor": "white",
            "ticks": ""
           },
           "baxis": {
            "gridcolor": "white",
            "linecolor": "white",
            "ticks": ""
           },
           "bgcolor": "#E5ECF6",
           "caxis": {
            "gridcolor": "white",
            "linecolor": "white",
            "ticks": ""
           }
          },
          "title": {
           "x": 0.05
          },
          "xaxis": {
           "automargin": true,
           "gridcolor": "white",
           "linecolor": "white",
           "ticks": "",
           "title": {
            "standoff": 15
           },
           "zerolinecolor": "white",
           "zerolinewidth": 2
          },
          "yaxis": {
           "automargin": true,
           "gridcolor": "white",
           "linecolor": "white",
           "ticks": "",
           "title": {
            "standoff": 15
           },
           "zerolinecolor": "white",
           "zerolinewidth": 2
          }
         }
        },
        "xaxis": {
         "anchor": "y",
         "domain": [
          0,
          1
         ],
         "title": {
          "text": "NCAA_FT%"
         }
        },
        "yaxis": {
         "anchor": "x",
         "domain": [
          0,
          1
         ],
         "title": {
          "text": "NBA_3P%"
         }
        }
       }
      },
      "text/html": [
       "<div>                            <div id=\"2cdaa820-8207-488c-9195-5f8811a93023\" class=\"plotly-graph-div\" style=\"height:525px; width:100%;\"></div>            <script type=\"text/javascript\">                require([\"plotly\"], function(Plotly) {                    window.PLOTLYENV=window.PLOTLYENV || {};                                    if (document.getElementById(\"2cdaa820-8207-488c-9195-5f8811a93023\")) {                    Plotly.newPlot(                        \"2cdaa820-8207-488c-9195-5f8811a93023\",                        [{\"customdata\": [[\"Ray Allen\"], [\"Rafer Alston\"], [\"Derek Anderson\"], [\"Kenny Anderson\"], [\"Nick Anderson\"], [\"Shandon Anderson\"], [\"Greg Anthony\"], [\"BJ Armstrong\"], [\"Chucky Atkins\"], [\"Dana Barros\"], [\"Brent Barry\"], [\"Jon Barry\"], [\"Travis Best\"], [\"Mike Bibby\"], [\"Chauncey Billups\"], [\"Mookie Blaylock\"], [\"Bruce Bowen\"], [\"Earl Boykins\"], [\"Terrell Brandon\"], [\"Dee Brown\"], [\"Matt Bullard\"], [\"Scott Burrell\"], [\"Vince Carter\"], [\"Sam Cassell\"], [\"Cedric Ceballos\"], [\"Rex Chapman\"], [\"Chris Childs\"], [\"Doug Christie\"], [\"Derrick Coleman\"], [\"Bimbo Coles\"], [\"Austin Croshere\"], [\"Dell Curry\"], [\"Antonio Daniels\"], [\"Baron Davis\"], [\"Hubert Davis\"], [\"Ricky Davis\"], [\"Todd Day\"], [\"Tony Delk\"], [\"Howard Eisley\"], [\"Sean Elliott\"], [\"LaPhonso Ellis\"], [\"Danny Ferry\"], [\"Michael Finley\"], [\"Derek Fisher\"], [\"Rick Fox\"], [\"Steve Francis\"], [\"Pat Garrity\"], [\"Kendall Gill\"], [\"Richard Hamilton\"], [\"Anfernee Hardaway\"], [\"Tim Hardaway\"], [\"Lucious Harris\"], [\"Hersey Hawkins\"], [\"Fred Hoiberg\"], [\"Robert Horry\"], [\"Allan Houston\"], [\"Troy Hudson\"], [\"Larry Hughes\"], [\"Lindsey Hunter\"], [\"Allen Iverson\"], [\"Bobby Jackson\"], [\"Jaren Jackson\"], [\"Jim Jackson\"], [\"Mark Jackson\"], [\"Antawn Jamison\"], [\"Anthony Johnson\"], [\"Larry Johnson\"], [\"Damon Jones\"], [\"Eddie Jones\"], [\"Jumaine Jones\"], [\"Steve Kerr\"], [\"Jason Kidd\"], [\"Kerry Kittles\"], [\"Raef LaFrentz\"], [\"Voshon Lenard\"], [\"Tyronn Lue\"], [\"Sam Mack\"], [\"Corey Maggette\"], [\"Dan Majerle\"], [\"Matt Maloney\"], [\"Stephon Marbury\"], [\"Shawn Marion\"], [\"Donyell Marshall\"], [\"Darrick Martin\"], [\"Jamal Mashburn\"], [\"Vernon Maxwell\"], [\"Walter McCarty\"], [\"George McCloud\"], [\"Jeff McInnis\"], [\"Aaron McKie\"], [\"Andre Miller\"], [\"Reggie Miller\"], [\"Chris Mills\"], [\"Terry Mills\"], [\"Cuttino Mobley\"], [\"Eric Murdock\"], [\"Lamond Murray\"], [\"Tracy Murray\"], [\"Steve Nash\"], [\"Lamar Odom\"], [\"Anthony Parker\"], [\"Gary Payton\"], [\"Anthony Peeler\"], [\"Sam Perkins\"], [\"Wesley Person\"], [\"Bobby Phills\"], [\"Eric Piatkowski\"], [\"Paul Pierce\"], [\"James Posey\"], [\"Brent Price\"], [\"Glen Rice\"], [\"Mitch Richmond\"], [\"Isaiah Rider\"], [\"Clifford Robinson\"], [\"Glenn Robinson\"], [\"Rodney Rogers\"], [\"Jalen Rose\"], [\"Bryon Russell\"], [\"Dennis Scott\"], [\"Brian Shaw\"], [\"Steve Smith\"], [\"Latrell Sprewell\"], [\"Jerry Stackhouse\"], [\"John Starks\"], [\"Bryant Stith\"], [\"Damon Stoudamire\"], [\"Erick Strickland\"], [\"Bob Sura\"], [\"Wally Szczerbiak\"], [\"Jason Terry\"], [\"Tim Thomas\"], [\"Nick Van Exel\"], [\"Keith Van Horn\"], [\"Antoine Walker\"], [\"Rasheed Wallace\"], [\"Charlie Ward\"], [\"Chris Webber\"], [\"David Wesley\"], [\"Chris Whitney\"], [\"Jason Williams\"], [\"Walt Williams\"], [\"Mahmoud Abdul-Rauf\"], [\"Raja Bell\"], [\"Jamal Crawford\"], [\"Keyon Dooling\"], [\"Eddie House\"], [\"DerMarr Johnson\"], [\"Mike Miller\"], [\"Morris Peterson\"], [\"Michael Redd\"], [\"Quentin Richardson\"], [\"James Robinson\"], [\"Gilbert Arenas\"], [\"Shane Battier\"], [\"Charlie Bell\"], [\"Maurice Evans\"], [\"Eddie Griffin\"], [\"Mike James\"], [\"Richard Jefferson\"], [\"Joe Johnson\"], [\"Michael Jordan\"], [\"Troy Murphy\"], [\"Jason Richardson\"], [\"Bobby Simmons\"], [\"Jamaal Tinsley\"], [\"Gerald Wallace\"], [\"Earl Watson\"], [\"Devin Brown\"], [\"Caron Butler\"], [\"Rasual Butler\"], [\"Juan Dixon\"], [\"Fred Jones\"], [\"Roger Mason\"], [\"Jannero Pargo\"], [\"Smush Parker\"], [\"Tayshaun Prince\"], [\"Kareem Rush\"], [\"John Salmons\"], [\"Carmelo Anthony\"], [\"Matt Barnes\"], [\"Steve Blake\"], [\"Keith Bogans\"], [\"Chris Bosh\"], [\"Matt Carroll\"], [\"Willie Green\"], [\"Jarvis Hayes\"], [\"Kirk Hinrich\"], [\"Josh Howard\"], [\"James Jones\"], [\"Jason Kapono\"], [\"Kyle Korver\"], [\"Luke Ridnour\"], [\"Dwyane Wade\"], [\"Mo Williams\"], [\"Trevor Ariza\"], [\"Matt Bonner\"], [\"Luol Deng\"], [\"Chris Duhon\"], [\"Ben Gordon\"], [\"Devin Harris\"], [\"Andre Iguodala\"], [\"Kevin Martin\"], [\"Jameer Nelson\"], [\"Delonte West\"], [\"Alan Anderson\"], [\"Raymond Felton\"], [\"Channing Frye\"], [\"Ryan Gomes\"], [\"Danny Granger\"], [\"Luther Head\"], [\"Jarrett Jack\"], [\"Linas Kleiza\"], [\"Rashad McCants\"], [\"Chris Paul\"], [\"Ronnie Price\"], [\"Nate Robinson\"], [\"Charlie Villanueva\"], [\"Deron Williams\"], [\"Lou Williams\"], [\"Marvin Williams\"], [\"Shannon Brown\"], [\"Jordan Farmar\"], [\"Randy Foye\"], [\"Rudy Gay\"], [\"Daniel Gibson\"], [\"Kyle Lowry\"], [\"Paul Millsap\"], [\"Steve Novak\"], [\"JJ Redick\"], [\"Rajon Rondo\"], [\"Brandon Roy\"], [\"PJ Tucker\"], [\"Shawne Williams\"], [\"Arron Afflalo\"], [\"Corey Brewer\"], [\"Aaron Brooks\"], [\"Wilson Chandler\"], [\"Mike Conley\"], [\"Daequan Cook\"], [\"Jared Dudley\"], [\"Kevin Durant\"], [\"Jeff Green\"], [\"Spencer Hawes\"], [\"Al Horford\"], [\"Rodney Stuckey\"], [\"CJ Watson\"], [\"Nick Young\"], [\"Thaddeus Young\"], [\"Ryan Anderson\"], [\"DJ Augustin\"], [\"Jerryd Bayless\"], [\"Michael Beasley\"], [\"Mario Chalmers\"], [\"Eric Gordon\"], [\"George Hill\"], [\"Courtney Lee\"], [\"Brook Lopez\"], [\"Kevin Love\"], [\"OJ Mayo\"], [\"Anthony Morrow\"], [\"Derrick Rose\"], [\"Brandon Rush\"], [\"Anthony Tolliver\"], [\"Russell Westbrook\"], [\"Chase Budinger\"], [\"DeMarre Carroll\"], [\"Darren Collison\"], [\"Stephen Curry\"], [\"DeMar DeRozan\"], [\"Toney Douglas\"], [\"Wayne Ellington\"], [\"Tyreke Evans\"], [\"Danny Green\"], [\"James Harden\"], [\"Jrue Holiday\"], [\"Brandon Jennings\"], [\"James Johnson\"], [\"Ty Lawson\"], [\"Wesley Matthews\"], [\"Jodie Meeks\"], [\"Jeff Teague\"], [\"Garrett Temple\"], [\"Marcus Thornton\"], [\"Al-Farouq Aminu\"], [\"Luke Babbitt\"], [\"Eric Bledsoe\"], [\"Avery Bradley\"], [\"DeMarcus Cousins\"], [\"Jordan Crawford\"], [\"Paul George\"], [\"Blake Griffin\"], [\"Gordon Hayward\"], [\"Jeremy Lin\"], [\"Gary Neal\"], [\"Patrick Patterson\"], [\"Lance Stephenson\"], [\"Evan Turner\"], [\"John Wall\"], [\"Alec Burks\"], [\"Jimmy Butler\"], [\"Tobias Harris\"], [\"Kyrie Irving\"], [\"Reggie Jackson\"], [\"Cory Joseph\"], [\"Brandon Knight\"], [\"Kawhi Leonard\"], [\"Shelvin Mack\"], [\"Marcus Morris\"], [\"Markieff Morris\"], [\"Chandler Parsons\"], [\"Iman Shumpert\"], [\"Isaiah Thomas\"], [\"Klay Thompson\"], [\"Kemba Walker\"], [\"Derrick Williams\"], [\"Harrison Barnes\"], [\"Will Barton\"], [\"Kent Bazemore\"], [\"Bradley Beal\"], [\"Patrick Beverley\"], [\"Jae Crowder\"], [\"Anthony Davis\"], [\"Draymond Green\"], [\"Maurice Harkless\"], [\"Justin Holiday\"], [\"Jeremy Lamb\"], [\"Meyers Leonard\"], [\"Damian Lillard\"], [\"Khris Middleton\"], [\"Darius Miller\"], [\"Austin Rivers\"], [\"Terrence Ross\"], [\"Mike Scott\"], [\"Kyle Singler\"], [\"Dion Waiters\"], [\"Reggie Bullock\"], [\"Trey Burke\"], [\"Kentavious Caldwell-Pope\"], [\"Isaiah Canaan\"], [\"Robert Covington\"], [\"Allen Crabbe\"], [\"Seth Curry\"], [\"Troy Daniels\"], [\"Matthew Dellavedova\"], [\"Tim Hardaway Jr\"], [\"Solomon Hill\"], [\"CJ McCollum\"], [\"Ben McLemore\"], [\"Victor Oladipo\"], [\"Kelly Olynyk\"], [\"Otto Porter\"], [\"Tony Snell\"], [\"Hollis Thompson\"], [\"Jordan Clarkson\"], [\"Spencer Dinwiddie\"], [\"James Ennis\"], [\"Langston Galloway\"], [\"Aaron Gordon\"], [\"Jerami Grant\"], [\"Gary Harris\"], [\"Rodney Hood\"], [\"Zach LaVine\"], [\"Doug McDermott\"], [\"Shabazz Napier\"], [\"Marcus Smart\"], [\"Nik Stauskas\"], [\"Andrew Wiggins\"], [\"Devin Booker\"], [\"Stanley Johnson\"], [\"Frank Kaminsky\"], [\"Trey Lyles\"], [\"Norman Powell\"], [\"Josh Richardson\"], [\"Terry Rozier\"], [\"Karl-Anthony Towns\"], [\"Malik Beasley\"], [\"Malcolm Brogdon\"], [\"Jaylen Brown\"], [\"Dorian Finney-Smith\"], [\"Bryn Forbes\"], [\"Buddy Hield\"], [\"Brandon Ingram\"], [\"Caris LeVert\"], [\"Jamal Murray\"], [\"Taurean Prince\"], [\"Lonzo Ball\"], [\"Josh Hart\"], [\"Kyle Kuzma\"], [\"Lauri Markkanen\"], [\"Donovan Mitchell\"], [\"Malik Monk\"], [\"Jayson Tatum\"], [\"Trae Young\"]], \"hovertemplate\": \"NCAA_FT%=%{x}<br>NBA_3P%=%{y}<br>NBA_3PA=%{marker.size}<br>name=%{customdata[0]}<br>NCAA_FTA=%{marker.color}<extra></extra>\", \"legendgroup\": \"\", \"marker\": {\"color\": [358, 66, 399, 333, 268, 484, 547, 485, 438, 479, 378, 272, 486, 270, 357, 214, 495, 638, 316, 320, 306, 478, 292, 304, 389, 170, 439, 478, 858, 793, 458, 437, 534, 268, 371, 129, 668, 340, 476, 786, 468, 551, 593, 534, 375, 157, 655, 375, 505, 364, 522, 755, 856, 552, 430, 767, 201, 260, 508, 567, 248, 220, 422, 465, 635, 309, 460, 193, 324, 289, 276, 303, 449, 566, 475, 396, 297, 155, 662, 208, 164, 111, 488, 419, 495, 706, 244, 405, 256, 438, 568, 584, 450, 277, 312, 610, 422, 416, 427, 182, 587, 491, 670, 705, 348, 383, 489, 531, 557, 517, 380, 395, 323, 630, 475, 434, 550, 363, 355, 257, 614, 215, 465, 136, 875, 434, 434, 696, 372, 371, 152, 221, 651, 203, 232, 220, 296, 441, 179, 145, 504, 410, 434, 51, 277, 336, 95, 284, 426, 547, 302, 462, 282, 561, 390, 387, 109, 336, 298, 170, 420, 755, 148, 429, 336, 155, 428, 652, 370, 409, 501, 483, 366, 122, 137, 370, 332, 389, 238, 355, 271, 475, 174, 355, 477, 263, 371, 511, 366, 458, 350, 389, 404, 215, 113, 331, 138, 349, 464, 465, 206, 635, 584, 267, 456, 353, 486, 620, 598, 242, 452, 297, 377, 365, 453, 333, 204, 216, 14, 163, 290, 263, 498, 244, 232, 228, 623, 261, 726, 222, 468, 409, 145, 375, 384, 367, 176, 144, 66, 784, 256, 400, 98, 444, 479, 516, 373, 70, 328, 400, 223, 279, 356, 277, 582, 476, 259, 258, 152, 226, 205, 273, 410, 181, 395, 466, 410, 547, 147, 576, 288, 194, 239, 494, 62, 35, 443, 432, 687, 336, 361, 258, 315, 351, 393, 123, 66, 268, 217, 264, 521, 340, 495, 624, 417, 119, 508, 232, 495, 596, 170, 71, 296, 73, 171, 262, 372, 471, 311, 401, 381, 630, 382, 640, 91, 319, 262, 489, 173, 270, 287, 412, 495, 139, 125, 180, 144, 600, 272, 227, 184, 127, 155, 643, 166, 46, 291, 250, 593, 399, 320, 498, 87, 541, 381, 458, 739, 138, 359, 285, 241, 201, 170, 487, 506, 241, 407, 180, 251, 240, 176, 68, 715, 626, 465, 291, 227, 368, 178, 389, 102, 347, 100, 228, 134, 128, 482, 217, 432, 351, 450, 170, 265, 152, 355, 98, 500, 270, 164, 165, 180, 139, 274], \"coloraxis\": \"coloraxis\", \"size\": [7429, 2815, 1891, 1580, 2964, 972, 1748, 1026, 2565, 2652, 3442, 1676, 772, 3999, 4725, 3816, 2082, 1104, 1110, 1697, 1561, 909, 6168, 2029, 760, 2301, 1082, 2272, 1105, 943, 1262, 3098, 1154, 4159, 1651, 1614, 1646, 1376, 1474, 1572, 797, 1724, 3880, 3341, 2208, 1684, 1587, 1051, 1530, 1591, 4345, 1155, 3108, 941, 2329, 3247, 1333, 1696, 2984, 3383, 1947, 980, 2413, 2213, 3365, 933, 1104, 2414, 4147, 1218, 1599, 5701, 1838, 1315, 2437, 1175, 879, 1431, 3798, 1073, 3048, 2390, 2578, 1030, 2226, 3931, 1318, 2573, 929, 1109, 888, 6486, 1251, 1387, 2867, 863, 1466, 1942, 3939, 2126, 1474, 3570, 2445, 2348, 2754, 878, 2168, 5816, 2967, 938, 3896, 3417, 1896, 3515, 1823, 1986, 2102, 1856, 3060, 1416, 3208, 3272, 3202, 3591, 931, 3464, 1151, 1303, 1453, 6010, 2609, 4278, 1655, 4264, 3228, 1754, 883, 3051, 1528, 3784, 2575, 1339, 2357, 6379, 1277, 2096, 815, 3910, 2702, 2751, 3288, 1151, 3077, 3254, 1213, 1172, 752, 1813, 2769, 5331, 1778, 1578, 4344, 955, 1326, 1303, 1551, 888, 2144, 2520, 972, 979, 1549, 1124, 838, 1550, 805, 1986, 4151, 2931, 2709, 2020, 910, 896, 1494, 1101, 3122, 1029, 1937, 1054, 5715, 1674, 1874, 2891, 4362, 1923, 1982, 1788, 2921, 2558, 3013, 2969, 3134, 1012, 963, 2813, 2706, 956, 2644, 1162, 1809, 1154, 793, 3730, 808, 2255, 2101, 3296, 3871, 2894, 831, 1559, 3017, 2818, 1419, 4636, 1410, 1337, 4526, 1207, 925, 1911, 812, 2205, 1774, 2218, 2560, 3150, 1232, 2241, 4122, 2795, 1026, 1275, 921, 1263, 2764, 1459, 3491, 2930, 1382, 835, 2153, 4201, 2499, 2259, 1580, 3302, 2287, 1937, 1541, 1300, 2306, 3208, 1172, 1839, 1610, 5739, 1208, 1256, 2689, 1548, 3205, 6394, 2616, 2648, 1046, 1319, 4367, 2078, 1886, 1626, 2051, 1597, 979, 2027, 2042, 1031, 1041, 4172, 1223, 2327, 1313, 1203, 1597, 1099, 917, 1663, 1114, 1514, 2244, 2870, 1955, 883, 2012, 1997, 916, 2449, 1534, 1844, 1447, 2781, 4291, 4062, 838, 2028, 1649, 1683, 3268, 1820, 2565, 794, 1632, 997, 1748, 1457, 831, 4764, 2303, 856, 1757, 2887, 1210, 826, 1660, 1030, 1391, 2524, 1042, 2606, 1596, 1007, 1404, 1075, 2671, 868, 2563, 1695, 1862, 1524, 1364, 1611, 941, 1973, 1379, 768, 1637, 1383, 1073, 1501, 1566, 1721, 1224, 1000, 1835, 1121, 1625, 1890, 832, 1093, 918, 891, 1387, 1368, 1280, 791, 828, 1055, 815, 1075, 2126, 770, 803, 1518, 1305, 918, 825, 1128, 1050, 1542, 777, 1022, 1050], \"sizemode\": \"area\", \"sizeref\": 18.5725, \"symbol\": \"circle\"}, \"mode\": \"markers\", \"name\": \"\", \"orientation\": \"v\", \"showlegend\": false, \"type\": \"scatter\", \"x\": [0.779, 0.758, 0.805, 0.787, 0.657, 0.634, 0.707, 0.831, 0.737, 0.841, 0.794, 0.717, 0.809, 0.73, 0.857, 0.668, 0.695, 0.803, 0.81, 0.763, 0.768, 0.64, 0.705, 0.734, 0.671, 0.771, 0.818, 0.747, 0.684, 0.748, 0.843, 0.785, 0.758, 0.631, 0.819, 0.698, 0.747, 0.709, 0.784, 0.793, 0.675, 0.775, 0.769, 0.747, 0.757, 0.79, 0.747, 0.755, 0.826, 0.717, 0.718, 0.727, 0.806, 0.844, 0.742, 0.849, 0.806, 0.692, 0.709, 0.683, 0.786, 0.709, 0.784, 0.751, 0.617, 0.725, 0.789, 0.668, 0.614, 0.751, 0.815, 0.677, 0.719, 0.712, 0.802, 0.788, 0.751, 0.716, 0.631, 0.793, 0.738, 0.73, 0.77, 0.754, 0.697, 0.715, 0.684, 0.778, 0.719, 0.79, 0.676, 0.836, 0.767, 0.755, 0.821, 0.784, 0.713, 0.791, 0.867, 0.687, 0.75, 0.684, 0.779, 0.796, 0.747, 0.71, 0.777, 0.697, 0.808, 0.818, 0.797, 0.77, 0.805, 0.641, 0.773, 0.694, 0.738, 0.683, 0.777, 0.728, 0.756, 0.74, 0.72, 0.838, 0.789, 0.804, 0.776, 0.652, 0.809, 0.784, 0.796, 0.701, 0.851, 0.66, 0.621, 0.636, 0.53, 0.828, 0.788, 0.793, 0.762, 0.863, 0.73, 0.784, 0.733, 0.798, 0.737, 0.718, 0.746, 0.649, 0.728, 0.697, 0.738, 0.777, 0.782, 0.752, 0.734, 0.726, 0.718, 0.753, 0.748, 0.777, 0.649, 0.783, 0.685, 0.568, 0.654, 0.733, 0.768, 0.829, 0.85, 0.805, 0.869, 0.82, 0.73, 0.743, 0.777, 0.805, 0.706, 0.566, 0.771, 0.688, 0.73, 0.825, 0.757, 0.772, 0.776, 0.708, 0.831, 0.83, 0.891, 0.859, 0.745, 0.847, 0.504, 0.74, 0.71, 0.693, 0.795, 0.778, 0.738, 0.841, 0.786, 0.831, 0.831, 0.731, 0.759, 0.789, 0.753, 0.752, 0.796, 0.707, 0.721, 0.838, 0.788, 0.793, 0.681, 0.685, 0.643, 0.847, 0.831, 0.76, 0.781, 0.721, 0.741, 0.737, 0.62, 0.931, 0.912, 0.577, 0.765, 0.711, 0.786, 0.781, 0.708, 0.834, 0.659, 0.694, 0.697, 0.731, 0.816, 0.7, 0.755, 0.619, 0.806, 0.777, 0.764, 0.743, 0.841, 0.808, 0.839, 0.774, 0.767, 0.834, 0.785, 0.817, 0.764, 0.767, 0.803, 0.867, 0.712, 0.733, 0.671, 0.685, 0.782, 0.603, 0.851, 0.876, 0.646, 0.802, 0.809, 0.711, 0.845, 0.755, 0.726, 0.771, 0.792, 0.78, 0.799, 0.89, 0.812, 0.783, 0.771, 0.687, 0.893, 0.667, 0.545, 0.604, 0.765, 0.803, 0.589, 0.824, 0.733, 0.827, 0.734, 0.664, 0.758, 0.754, 0.804, 0.773, 0.753, 0.901, 0.753, 0.699, 0.795, 0.744, 0.755, 0.66, 0.653, 0.611, 0.738, 0.713, 0.827, 0.783, 0.813, 0.734, 0.733, 0.581, 0.769, 0.73, 0.683, 0.728, 0.687, 0.676, 0.736, 0.806, 0.729, 0.867, 0.768, 0.815, 0.658, 0.764, 0.677, 0.773, 0.753, 0.522, 0.777, 0.752, 0.803, 0.802, 0.819, 0.827, 0.782, 0.86, 0.724, 0.745, 0.825, 0.87, 0.716, 0.709, 0.751, 0.821, 0.676, 0.805, 0.83, 0.788, 0.821, 0.422, 0.641, 0.788, 0.773, 0.691, 0.831, 0.813, 0.751, 0.832, 0.775, 0.658, 0.742, 0.763, 0.735, 0.746, 0.56, 0.772, 0.813, 0.813, 0.876, 0.654, 0.657, 0.821, 0.836, 0.682, 0.77, 0.783, 0.718, 0.673, 0.72, 0.633, 0.835, 0.788, 0.822, 0.849, 0.861], \"xaxis\": \"x\", \"y\": [0.4, 0.354, 0.341, 0.346, 0.356, 0.316, 0.349, 0.425, 0.364, 0.411, 0.405, 0.392, 0.345, 0.379, 0.387, 0.336, 0.393, 0.348, 0.355, 0.357, 0.384, 0.373, 0.371, 0.331, 0.309, 0.35, 0.344, 0.354, 0.295, 0.267, 0.34, 0.402, 0.311, 0.32, 0.441, 0.361, 0.345, 0.343, 0.35, 0.375, 0.302, 0.393, 0.375, 0.374, 0.349, 0.341, 0.398, 0.3, 0.346, 0.316, 0.355, 0.348, 0.394, 0.396, 0.341, 0.402, 0.339, 0.309, 0.36, 0.313, 0.354, 0.353, 0.365, 0.332, 0.346, 0.356, 0.332, 0.39, 0.373, 0.349, 0.454, 0.349, 0.378, 0.363, 0.384, 0.391, 0.374, 0.324, 0.358, 0.372, 0.325, 0.331, 0.35, 0.34, 0.345, 0.32, 0.346, 0.358, 0.328, 0.35, 0.217, 0.395, 0.351, 0.384, 0.378, 0.343, 0.36, 0.388, 0.428, 0.312, 0.404, 0.317, 0.384, 0.362, 0.418, 0.39, 0.399, 0.368, 0.349, 0.387, 0.4, 0.388, 0.352, 0.356, 0.34, 0.347, 0.355, 0.369, 0.397, 0.304, 0.358, 0.337, 0.309, 0.34, 0.329, 0.357, 0.351, 0.325, 0.406, 0.38, 0.369, 0.357, 0.361, 0.325, 0.336, 0.364, 0.299, 0.368, 0.361, 0.327, 0.379, 0.354, 0.406, 0.348, 0.349, 0.39, 0.336, 0.407, 0.373, 0.38, 0.355, 0.348, 0.351, 0.384, 0.361, 0.363, 0.315, 0.379, 0.376, 0.371, 0.327, 0.388, 0.37, 0.396, 0.299, 0.312, 0.324, 0.338, 0.348, 0.362, 0.341, 0.353, 0.383, 0.356, 0.345, 0.367, 0.358, 0.366, 0.349, 0.335, 0.383, 0.353, 0.335, 0.384, 0.346, 0.356, 0.375, 0.332, 0.401, 0.434, 0.429, 0.349, 0.293, 0.378, 0.352, 0.414, 0.332, 0.363, 0.401, 0.325, 0.333, 0.384, 0.368, 0.372, 0.344, 0.329, 0.388, 0.349, 0.38, 0.388, 0.343, 0.335, 0.368, 0.37, 0.302, 0.36, 0.341, 0.357, 0.349, 0.361, 0.332, 0.374, 0.366, 0.347, 0.407, 0.366, 0.343, 0.43, 0.416, 0.316, 0.348, 0.361, 0.339, 0.386, 0.284, 0.37, 0.341, 0.375, 0.359, 0.393, 0.381, 0.334, 0.35, 0.364, 0.3, 0.373, 0.376, 0.333, 0.38, 0.379, 0.361, 0.349, 0.351, 0.37, 0.384, 0.388, 0.341, 0.37, 0.373, 0.417, 0.304, 0.402, 0.373, 0.305, 0.352, 0.358, 0.394, 0.435, 0.282, 0.354, 0.378, 0.323, 0.4, 0.363, 0.354, 0.345, 0.31, 0.359, 0.381, 0.373, 0.356, 0.347, 0.358, 0.335, 0.402, 0.336, 0.364, 0.332, 0.317, 0.381, 0.333, 0.366, 0.342, 0.382, 0.369, 0.315, 0.294, 0.324, 0.364, 0.333, 0.365, 0.39, 0.337, 0.332, 0.353, 0.383, 0.33, 0.367, 0.345, 0.373, 0.338, 0.364, 0.419, 0.36, 0.3, 0.375, 0.347, 0.351, 0.38, 0.381, 0.34, 0.319, 0.319, 0.325, 0.36, 0.339, 0.39, 0.373, 0.392, 0.382, 0.348, 0.37, 0.364, 0.362, 0.346, 0.385, 0.345, 0.349, 0.351, 0.356, 0.387, 0.443, 0.395, 0.368, 0.353, 0.336, 0.397, 0.366, 0.35, 0.373, 0.404, 0.385, 0.386, 0.342, 0.318, 0.35, 0.367, 0.319, 0.347, 0.36, 0.372, 0.375, 0.412, 0.345, 0.318, 0.353, 0.332, 0.354, 0.293, 0.347, 0.341, 0.361, 0.363, 0.371, 0.396, 0.388, 0.385, 0.371, 0.33, 0.4, 0.411, 0.36, 0.339, 0.358, 0.366, 0.341, 0.353, 0.331, 0.356, 0.355, 0.322, 0.401, 0.344], \"yaxis\": \"y\"}],                        {\"coloraxis\": {\"colorbar\": {\"title\": {\"text\": \"NCAA_FTA\"}}, \"colorscale\": [[0.0, \"#0d0887\"], [0.1111111111111111, \"#46039f\"], [0.2222222222222222, \"#7201a8\"], [0.3333333333333333, \"#9c179e\"], [0.4444444444444444, \"#bd3786\"], [0.5555555555555556, \"#d8576b\"], [0.6666666666666666, \"#ed7953\"], [0.7777777777777778, \"#fb9f3a\"], [0.8888888888888888, \"#fdca26\"], [1.0, \"#f0f921\"]]}, \"legend\": {\"itemsizing\": \"constant\", \"tracegroupgap\": 0}, \"margin\": {\"t\": 60}, \"template\": {\"data\": {\"bar\": [{\"error_x\": {\"color\": \"#2a3f5f\"}, \"error_y\": {\"color\": \"#2a3f5f\"}, \"marker\": {\"line\": {\"color\": \"#E5ECF6\", \"width\": 0.5}}, \"type\": \"bar\"}], \"barpolar\": [{\"marker\": {\"line\": {\"color\": \"#E5ECF6\", \"width\": 0.5}}, \"type\": \"barpolar\"}], \"carpet\": [{\"aaxis\": {\"endlinecolor\": \"#2a3f5f\", \"gridcolor\": \"white\", \"linecolor\": \"white\", \"minorgridcolor\": \"white\", \"startlinecolor\": \"#2a3f5f\"}, \"baxis\": {\"endlinecolor\": \"#2a3f5f\", \"gridcolor\": \"white\", \"linecolor\": \"white\", \"minorgridcolor\": \"white\", \"startlinecolor\": \"#2a3f5f\"}, \"type\": \"carpet\"}], \"choropleth\": [{\"colorbar\": {\"outlinewidth\": 0, \"ticks\": \"\"}, \"type\": \"choropleth\"}], \"contour\": [{\"colorbar\": {\"outlinewidth\": 0, \"ticks\": \"\"}, \"colorscale\": [[0.0, \"#0d0887\"], [0.1111111111111111, \"#46039f\"], [0.2222222222222222, \"#7201a8\"], [0.3333333333333333, \"#9c179e\"], [0.4444444444444444, \"#bd3786\"], [0.5555555555555556, \"#d8576b\"], [0.6666666666666666, \"#ed7953\"], [0.7777777777777778, \"#fb9f3a\"], [0.8888888888888888, \"#fdca26\"], [1.0, \"#f0f921\"]], \"type\": \"contour\"}], \"contourcarpet\": [{\"colorbar\": {\"outlinewidth\": 0, \"ticks\": \"\"}, \"type\": \"contourcarpet\"}], \"heatmap\": [{\"colorbar\": {\"outlinewidth\": 0, \"ticks\": \"\"}, \"colorscale\": [[0.0, \"#0d0887\"], [0.1111111111111111, \"#46039f\"], [0.2222222222222222, \"#7201a8\"], [0.3333333333333333, \"#9c179e\"], [0.4444444444444444, \"#bd3786\"], [0.5555555555555556, \"#d8576b\"], [0.6666666666666666, \"#ed7953\"], [0.7777777777777778, \"#fb9f3a\"], [0.8888888888888888, \"#fdca26\"], [1.0, \"#f0f921\"]], \"type\": \"heatmap\"}], \"heatmapgl\": [{\"colorbar\": {\"outlinewidth\": 0, \"ticks\": \"\"}, \"colorscale\": [[0.0, \"#0d0887\"], [0.1111111111111111, \"#46039f\"], [0.2222222222222222, \"#7201a8\"], [0.3333333333333333, \"#9c179e\"], [0.4444444444444444, \"#bd3786\"], [0.5555555555555556, \"#d8576b\"], [0.6666666666666666, \"#ed7953\"], [0.7777777777777778, \"#fb9f3a\"], [0.8888888888888888, \"#fdca26\"], [1.0, \"#f0f921\"]], \"type\": \"heatmapgl\"}], \"histogram\": [{\"marker\": {\"colorbar\": {\"outlinewidth\": 0, \"ticks\": \"\"}}, \"type\": \"histogram\"}], \"histogram2d\": [{\"colorbar\": {\"outlinewidth\": 0, \"ticks\": \"\"}, \"colorscale\": [[0.0, \"#0d0887\"], [0.1111111111111111, \"#46039f\"], [0.2222222222222222, \"#7201a8\"], [0.3333333333333333, \"#9c179e\"], [0.4444444444444444, \"#bd3786\"], [0.5555555555555556, \"#d8576b\"], [0.6666666666666666, \"#ed7953\"], [0.7777777777777778, \"#fb9f3a\"], [0.8888888888888888, \"#fdca26\"], [1.0, \"#f0f921\"]], \"type\": \"histogram2d\"}], \"histogram2dcontour\": [{\"colorbar\": {\"outlinewidth\": 0, \"ticks\": \"\"}, \"colorscale\": [[0.0, \"#0d0887\"], [0.1111111111111111, \"#46039f\"], [0.2222222222222222, \"#7201a8\"], [0.3333333333333333, \"#9c179e\"], [0.4444444444444444, \"#bd3786\"], [0.5555555555555556, \"#d8576b\"], [0.6666666666666666, \"#ed7953\"], [0.7777777777777778, \"#fb9f3a\"], [0.8888888888888888, \"#fdca26\"], [1.0, \"#f0f921\"]], \"type\": \"histogram2dcontour\"}], \"mesh3d\": [{\"colorbar\": {\"outlinewidth\": 0, \"ticks\": \"\"}, \"type\": \"mesh3d\"}], \"parcoords\": [{\"line\": {\"colorbar\": {\"outlinewidth\": 0, \"ticks\": \"\"}}, \"type\": \"parcoords\"}], \"pie\": [{\"automargin\": true, \"type\": \"pie\"}], \"scatter\": [{\"marker\": {\"colorbar\": {\"outlinewidth\": 0, \"ticks\": \"\"}}, \"type\": \"scatter\"}], \"scatter3d\": [{\"line\": {\"colorbar\": {\"outlinewidth\": 0, \"ticks\": \"\"}}, \"marker\": {\"colorbar\": {\"outlinewidth\": 0, \"ticks\": \"\"}}, \"type\": \"scatter3d\"}], \"scattercarpet\": [{\"marker\": {\"colorbar\": {\"outlinewidth\": 0, \"ticks\": \"\"}}, \"type\": \"scattercarpet\"}], \"scattergeo\": [{\"marker\": {\"colorbar\": {\"outlinewidth\": 0, \"ticks\": \"\"}}, \"type\": \"scattergeo\"}], \"scattergl\": [{\"marker\": {\"colorbar\": {\"outlinewidth\": 0, \"ticks\": \"\"}}, \"type\": \"scattergl\"}], \"scattermapbox\": [{\"marker\": {\"colorbar\": {\"outlinewidth\": 0, \"ticks\": \"\"}}, \"type\": \"scattermapbox\"}], \"scatterpolar\": [{\"marker\": {\"colorbar\": {\"outlinewidth\": 0, \"ticks\": \"\"}}, \"type\": \"scatterpolar\"}], \"scatterpolargl\": [{\"marker\": {\"colorbar\": {\"outlinewidth\": 0, \"ticks\": \"\"}}, \"type\": \"scatterpolargl\"}], \"scatterternary\": [{\"marker\": {\"colorbar\": {\"outlinewidth\": 0, \"ticks\": \"\"}}, \"type\": \"scatterternary\"}], \"surface\": [{\"colorbar\": {\"outlinewidth\": 0, \"ticks\": \"\"}, \"colorscale\": [[0.0, \"#0d0887\"], [0.1111111111111111, \"#46039f\"], [0.2222222222222222, \"#7201a8\"], [0.3333333333333333, \"#9c179e\"], [0.4444444444444444, \"#bd3786\"], [0.5555555555555556, \"#d8576b\"], [0.6666666666666666, \"#ed7953\"], [0.7777777777777778, \"#fb9f3a\"], [0.8888888888888888, \"#fdca26\"], [1.0, \"#f0f921\"]], \"type\": \"surface\"}], \"table\": [{\"cells\": {\"fill\": {\"color\": \"#EBF0F8\"}, \"line\": {\"color\": \"white\"}}, \"header\": {\"fill\": {\"color\": \"#C8D4E3\"}, \"line\": {\"color\": \"white\"}}, \"type\": \"table\"}]}, \"layout\": {\"annotationdefaults\": {\"arrowcolor\": \"#2a3f5f\", \"arrowhead\": 0, \"arrowwidth\": 1}, \"autotypenumbers\": \"strict\", \"coloraxis\": {\"colorbar\": {\"outlinewidth\": 0, \"ticks\": \"\"}}, \"colorscale\": {\"diverging\": [[0, \"#8e0152\"], [0.1, \"#c51b7d\"], [0.2, \"#de77ae\"], [0.3, \"#f1b6da\"], [0.4, \"#fde0ef\"], [0.5, \"#f7f7f7\"], [0.6, \"#e6f5d0\"], [0.7, \"#b8e186\"], [0.8, \"#7fbc41\"], [0.9, \"#4d9221\"], [1, \"#276419\"]], \"sequential\": [[0.0, \"#0d0887\"], [0.1111111111111111, \"#46039f\"], [0.2222222222222222, \"#7201a8\"], [0.3333333333333333, \"#9c179e\"], [0.4444444444444444, \"#bd3786\"], [0.5555555555555556, \"#d8576b\"], [0.6666666666666666, \"#ed7953\"], [0.7777777777777778, \"#fb9f3a\"], [0.8888888888888888, \"#fdca26\"], [1.0, \"#f0f921\"]], \"sequentialminus\": [[0.0, \"#0d0887\"], [0.1111111111111111, \"#46039f\"], [0.2222222222222222, \"#7201a8\"], [0.3333333333333333, \"#9c179e\"], [0.4444444444444444, \"#bd3786\"], [0.5555555555555556, \"#d8576b\"], [0.6666666666666666, \"#ed7953\"], [0.7777777777777778, \"#fb9f3a\"], [0.8888888888888888, \"#fdca26\"], [1.0, \"#f0f921\"]]}, \"colorway\": [\"#636efa\", \"#EF553B\", \"#00cc96\", \"#ab63fa\", \"#FFA15A\", \"#19d3f3\", \"#FF6692\", \"#B6E880\", \"#FF97FF\", \"#FECB52\"], \"font\": {\"color\": \"#2a3f5f\"}, \"geo\": {\"bgcolor\": \"white\", \"lakecolor\": \"white\", \"landcolor\": \"#E5ECF6\", \"showlakes\": true, \"showland\": true, \"subunitcolor\": \"white\"}, \"hoverlabel\": {\"align\": \"left\"}, \"hovermode\": \"closest\", \"mapbox\": {\"style\": \"light\"}, \"paper_bgcolor\": \"white\", \"plot_bgcolor\": \"#E5ECF6\", \"polar\": {\"angularaxis\": {\"gridcolor\": \"white\", \"linecolor\": \"white\", \"ticks\": \"\"}, \"bgcolor\": \"#E5ECF6\", \"radialaxis\": {\"gridcolor\": \"white\", \"linecolor\": \"white\", \"ticks\": \"\"}}, \"scene\": {\"xaxis\": {\"backgroundcolor\": \"#E5ECF6\", \"gridcolor\": \"white\", \"gridwidth\": 2, \"linecolor\": \"white\", \"showbackground\": true, \"ticks\": \"\", \"zerolinecolor\": \"white\"}, \"yaxis\": {\"backgroundcolor\": \"#E5ECF6\", \"gridcolor\": \"white\", \"gridwidth\": 2, \"linecolor\": \"white\", \"showbackground\": true, \"ticks\": \"\", \"zerolinecolor\": \"white\"}, \"zaxis\": {\"backgroundcolor\": \"#E5ECF6\", \"gridcolor\": \"white\", \"gridwidth\": 2, \"linecolor\": \"white\", \"showbackground\": true, \"ticks\": \"\", \"zerolinecolor\": \"white\"}}, \"shapedefaults\": {\"line\": {\"color\": \"#2a3f5f\"}}, \"ternary\": {\"aaxis\": {\"gridcolor\": \"white\", \"linecolor\": \"white\", \"ticks\": \"\"}, \"baxis\": {\"gridcolor\": \"white\", \"linecolor\": \"white\", \"ticks\": \"\"}, \"bgcolor\": \"#E5ECF6\", \"caxis\": {\"gridcolor\": \"white\", \"linecolor\": \"white\", \"ticks\": \"\"}}, \"title\": {\"x\": 0.05}, \"xaxis\": {\"automargin\": true, \"gridcolor\": \"white\", \"linecolor\": \"white\", \"ticks\": \"\", \"title\": {\"standoff\": 15}, \"zerolinecolor\": \"white\", \"zerolinewidth\": 2}, \"yaxis\": {\"automargin\": true, \"gridcolor\": \"white\", \"linecolor\": \"white\", \"ticks\": \"\", \"title\": {\"standoff\": 15}, \"zerolinecolor\": \"white\", \"zerolinewidth\": 2}}}, \"xaxis\": {\"anchor\": \"y\", \"domain\": [0.0, 1.0], \"title\": {\"text\": \"NCAA_FT%\"}}, \"yaxis\": {\"anchor\": \"x\", \"domain\": [0.0, 1.0], \"title\": {\"text\": \"NBA_3P%\"}}},                        {\"responsive\": true}                    ).then(function(){\n",
       "                            \n",
       "var gd = document.getElementById('2cdaa820-8207-488c-9195-5f8811a93023');\n",
       "var x = new MutationObserver(function (mutations, observer) {{\n",
       "        var display = window.getComputedStyle(gd).display;\n",
       "        if (!display || display === 'none') {{\n",
       "            console.log([gd, 'removed!']);\n",
       "            Plotly.purge(gd);\n",
       "            observer.disconnect();\n",
       "        }}\n",
       "}});\n",
       "\n",
       "// Listen for the removal of the full notebook cells\n",
       "var notebookContainer = gd.closest('#notebook-container');\n",
       "if (notebookContainer) {{\n",
       "    x.observe(notebookContainer, {childList: true});\n",
       "}}\n",
       "\n",
       "// Listen for the clearing of the current output cell\n",
       "var outputEl = gd.closest('.output');\n",
       "if (outputEl) {{\n",
       "    x.observe(outputEl, {childList: true});\n",
       "}}\n",
       "\n",
       "                        })                };                });            </script>        </div>"
      ]
     },
     "metadata": {},
     "output_type": "display_data"
    }
   ],
   "source": [
    "import plotly.express as px\n",
    "fig = px.scatter(nba_ncaa_data_df, x=\"NCAA_FT%\", y=\"NBA_3P%\", size=\"NBA_3PA\", color=\"NCAA_FTA\", hover_data=[\"name\"])\n",
    "fig.show()"
   ]
  },
  {
   "cell_type": "markdown",
   "metadata": {},
   "source": [
    "Let's find out how this metric compares for great three point shooters. We'll filter by shooters who shoot three pointers at or above 40%."
   ]
  },
  {
   "cell_type": "code",
   "execution_count": 73,
   "metadata": {},
   "outputs": [
    {
     "data": {
      "text/plain": [
       "0.3535460742223576"
      ]
     },
     "execution_count": 73,
     "metadata": {},
     "output_type": "execute_result"
    }
   ],
   "source": [
    "above_40_percent_df = nba_ncaa_data_df[nba_ncaa_data_df['NBA_3P%'] > 0.4]\n",
    "above_40_percent_df['NCAA_FT%'].corr(above_40_percent_df['NBA_3P%'])"
   ]
  },
  {
   "cell_type": "markdown",
   "metadata": {},
   "source": [
    "Not much better, how about sorting for top 50 FTA in the NCAA?"
   ]
  },
  {
   "cell_type": "code",
   "execution_count": 114,
   "metadata": {},
   "outputs": [
    {
     "data": {
      "text/plain": [
       "0.5051095182727158"
      ]
     },
     "execution_count": 114,
     "metadata": {},
     "output_type": "execute_result"
    }
   ],
   "source": [
    "top_50_NCAA_FTA_df = nba_ncaa_data_df.sort_values(by=['NCAA_FTA'], ascending=False)[0:50]\n",
    "top_50_NCAA_FTA_df['NCAA_FT%'].corr(top_50_NCAA_FTA_df['NBA_3P%'])"
   ]
  },
  {
   "cell_type": "markdown",
   "metadata": {},
   "source": [
    "A better correlation. How about we visualize the data"
   ]
  },
  {
   "cell_type": "code",
   "execution_count": 105,
   "metadata": {},
   "outputs": [
    {
     "data": {
      "application/vnd.plotly.v1+json": {
       "config": {
        "plotlyServerURL": "https://plot.ly"
       },
       "data": [
        {
         "customdata": [
          [
           "Bryant Stith"
          ],
          [
           "Derrick Coleman"
          ],
          [
           "Hersey Hawkins"
          ],
          [
           "Bimbo Coles"
          ],
          [
           "Sean Elliott"
          ],
          [
           "Jared Dudley"
          ],
          [
           "Allan Houston"
          ],
          [
           "Troy Murphy"
          ],
          [
           "Lucious Harris"
          ],
          [
           "CJ McCollum"
          ],
          [
           "JJ Redick"
          ],
          [
           "Doug McDermott"
          ],
          [
           "Vernon Maxwell"
          ],
          [
           "Sam Perkins"
          ],
          [
           "Bob Sura"
          ],
          [
           "Wesley Matthews"
          ],
          [
           "Anthony Peeler"
          ],
          [
           "Todd Day"
          ],
          [
           "Dan Majerle"
          ],
          [
           "Pat Garrity"
          ],
          [
           "Devin Brown"
          ],
          [
           "Keith Van Horn"
          ],
          [
           "Kyle Singler"
          ],
          [
           "Kemba Walker"
          ],
          [
           "Earl Boykins"
          ],
          [
           "Kevin Martin"
          ],
          [
           "Antawn Jamison"
          ],
          [
           "Clifford Robinson"
          ],
          [
           "Isaiah Thomas"
          ],
          [
           "Shabazz Napier"
          ],
          [
           "Gary Neal"
          ],
          [
           "Paul Millsap"
          ],
          [
           "Ryan Gomes"
          ],
          [
           "Steve Smith"
          ],
          [
           "Eric Murdock"
          ],
          [
           "Damian Lillard"
          ],
          [
           "Danny Granger"
          ],
          [
           "Jimmy Butler"
          ],
          [
           "Isaiah Canaan"
          ],
          [
           "Michael Finley"
          ],
          [
           "Anthony Parker"
          ],
          [
           "Reggie Miller"
          ],
          [
           "Jameer Nelson"
          ],
          [
           "George Hill"
          ],
          [
           "Toney Douglas"
          ],
          [
           "Andre Miller"
          ],
          [
           "Allen Iverson"
          ],
          [
           "Raef LaFrentz"
          ],
          [
           "Shane Battier"
          ],
          [
           "James Posey"
          ]
         ],
         "hovertemplate": "NCAA_FT%=%{x}<br>NBA_3P%=%{y}<br>NBA_3PA=%{marker.size}<br>name=%{customdata[0]}<br>NCAA_FTA=%{marker.color}<extra></extra>",
         "legendgroup": "",
         "marker": {
          "color": [
           875,
           858,
           856,
           793,
           786,
           784,
           767,
           755,
           755,
           739,
           726,
           715,
           706,
           705,
           696,
           687,
           670,
           668,
           662,
           655,
           652,
           651,
           643,
           640,
           638,
           635,
           635,
           630,
           630,
           626,
           624,
           623,
           620,
           614,
           610,
           600,
           598,
           596,
           593,
           593,
           587,
           584,
           584,
           582,
           576,
           568,
           567,
           566,
           561,
           557
          ],
          "coloraxis": "coloraxis",
          "size": [
           931,
           1105,
           3108,
           943,
           1572,
           2241,
           3247,
           1578,
           1155,
           2563,
           4526,
           1224,
           3931,
           2348,
           1303,
           4367,
           2445,
           1646,
           3798,
           1587,
           888,
           1655,
           826,
           4062,
           1104,
           2969,
           3365,
           3515,
           2781,
           1000,
           1203,
           1410,
           956,
           3208,
           863,
           4764,
           2644,
           1514,
           1042,
           3880,
           1474,
           6486,
           3134,
           2499,
           1256,
           888,
           3383,
           1315,
           3254,
           2967
          ],
          "sizemode": "area",
          "sizeref": 16.215,
          "symbol": "circle"
         },
         "mode": "markers",
         "name": "",
         "orientation": "v",
         "showlegend": false,
         "type": "scatter",
         "x": [
          0.789,
          0.684,
          0.806,
          0.748,
          0.793,
          0.731,
          0.849,
          0.777,
          0.727,
          0.825,
          0.912,
          0.831,
          0.715,
          0.796,
          0.652,
          0.799,
          0.779,
          0.747,
          0.631,
          0.747,
          0.733,
          0.851,
          0.773,
          0.783,
          0.803,
          0.841,
          0.617,
          0.641,
          0.713,
          0.813,
          0.827,
          0.62,
          0.789,
          0.756,
          0.784,
          0.867,
          0.753,
          0.773,
          0.803,
          0.769,
          0.75,
          0.836,
          0.786,
          0.785,
          0.802,
          0.676,
          0.683,
          0.712,
          0.777,
          0.808
         ],
         "xaxis": "x",
         "y": [
          0.329,
          0.295,
          0.394,
          0.267,
          0.375,
          0.393,
          0.402,
          0.388,
          0.348,
          0.397,
          0.416,
          0.412,
          0.32,
          0.362,
          0.325,
          0.381,
          0.384,
          0.345,
          0.358,
          0.398,
          0.338,
          0.361,
          0.362,
          0.36,
          0.348,
          0.384,
          0.346,
          0.356,
          0.364,
          0.345,
          0.382,
          0.343,
          0.349,
          0.358,
          0.343,
          0.373,
          0.38,
          0.333,
          0.351,
          0.375,
          0.404,
          0.395,
          0.368,
          0.384,
          0.354,
          0.217,
          0.313,
          0.363,
          0.384,
          0.349
         ],
         "yaxis": "y"
        }
       ],
       "layout": {
        "coloraxis": {
         "colorbar": {
          "title": {
           "text": "NCAA_FTA"
          }
         },
         "colorscale": [
          [
           0,
           "#0d0887"
          ],
          [
           0.1111111111111111,
           "#46039f"
          ],
          [
           0.2222222222222222,
           "#7201a8"
          ],
          [
           0.3333333333333333,
           "#9c179e"
          ],
          [
           0.4444444444444444,
           "#bd3786"
          ],
          [
           0.5555555555555556,
           "#d8576b"
          ],
          [
           0.6666666666666666,
           "#ed7953"
          ],
          [
           0.7777777777777778,
           "#fb9f3a"
          ],
          [
           0.8888888888888888,
           "#fdca26"
          ],
          [
           1,
           "#f0f921"
          ]
         ]
        },
        "legend": {
         "itemsizing": "constant",
         "tracegroupgap": 0
        },
        "margin": {
         "t": 60
        },
        "template": {
         "data": {
          "bar": [
           {
            "error_x": {
             "color": "#2a3f5f"
            },
            "error_y": {
             "color": "#2a3f5f"
            },
            "marker": {
             "line": {
              "color": "#E5ECF6",
              "width": 0.5
             }
            },
            "type": "bar"
           }
          ],
          "barpolar": [
           {
            "marker": {
             "line": {
              "color": "#E5ECF6",
              "width": 0.5
             }
            },
            "type": "barpolar"
           }
          ],
          "carpet": [
           {
            "aaxis": {
             "endlinecolor": "#2a3f5f",
             "gridcolor": "white",
             "linecolor": "white",
             "minorgridcolor": "white",
             "startlinecolor": "#2a3f5f"
            },
            "baxis": {
             "endlinecolor": "#2a3f5f",
             "gridcolor": "white",
             "linecolor": "white",
             "minorgridcolor": "white",
             "startlinecolor": "#2a3f5f"
            },
            "type": "carpet"
           }
          ],
          "choropleth": [
           {
            "colorbar": {
             "outlinewidth": 0,
             "ticks": ""
            },
            "type": "choropleth"
           }
          ],
          "contour": [
           {
            "colorbar": {
             "outlinewidth": 0,
             "ticks": ""
            },
            "colorscale": [
             [
              0,
              "#0d0887"
             ],
             [
              0.1111111111111111,
              "#46039f"
             ],
             [
              0.2222222222222222,
              "#7201a8"
             ],
             [
              0.3333333333333333,
              "#9c179e"
             ],
             [
              0.4444444444444444,
              "#bd3786"
             ],
             [
              0.5555555555555556,
              "#d8576b"
             ],
             [
              0.6666666666666666,
              "#ed7953"
             ],
             [
              0.7777777777777778,
              "#fb9f3a"
             ],
             [
              0.8888888888888888,
              "#fdca26"
             ],
             [
              1,
              "#f0f921"
             ]
            ],
            "type": "contour"
           }
          ],
          "contourcarpet": [
           {
            "colorbar": {
             "outlinewidth": 0,
             "ticks": ""
            },
            "type": "contourcarpet"
           }
          ],
          "heatmap": [
           {
            "colorbar": {
             "outlinewidth": 0,
             "ticks": ""
            },
            "colorscale": [
             [
              0,
              "#0d0887"
             ],
             [
              0.1111111111111111,
              "#46039f"
             ],
             [
              0.2222222222222222,
              "#7201a8"
             ],
             [
              0.3333333333333333,
              "#9c179e"
             ],
             [
              0.4444444444444444,
              "#bd3786"
             ],
             [
              0.5555555555555556,
              "#d8576b"
             ],
             [
              0.6666666666666666,
              "#ed7953"
             ],
             [
              0.7777777777777778,
              "#fb9f3a"
             ],
             [
              0.8888888888888888,
              "#fdca26"
             ],
             [
              1,
              "#f0f921"
             ]
            ],
            "type": "heatmap"
           }
          ],
          "heatmapgl": [
           {
            "colorbar": {
             "outlinewidth": 0,
             "ticks": ""
            },
            "colorscale": [
             [
              0,
              "#0d0887"
             ],
             [
              0.1111111111111111,
              "#46039f"
             ],
             [
              0.2222222222222222,
              "#7201a8"
             ],
             [
              0.3333333333333333,
              "#9c179e"
             ],
             [
              0.4444444444444444,
              "#bd3786"
             ],
             [
              0.5555555555555556,
              "#d8576b"
             ],
             [
              0.6666666666666666,
              "#ed7953"
             ],
             [
              0.7777777777777778,
              "#fb9f3a"
             ],
             [
              0.8888888888888888,
              "#fdca26"
             ],
             [
              1,
              "#f0f921"
             ]
            ],
            "type": "heatmapgl"
           }
          ],
          "histogram": [
           {
            "marker": {
             "colorbar": {
              "outlinewidth": 0,
              "ticks": ""
             }
            },
            "type": "histogram"
           }
          ],
          "histogram2d": [
           {
            "colorbar": {
             "outlinewidth": 0,
             "ticks": ""
            },
            "colorscale": [
             [
              0,
              "#0d0887"
             ],
             [
              0.1111111111111111,
              "#46039f"
             ],
             [
              0.2222222222222222,
              "#7201a8"
             ],
             [
              0.3333333333333333,
              "#9c179e"
             ],
             [
              0.4444444444444444,
              "#bd3786"
             ],
             [
              0.5555555555555556,
              "#d8576b"
             ],
             [
              0.6666666666666666,
              "#ed7953"
             ],
             [
              0.7777777777777778,
              "#fb9f3a"
             ],
             [
              0.8888888888888888,
              "#fdca26"
             ],
             [
              1,
              "#f0f921"
             ]
            ],
            "type": "histogram2d"
           }
          ],
          "histogram2dcontour": [
           {
            "colorbar": {
             "outlinewidth": 0,
             "ticks": ""
            },
            "colorscale": [
             [
              0,
              "#0d0887"
             ],
             [
              0.1111111111111111,
              "#46039f"
             ],
             [
              0.2222222222222222,
              "#7201a8"
             ],
             [
              0.3333333333333333,
              "#9c179e"
             ],
             [
              0.4444444444444444,
              "#bd3786"
             ],
             [
              0.5555555555555556,
              "#d8576b"
             ],
             [
              0.6666666666666666,
              "#ed7953"
             ],
             [
              0.7777777777777778,
              "#fb9f3a"
             ],
             [
              0.8888888888888888,
              "#fdca26"
             ],
             [
              1,
              "#f0f921"
             ]
            ],
            "type": "histogram2dcontour"
           }
          ],
          "mesh3d": [
           {
            "colorbar": {
             "outlinewidth": 0,
             "ticks": ""
            },
            "type": "mesh3d"
           }
          ],
          "parcoords": [
           {
            "line": {
             "colorbar": {
              "outlinewidth": 0,
              "ticks": ""
             }
            },
            "type": "parcoords"
           }
          ],
          "pie": [
           {
            "automargin": true,
            "type": "pie"
           }
          ],
          "scatter": [
           {
            "marker": {
             "colorbar": {
              "outlinewidth": 0,
              "ticks": ""
             }
            },
            "type": "scatter"
           }
          ],
          "scatter3d": [
           {
            "line": {
             "colorbar": {
              "outlinewidth": 0,
              "ticks": ""
             }
            },
            "marker": {
             "colorbar": {
              "outlinewidth": 0,
              "ticks": ""
             }
            },
            "type": "scatter3d"
           }
          ],
          "scattercarpet": [
           {
            "marker": {
             "colorbar": {
              "outlinewidth": 0,
              "ticks": ""
             }
            },
            "type": "scattercarpet"
           }
          ],
          "scattergeo": [
           {
            "marker": {
             "colorbar": {
              "outlinewidth": 0,
              "ticks": ""
             }
            },
            "type": "scattergeo"
           }
          ],
          "scattergl": [
           {
            "marker": {
             "colorbar": {
              "outlinewidth": 0,
              "ticks": ""
             }
            },
            "type": "scattergl"
           }
          ],
          "scattermapbox": [
           {
            "marker": {
             "colorbar": {
              "outlinewidth": 0,
              "ticks": ""
             }
            },
            "type": "scattermapbox"
           }
          ],
          "scatterpolar": [
           {
            "marker": {
             "colorbar": {
              "outlinewidth": 0,
              "ticks": ""
             }
            },
            "type": "scatterpolar"
           }
          ],
          "scatterpolargl": [
           {
            "marker": {
             "colorbar": {
              "outlinewidth": 0,
              "ticks": ""
             }
            },
            "type": "scatterpolargl"
           }
          ],
          "scatterternary": [
           {
            "marker": {
             "colorbar": {
              "outlinewidth": 0,
              "ticks": ""
             }
            },
            "type": "scatterternary"
           }
          ],
          "surface": [
           {
            "colorbar": {
             "outlinewidth": 0,
             "ticks": ""
            },
            "colorscale": [
             [
              0,
              "#0d0887"
             ],
             [
              0.1111111111111111,
              "#46039f"
             ],
             [
              0.2222222222222222,
              "#7201a8"
             ],
             [
              0.3333333333333333,
              "#9c179e"
             ],
             [
              0.4444444444444444,
              "#bd3786"
             ],
             [
              0.5555555555555556,
              "#d8576b"
             ],
             [
              0.6666666666666666,
              "#ed7953"
             ],
             [
              0.7777777777777778,
              "#fb9f3a"
             ],
             [
              0.8888888888888888,
              "#fdca26"
             ],
             [
              1,
              "#f0f921"
             ]
            ],
            "type": "surface"
           }
          ],
          "table": [
           {
            "cells": {
             "fill": {
              "color": "#EBF0F8"
             },
             "line": {
              "color": "white"
             }
            },
            "header": {
             "fill": {
              "color": "#C8D4E3"
             },
             "line": {
              "color": "white"
             }
            },
            "type": "table"
           }
          ]
         },
         "layout": {
          "annotationdefaults": {
           "arrowcolor": "#2a3f5f",
           "arrowhead": 0,
           "arrowwidth": 1
          },
          "autotypenumbers": "strict",
          "coloraxis": {
           "colorbar": {
            "outlinewidth": 0,
            "ticks": ""
           }
          },
          "colorscale": {
           "diverging": [
            [
             0,
             "#8e0152"
            ],
            [
             0.1,
             "#c51b7d"
            ],
            [
             0.2,
             "#de77ae"
            ],
            [
             0.3,
             "#f1b6da"
            ],
            [
             0.4,
             "#fde0ef"
            ],
            [
             0.5,
             "#f7f7f7"
            ],
            [
             0.6,
             "#e6f5d0"
            ],
            [
             0.7,
             "#b8e186"
            ],
            [
             0.8,
             "#7fbc41"
            ],
            [
             0.9,
             "#4d9221"
            ],
            [
             1,
             "#276419"
            ]
           ],
           "sequential": [
            [
             0,
             "#0d0887"
            ],
            [
             0.1111111111111111,
             "#46039f"
            ],
            [
             0.2222222222222222,
             "#7201a8"
            ],
            [
             0.3333333333333333,
             "#9c179e"
            ],
            [
             0.4444444444444444,
             "#bd3786"
            ],
            [
             0.5555555555555556,
             "#d8576b"
            ],
            [
             0.6666666666666666,
             "#ed7953"
            ],
            [
             0.7777777777777778,
             "#fb9f3a"
            ],
            [
             0.8888888888888888,
             "#fdca26"
            ],
            [
             1,
             "#f0f921"
            ]
           ],
           "sequentialminus": [
            [
             0,
             "#0d0887"
            ],
            [
             0.1111111111111111,
             "#46039f"
            ],
            [
             0.2222222222222222,
             "#7201a8"
            ],
            [
             0.3333333333333333,
             "#9c179e"
            ],
            [
             0.4444444444444444,
             "#bd3786"
            ],
            [
             0.5555555555555556,
             "#d8576b"
            ],
            [
             0.6666666666666666,
             "#ed7953"
            ],
            [
             0.7777777777777778,
             "#fb9f3a"
            ],
            [
             0.8888888888888888,
             "#fdca26"
            ],
            [
             1,
             "#f0f921"
            ]
           ]
          },
          "colorway": [
           "#636efa",
           "#EF553B",
           "#00cc96",
           "#ab63fa",
           "#FFA15A",
           "#19d3f3",
           "#FF6692",
           "#B6E880",
           "#FF97FF",
           "#FECB52"
          ],
          "font": {
           "color": "#2a3f5f"
          },
          "geo": {
           "bgcolor": "white",
           "lakecolor": "white",
           "landcolor": "#E5ECF6",
           "showlakes": true,
           "showland": true,
           "subunitcolor": "white"
          },
          "hoverlabel": {
           "align": "left"
          },
          "hovermode": "closest",
          "mapbox": {
           "style": "light"
          },
          "paper_bgcolor": "white",
          "plot_bgcolor": "#E5ECF6",
          "polar": {
           "angularaxis": {
            "gridcolor": "white",
            "linecolor": "white",
            "ticks": ""
           },
           "bgcolor": "#E5ECF6",
           "radialaxis": {
            "gridcolor": "white",
            "linecolor": "white",
            "ticks": ""
           }
          },
          "scene": {
           "xaxis": {
            "backgroundcolor": "#E5ECF6",
            "gridcolor": "white",
            "gridwidth": 2,
            "linecolor": "white",
            "showbackground": true,
            "ticks": "",
            "zerolinecolor": "white"
           },
           "yaxis": {
            "backgroundcolor": "#E5ECF6",
            "gridcolor": "white",
            "gridwidth": 2,
            "linecolor": "white",
            "showbackground": true,
            "ticks": "",
            "zerolinecolor": "white"
           },
           "zaxis": {
            "backgroundcolor": "#E5ECF6",
            "gridcolor": "white",
            "gridwidth": 2,
            "linecolor": "white",
            "showbackground": true,
            "ticks": "",
            "zerolinecolor": "white"
           }
          },
          "shapedefaults": {
           "line": {
            "color": "#2a3f5f"
           }
          },
          "ternary": {
           "aaxis": {
            "gridcolor": "white",
            "linecolor": "white",
            "ticks": ""
           },
           "baxis": {
            "gridcolor": "white",
            "linecolor": "white",
            "ticks": ""
           },
           "bgcolor": "#E5ECF6",
           "caxis": {
            "gridcolor": "white",
            "linecolor": "white",
            "ticks": ""
           }
          },
          "title": {
           "x": 0.05
          },
          "xaxis": {
           "automargin": true,
           "gridcolor": "white",
           "linecolor": "white",
           "ticks": "",
           "title": {
            "standoff": 15
           },
           "zerolinecolor": "white",
           "zerolinewidth": 2
          },
          "yaxis": {
           "automargin": true,
           "gridcolor": "white",
           "linecolor": "white",
           "ticks": "",
           "title": {
            "standoff": 15
           },
           "zerolinecolor": "white",
           "zerolinewidth": 2
          }
         }
        },
        "xaxis": {
         "anchor": "y",
         "domain": [
          0,
          1
         ],
         "title": {
          "text": "NCAA_FT%"
         }
        },
        "yaxis": {
         "anchor": "x",
         "domain": [
          0,
          1
         ],
         "title": {
          "text": "NBA_3P%"
         }
        }
       }
      },
      "text/html": [
       "<div>                            <div id=\"757c536f-52d9-4e0d-8e5b-795ae2a8e48b\" class=\"plotly-graph-div\" style=\"height:525px; width:100%;\"></div>            <script type=\"text/javascript\">                require([\"plotly\"], function(Plotly) {                    window.PLOTLYENV=window.PLOTLYENV || {};                                    if (document.getElementById(\"757c536f-52d9-4e0d-8e5b-795ae2a8e48b\")) {                    Plotly.newPlot(                        \"757c536f-52d9-4e0d-8e5b-795ae2a8e48b\",                        [{\"customdata\": [[\"Bryant Stith\"], [\"Derrick Coleman\"], [\"Hersey Hawkins\"], [\"Bimbo Coles\"], [\"Sean Elliott\"], [\"Jared Dudley\"], [\"Allan Houston\"], [\"Troy Murphy\"], [\"Lucious Harris\"], [\"CJ McCollum\"], [\"JJ Redick\"], [\"Doug McDermott\"], [\"Vernon Maxwell\"], [\"Sam Perkins\"], [\"Bob Sura\"], [\"Wesley Matthews\"], [\"Anthony Peeler\"], [\"Todd Day\"], [\"Dan Majerle\"], [\"Pat Garrity\"], [\"Devin Brown\"], [\"Keith Van Horn\"], [\"Kyle Singler\"], [\"Kemba Walker\"], [\"Earl Boykins\"], [\"Kevin Martin\"], [\"Antawn Jamison\"], [\"Clifford Robinson\"], [\"Isaiah Thomas\"], [\"Shabazz Napier\"], [\"Gary Neal\"], [\"Paul Millsap\"], [\"Ryan Gomes\"], [\"Steve Smith\"], [\"Eric Murdock\"], [\"Damian Lillard\"], [\"Danny Granger\"], [\"Jimmy Butler\"], [\"Isaiah Canaan\"], [\"Michael Finley\"], [\"Anthony Parker\"], [\"Reggie Miller\"], [\"Jameer Nelson\"], [\"George Hill\"], [\"Toney Douglas\"], [\"Andre Miller\"], [\"Allen Iverson\"], [\"Raef LaFrentz\"], [\"Shane Battier\"], [\"James Posey\"]], \"hovertemplate\": \"NCAA_FT%=%{x}<br>NBA_3P%=%{y}<br>NBA_3PA=%{marker.size}<br>name=%{customdata[0]}<br>NCAA_FTA=%{marker.color}<extra></extra>\", \"legendgroup\": \"\", \"marker\": {\"color\": [875, 858, 856, 793, 786, 784, 767, 755, 755, 739, 726, 715, 706, 705, 696, 687, 670, 668, 662, 655, 652, 651, 643, 640, 638, 635, 635, 630, 630, 626, 624, 623, 620, 614, 610, 600, 598, 596, 593, 593, 587, 584, 584, 582, 576, 568, 567, 566, 561, 557], \"coloraxis\": \"coloraxis\", \"size\": [931, 1105, 3108, 943, 1572, 2241, 3247, 1578, 1155, 2563, 4526, 1224, 3931, 2348, 1303, 4367, 2445, 1646, 3798, 1587, 888, 1655, 826, 4062, 1104, 2969, 3365, 3515, 2781, 1000, 1203, 1410, 956, 3208, 863, 4764, 2644, 1514, 1042, 3880, 1474, 6486, 3134, 2499, 1256, 888, 3383, 1315, 3254, 2967], \"sizemode\": \"area\", \"sizeref\": 16.215, \"symbol\": \"circle\"}, \"mode\": \"markers\", \"name\": \"\", \"orientation\": \"v\", \"showlegend\": false, \"type\": \"scatter\", \"x\": [0.789, 0.684, 0.806, 0.748, 0.793, 0.731, 0.849, 0.777, 0.727, 0.825, 0.912, 0.831, 0.715, 0.796, 0.652, 0.799, 0.779, 0.747, 0.631, 0.747, 0.733, 0.851, 0.773, 0.783, 0.803, 0.841, 0.617, 0.641, 0.713, 0.813, 0.827, 0.62, 0.789, 0.756, 0.784, 0.867, 0.753, 0.773, 0.803, 0.769, 0.75, 0.836, 0.786, 0.785, 0.802, 0.676, 0.683, 0.712, 0.777, 0.808], \"xaxis\": \"x\", \"y\": [0.329, 0.295, 0.394, 0.267, 0.375, 0.393, 0.402, 0.388, 0.348, 0.397, 0.416, 0.412, 0.32, 0.362, 0.325, 0.381, 0.384, 0.345, 0.358, 0.398, 0.338, 0.361, 0.362, 0.36, 0.348, 0.384, 0.346, 0.356, 0.364, 0.345, 0.382, 0.343, 0.349, 0.358, 0.343, 0.373, 0.38, 0.333, 0.351, 0.375, 0.404, 0.395, 0.368, 0.384, 0.354, 0.217, 0.313, 0.363, 0.384, 0.349], \"yaxis\": \"y\"}],                        {\"coloraxis\": {\"colorbar\": {\"title\": {\"text\": \"NCAA_FTA\"}}, \"colorscale\": [[0.0, \"#0d0887\"], [0.1111111111111111, \"#46039f\"], [0.2222222222222222, \"#7201a8\"], [0.3333333333333333, \"#9c179e\"], [0.4444444444444444, \"#bd3786\"], [0.5555555555555556, \"#d8576b\"], [0.6666666666666666, \"#ed7953\"], [0.7777777777777778, \"#fb9f3a\"], [0.8888888888888888, \"#fdca26\"], [1.0, \"#f0f921\"]]}, \"legend\": {\"itemsizing\": \"constant\", \"tracegroupgap\": 0}, \"margin\": {\"t\": 60}, \"template\": {\"data\": {\"bar\": [{\"error_x\": {\"color\": \"#2a3f5f\"}, \"error_y\": {\"color\": \"#2a3f5f\"}, \"marker\": {\"line\": {\"color\": \"#E5ECF6\", \"width\": 0.5}}, \"type\": \"bar\"}], \"barpolar\": [{\"marker\": {\"line\": {\"color\": \"#E5ECF6\", \"width\": 0.5}}, \"type\": \"barpolar\"}], \"carpet\": [{\"aaxis\": {\"endlinecolor\": \"#2a3f5f\", \"gridcolor\": \"white\", \"linecolor\": \"white\", \"minorgridcolor\": \"white\", \"startlinecolor\": \"#2a3f5f\"}, \"baxis\": {\"endlinecolor\": \"#2a3f5f\", \"gridcolor\": \"white\", \"linecolor\": \"white\", \"minorgridcolor\": \"white\", \"startlinecolor\": \"#2a3f5f\"}, \"type\": \"carpet\"}], \"choropleth\": [{\"colorbar\": {\"outlinewidth\": 0, \"ticks\": \"\"}, \"type\": \"choropleth\"}], \"contour\": [{\"colorbar\": {\"outlinewidth\": 0, \"ticks\": \"\"}, \"colorscale\": [[0.0, \"#0d0887\"], [0.1111111111111111, \"#46039f\"], [0.2222222222222222, \"#7201a8\"], [0.3333333333333333, \"#9c179e\"], [0.4444444444444444, \"#bd3786\"], [0.5555555555555556, \"#d8576b\"], [0.6666666666666666, \"#ed7953\"], [0.7777777777777778, \"#fb9f3a\"], [0.8888888888888888, \"#fdca26\"], [1.0, \"#f0f921\"]], \"type\": \"contour\"}], \"contourcarpet\": [{\"colorbar\": {\"outlinewidth\": 0, \"ticks\": \"\"}, \"type\": \"contourcarpet\"}], \"heatmap\": [{\"colorbar\": {\"outlinewidth\": 0, \"ticks\": \"\"}, \"colorscale\": [[0.0, \"#0d0887\"], [0.1111111111111111, \"#46039f\"], [0.2222222222222222, \"#7201a8\"], [0.3333333333333333, \"#9c179e\"], [0.4444444444444444, \"#bd3786\"], [0.5555555555555556, \"#d8576b\"], [0.6666666666666666, \"#ed7953\"], [0.7777777777777778, \"#fb9f3a\"], [0.8888888888888888, \"#fdca26\"], [1.0, \"#f0f921\"]], \"type\": \"heatmap\"}], \"heatmapgl\": [{\"colorbar\": {\"outlinewidth\": 0, \"ticks\": \"\"}, \"colorscale\": [[0.0, \"#0d0887\"], [0.1111111111111111, \"#46039f\"], [0.2222222222222222, \"#7201a8\"], [0.3333333333333333, \"#9c179e\"], [0.4444444444444444, \"#bd3786\"], [0.5555555555555556, \"#d8576b\"], [0.6666666666666666, \"#ed7953\"], [0.7777777777777778, \"#fb9f3a\"], [0.8888888888888888, \"#fdca26\"], [1.0, \"#f0f921\"]], \"type\": \"heatmapgl\"}], \"histogram\": [{\"marker\": {\"colorbar\": {\"outlinewidth\": 0, \"ticks\": \"\"}}, \"type\": \"histogram\"}], \"histogram2d\": [{\"colorbar\": {\"outlinewidth\": 0, \"ticks\": \"\"}, \"colorscale\": [[0.0, \"#0d0887\"], [0.1111111111111111, \"#46039f\"], [0.2222222222222222, \"#7201a8\"], [0.3333333333333333, \"#9c179e\"], [0.4444444444444444, \"#bd3786\"], [0.5555555555555556, \"#d8576b\"], [0.6666666666666666, \"#ed7953\"], [0.7777777777777778, \"#fb9f3a\"], [0.8888888888888888, \"#fdca26\"], [1.0, \"#f0f921\"]], \"type\": \"histogram2d\"}], \"histogram2dcontour\": [{\"colorbar\": {\"outlinewidth\": 0, \"ticks\": \"\"}, \"colorscale\": [[0.0, \"#0d0887\"], [0.1111111111111111, \"#46039f\"], [0.2222222222222222, \"#7201a8\"], [0.3333333333333333, \"#9c179e\"], [0.4444444444444444, \"#bd3786\"], [0.5555555555555556, \"#d8576b\"], [0.6666666666666666, \"#ed7953\"], [0.7777777777777778, \"#fb9f3a\"], [0.8888888888888888, \"#fdca26\"], [1.0, \"#f0f921\"]], \"type\": \"histogram2dcontour\"}], \"mesh3d\": [{\"colorbar\": {\"outlinewidth\": 0, \"ticks\": \"\"}, \"type\": \"mesh3d\"}], \"parcoords\": [{\"line\": {\"colorbar\": {\"outlinewidth\": 0, \"ticks\": \"\"}}, \"type\": \"parcoords\"}], \"pie\": [{\"automargin\": true, \"type\": \"pie\"}], \"scatter\": [{\"marker\": {\"colorbar\": {\"outlinewidth\": 0, \"ticks\": \"\"}}, \"type\": \"scatter\"}], \"scatter3d\": [{\"line\": {\"colorbar\": {\"outlinewidth\": 0, \"ticks\": \"\"}}, \"marker\": {\"colorbar\": {\"outlinewidth\": 0, \"ticks\": \"\"}}, \"type\": \"scatter3d\"}], \"scattercarpet\": [{\"marker\": {\"colorbar\": {\"outlinewidth\": 0, \"ticks\": \"\"}}, \"type\": \"scattercarpet\"}], \"scattergeo\": [{\"marker\": {\"colorbar\": {\"outlinewidth\": 0, \"ticks\": \"\"}}, \"type\": \"scattergeo\"}], \"scattergl\": [{\"marker\": {\"colorbar\": {\"outlinewidth\": 0, \"ticks\": \"\"}}, \"type\": \"scattergl\"}], \"scattermapbox\": [{\"marker\": {\"colorbar\": {\"outlinewidth\": 0, \"ticks\": \"\"}}, \"type\": \"scattermapbox\"}], \"scatterpolar\": [{\"marker\": {\"colorbar\": {\"outlinewidth\": 0, \"ticks\": \"\"}}, \"type\": \"scatterpolar\"}], \"scatterpolargl\": [{\"marker\": {\"colorbar\": {\"outlinewidth\": 0, \"ticks\": \"\"}}, \"type\": \"scatterpolargl\"}], \"scatterternary\": [{\"marker\": {\"colorbar\": {\"outlinewidth\": 0, \"ticks\": \"\"}}, \"type\": \"scatterternary\"}], \"surface\": [{\"colorbar\": {\"outlinewidth\": 0, \"ticks\": \"\"}, \"colorscale\": [[0.0, \"#0d0887\"], [0.1111111111111111, \"#46039f\"], [0.2222222222222222, \"#7201a8\"], [0.3333333333333333, \"#9c179e\"], [0.4444444444444444, \"#bd3786\"], [0.5555555555555556, \"#d8576b\"], [0.6666666666666666, \"#ed7953\"], [0.7777777777777778, \"#fb9f3a\"], [0.8888888888888888, \"#fdca26\"], [1.0, \"#f0f921\"]], \"type\": \"surface\"}], \"table\": [{\"cells\": {\"fill\": {\"color\": \"#EBF0F8\"}, \"line\": {\"color\": \"white\"}}, \"header\": {\"fill\": {\"color\": \"#C8D4E3\"}, \"line\": {\"color\": \"white\"}}, \"type\": \"table\"}]}, \"layout\": {\"annotationdefaults\": {\"arrowcolor\": \"#2a3f5f\", \"arrowhead\": 0, \"arrowwidth\": 1}, \"autotypenumbers\": \"strict\", \"coloraxis\": {\"colorbar\": {\"outlinewidth\": 0, \"ticks\": \"\"}}, \"colorscale\": {\"diverging\": [[0, \"#8e0152\"], [0.1, \"#c51b7d\"], [0.2, \"#de77ae\"], [0.3, \"#f1b6da\"], [0.4, \"#fde0ef\"], [0.5, \"#f7f7f7\"], [0.6, \"#e6f5d0\"], [0.7, \"#b8e186\"], [0.8, \"#7fbc41\"], [0.9, \"#4d9221\"], [1, \"#276419\"]], \"sequential\": [[0.0, \"#0d0887\"], [0.1111111111111111, \"#46039f\"], [0.2222222222222222, \"#7201a8\"], [0.3333333333333333, \"#9c179e\"], [0.4444444444444444, \"#bd3786\"], [0.5555555555555556, \"#d8576b\"], [0.6666666666666666, \"#ed7953\"], [0.7777777777777778, \"#fb9f3a\"], [0.8888888888888888, \"#fdca26\"], [1.0, \"#f0f921\"]], \"sequentialminus\": [[0.0, \"#0d0887\"], [0.1111111111111111, \"#46039f\"], [0.2222222222222222, \"#7201a8\"], [0.3333333333333333, \"#9c179e\"], [0.4444444444444444, \"#bd3786\"], [0.5555555555555556, \"#d8576b\"], [0.6666666666666666, \"#ed7953\"], [0.7777777777777778, \"#fb9f3a\"], [0.8888888888888888, \"#fdca26\"], [1.0, \"#f0f921\"]]}, \"colorway\": [\"#636efa\", \"#EF553B\", \"#00cc96\", \"#ab63fa\", \"#FFA15A\", \"#19d3f3\", \"#FF6692\", \"#B6E880\", \"#FF97FF\", \"#FECB52\"], \"font\": {\"color\": \"#2a3f5f\"}, \"geo\": {\"bgcolor\": \"white\", \"lakecolor\": \"white\", \"landcolor\": \"#E5ECF6\", \"showlakes\": true, \"showland\": true, \"subunitcolor\": \"white\"}, \"hoverlabel\": {\"align\": \"left\"}, \"hovermode\": \"closest\", \"mapbox\": {\"style\": \"light\"}, \"paper_bgcolor\": \"white\", \"plot_bgcolor\": \"#E5ECF6\", \"polar\": {\"angularaxis\": {\"gridcolor\": \"white\", \"linecolor\": \"white\", \"ticks\": \"\"}, \"bgcolor\": \"#E5ECF6\", \"radialaxis\": {\"gridcolor\": \"white\", \"linecolor\": \"white\", \"ticks\": \"\"}}, \"scene\": {\"xaxis\": {\"backgroundcolor\": \"#E5ECF6\", \"gridcolor\": \"white\", \"gridwidth\": 2, \"linecolor\": \"white\", \"showbackground\": true, \"ticks\": \"\", \"zerolinecolor\": \"white\"}, \"yaxis\": {\"backgroundcolor\": \"#E5ECF6\", \"gridcolor\": \"white\", \"gridwidth\": 2, \"linecolor\": \"white\", \"showbackground\": true, \"ticks\": \"\", \"zerolinecolor\": \"white\"}, \"zaxis\": {\"backgroundcolor\": \"#E5ECF6\", \"gridcolor\": \"white\", \"gridwidth\": 2, \"linecolor\": \"white\", \"showbackground\": true, \"ticks\": \"\", \"zerolinecolor\": \"white\"}}, \"shapedefaults\": {\"line\": {\"color\": \"#2a3f5f\"}}, \"ternary\": {\"aaxis\": {\"gridcolor\": \"white\", \"linecolor\": \"white\", \"ticks\": \"\"}, \"baxis\": {\"gridcolor\": \"white\", \"linecolor\": \"white\", \"ticks\": \"\"}, \"bgcolor\": \"#E5ECF6\", \"caxis\": {\"gridcolor\": \"white\", \"linecolor\": \"white\", \"ticks\": \"\"}}, \"title\": {\"x\": 0.05}, \"xaxis\": {\"automargin\": true, \"gridcolor\": \"white\", \"linecolor\": \"white\", \"ticks\": \"\", \"title\": {\"standoff\": 15}, \"zerolinecolor\": \"white\", \"zerolinewidth\": 2}, \"yaxis\": {\"automargin\": true, \"gridcolor\": \"white\", \"linecolor\": \"white\", \"ticks\": \"\", \"title\": {\"standoff\": 15}, \"zerolinecolor\": \"white\", \"zerolinewidth\": 2}}}, \"xaxis\": {\"anchor\": \"y\", \"domain\": [0.0, 1.0], \"title\": {\"text\": \"NCAA_FT%\"}}, \"yaxis\": {\"anchor\": \"x\", \"domain\": [0.0, 1.0], \"title\": {\"text\": \"NBA_3P%\"}}},                        {\"responsive\": true}                    ).then(function(){\n",
       "                            \n",
       "var gd = document.getElementById('757c536f-52d9-4e0d-8e5b-795ae2a8e48b');\n",
       "var x = new MutationObserver(function (mutations, observer) {{\n",
       "        var display = window.getComputedStyle(gd).display;\n",
       "        if (!display || display === 'none') {{\n",
       "            console.log([gd, 'removed!']);\n",
       "            Plotly.purge(gd);\n",
       "            observer.disconnect();\n",
       "        }}\n",
       "}});\n",
       "\n",
       "// Listen for the removal of the full notebook cells\n",
       "var notebookContainer = gd.closest('#notebook-container');\n",
       "if (notebookContainer) {{\n",
       "    x.observe(notebookContainer, {childList: true});\n",
       "}}\n",
       "\n",
       "// Listen for the clearing of the current output cell\n",
       "var outputEl = gd.closest('.output');\n",
       "if (outputEl) {{\n",
       "    x.observe(outputEl, {childList: true});\n",
       "}}\n",
       "\n",
       "                        })                };                });            </script>        </div>"
      ]
     },
     "metadata": {},
     "output_type": "display_data"
    }
   ],
   "source": [
    "fig = px.scatter(nba_ncaa_data_df.sort_values(by=['NCAA_FTA'], ascending=False)[0:50], x=\"NCAA_FT%\", y=\"NBA_3P%\", size=\"NBA_3PA\", color=\"NCAA_FTA\", hover_data=[\"name\"])\n",
    "fig.show()"
   ]
  },
  {
   "cell_type": "code",
   "execution_count": 112,
   "metadata": {},
   "outputs": [],
   "source": [
    "nba_ncaa_data_df.to_csv('data/nba_ncaa_data_df_2000_2020.csv', index=False)\n",
    "nba_ncaa_not_found_df.to_csv('data/nba_ncaa_not_found_df_2000_2020.csv', index=False)"
   ]
  },
  {
   "cell_type": "code",
   "execution_count": null,
   "metadata": {},
   "outputs": [],
   "source": []
  }
 ],
 "metadata": {
  "kernelspec": {
   "display_name": "Python 3",
   "language": "python",
   "name": "python3"
  },
  "language_info": {
   "codemirror_mode": {
    "name": "ipython",
    "version": 3
   },
   "file_extension": ".py",
   "mimetype": "text/x-python",
   "name": "python",
   "nbconvert_exporter": "python",
   "pygments_lexer": "ipython3",
   "version": "3.6.12"
  }
 },
 "nbformat": 4,
 "nbformat_minor": 4
}
