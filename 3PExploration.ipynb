{
 "cells": [
  {
   "cell_type": "code",
   "execution_count": 2,
   "metadata": {},
   "outputs": [],
   "source": [
    "import pandas as pd\n",
    "from basketball_reference_web_scraper import client\n",
    "from basketball_reference_web_scraper.data import OutputType"
   ]
  },
  {
   "cell_type": "markdown",
   "metadata": {},
   "source": [
    "## Gathering NBA Player Data"
   ]
  },
  {
   "cell_type": "code",
   "execution_count": 3,
   "metadata": {},
   "outputs": [],
   "source": [
    "nba_player_stats_df = pd.DataFrame()\n",
    "for year in range(2000, 2021):\n",
    "    all_player_season_total = client.players_season_totals(season_end_year=year, output_type=OutputType.JSON)\n",
    "    nba_player_stats_year_df = pd.read_json(all_player_season_total)\n",
    "    nba_player_stats_df = pd.concat([nba_player_stats_df, nba_player_stats_year_df])\n",
    "nba_player_stats_df = nba_player_stats_df.drop_duplicates(subset=['slug'])\n",
    "nba_player_stats_df = nba_player_stats_df.reset_index().drop('index',axis=1)"
   ]
  },
  {
   "cell_type": "markdown",
   "metadata": {},
   "source": [
    "Making sure duplicated data is removed"
   ]
  },
  {
   "cell_type": "code",
   "execution_count": 4,
   "metadata": {},
   "outputs": [
    {
     "data": {
      "text/plain": [
       "brownde03    1\n",
       "oladivi01    1\n",
       "labissk01    1\n",
       "chrisdi01    1\n",
       "johnsch04    1\n",
       "            ..\n",
       "gilgesh01    1\n",
       "marbust01    1\n",
       "hensojo01    1\n",
       "mitchdo01    1\n",
       "stewami01    1\n",
       "Name: slug, Length: 2040, dtype: int64"
      ]
     },
     "execution_count": 4,
     "metadata": {},
     "output_type": "execute_result"
    }
   ],
   "source": [
    "nba_player_stats_df['slug'].value_counts()"
   ]
  },
  {
   "cell_type": "markdown",
   "metadata": {},
   "source": [
    "## Filtering out Players who do not Fit Requirements\n",
    "* The requirements include having attempted a mininmum of 750 career three point attempts and having college data accessible \n",
    "* 750 was decided as the threshold from reading this article https://fansided.com/2015/01/30/freelance-friday-small-sample-size-stop-small/"
   ]
  },
  {
   "cell_type": "code",
   "execution_count": 5,
   "metadata": {},
   "outputs": [
    {
     "name": "stdout",
     "output_type": "stream",
     "text": [
      "Darrell Armstrong  not found!  darrell-armstrong-1\n",
      "Kobe Bryant  not found!  kobe-bryant-1\n",
      "Mario Elie  not found!  mario-elie-1\n",
      "Devean George  not found!  devean-george-1\n",
      "Al Harrington  not found!  al-harrington-1\n",
      "Toni Kukoč  not found!  toni-kukoč-1\n",
      "Rashard Lewis  not found!  rashard-lewis-1\n",
      "Tracy McGrady  not found!  tracy-mcgrady-1\n",
      "Dirk Nowitzki  not found!  dirk-nowitzki-1\n",
      "Scottie Pippen  not found!  scottie-pippen-1\n",
      "Terry Porter  not found!  terry-porter-1\n",
      "Peja Stojaković  not found!  peja-stojaković-1\n",
      "Metta World Peace  not found!  metta-world-peace-1\n",
      "Stephen Jackson  not found!  stephen-jackson-1\n",
      "DeShawn Stevenson  not found!  deshawn-stevenson-1\n",
      "Hedo Türkoğlu  not found!  hedo-türkoğlu-1\n",
      "Andrei Kirilenko  not found!  andrei-kirilenko-1\n",
      "Vladimir Radmanović  not found!  vladimir-radmanović-1\n",
      "Manu Ginóbili  not found!  manu-ginóbili-1\n",
      "Gordan Giriček  not found!  gordan-giriček-1\n",
      "Marko Jarić  not found!  marko-jarić-1\n",
      "Ronald Murray  not found!  ronald-murray-1\n",
      "Boštjan Nachbar  not found!  boštjan-nachbar-1\n",
      "Mehmet Okur  not found!  mehmet-okur-1\n",
      "Leandro Barbosa  not found!  leandro-barbosa-1\n",
      "Boris Diaw  not found!  boris-diaw-1\n",
      "LeBron James  not found!  lebron-james-1\n",
      "Travis Outlaw  not found!  travis-outlaw-1\n",
      "Sasha Pavlović  not found!  sasha-pavlović-1\n",
      "Mickaël Piétrus  not found!  mickaël-piétrus-1\n",
      "Carlos Delfino  not found!  carlos-delfino-1\n",
      "Andrés Nocioni  not found!  andrés-nocioni-1\n",
      "J.R. Smith  not found!  jr-smith-1\n",
      "Sebastian Telfair  not found!  sebastian-telfair-1\n",
      "Beno Udrih  not found!  beno-udrih-1\n",
      "Sasha Vujačić  not found!  sasha-vujačić-1\n",
      "Dorell Wright  not found!  dorell-wright-1\n",
      "José Calderón  not found!  josé-calderón-1\n",
      "Monta Ellis  not found!  monta-ellis-1\n",
      "Francisco García  not found!  francisco-garcía-1\n",
      "Gerald Green  not found!  gerald-green-1\n",
      "C.J. Miles  not found!  cj-miles-1\n",
      "Martell Webster  not found!  martell-webster-1\n",
      "J.J. Barea  not found!  jj-barea-1\n",
      "Andrea Bargnani  not found!  andrea-bargnani-1\n",
      "Ersan İlyasova  not found!  ersan-i̇lyasova-1\n",
      "Thabo Sefolosha  not found!  thabo-sefolosha-1\n",
      "Marco Belinelli  not found!  marco-belinelli-1\n",
      "Nicolas Batum  not found!  nicolas-batum-1\n",
      "Goran Dragić  not found!  goran-dragić-1\n",
      "Rudy Fernández  not found!  rudy-fernández-1\n",
      "Danilo Gallinari  not found!  danilo-gallinari-1\n",
      "Marc Gasol  not found!  marc-gasol-1\n",
      "Omri Casspi  not found!  omri-casspi-1\n",
      "Serge Ibaka  not found!  serge-ibaka-1\n",
      "Jonas Jerebko  not found!  jonas-jerebko-1\n",
      "Patty Mills  not found!  patty-mills-1\n",
      "Ish Smith  not found!  ish-smith-1\n",
      "Greivis Vásquez  not found!  greivis-vásquez-1\n",
      "E'Twaun Moore  not found!  e'twaun-moore-1\n",
      "Ricky Rubio  not found!  ricky-rubio-1\n",
      "Nikola Vučević  not found!  nikola-vučević-1\n",
      "Evan Fournier  not found!  evan-fournier-1\n",
      "Mirza Teletović  not found!  mirza-teletović-1\n",
      "Giannis Antetokounmpo  not found!  giannis-antetokounmpo-1\n",
      "Dennis Schröder  not found!  dennis-schröder-1\n",
      "Bojan Bogdanović  not found!  bojan-bogdanović-1\n",
      "Joe Ingles  not found!  joe-ingles-1\n",
      "Nikola Mirotić  not found!  nikola-mirotić-1\n",
      "Nemanja Bjelica  not found!  nemanja-bjelica-1\n",
      "Mario Hezonja  not found!  mario-hezonja-1\n",
      "Nikola Jokić  not found!  nikola-jokić-1\n",
      "Emmanuel Mudiay  not found!  emmanuel-mudiay-1\n",
      "Kelly Oubre Jr.  not found!  kelly-oubre-jr-1\n",
      "Kristaps Porziņģis  not found!  kristaps-porziņģis-1\n",
      "D'Angelo Russell  not found!  d'angelo-russell-1\n",
      "Dāvis Bertāns  not found!  dāvis-bertāns-1\n",
      "Yogi Ferrell  not found!  yogi-ferrell-1\n",
      "Dario Šarić  not found!  dario-šarić-1\n",
      "Fred VanVleet  not found!  fred-vanvleet-1\n",
      "Bogdan Bogdanović  not found!  bogdan-bogdanović-1\n",
      "Cedi Osman  not found!  cedi-osman-1\n",
      "Luka Dončić  not found!  luka-dončić-1\n"
     ]
    }
   ],
   "source": [
    "from sportsreference.nba.roster import Player as NBAPlayer\n",
    "from sportsreference.ncaab.roster import Player as NCAAPlayer\n",
    "\n",
    "nba_player_names = nba_player_stats_df[['name', 'slug']]\n",
    "nba_college_player_df_column_names = ['name','slug','NBA_3PA', 'NBA_3P%', 'NCAA_FT%', 'NCAA_3P%', 'NCAA_FTA']\n",
    "nba_ncaa_raw_player_data = []\n",
    "nba_player_college_data_not_found = []\n",
    "\n",
    "for player_index in range(len(nba_player_names)):\n",
    "    nba_player_name = nba_player_names['name'].loc[player_index]\n",
    "    nba_player_id = nba_player_names['slug'].loc[player_index]\n",
    "    nba_player = NBAPlayer(nba_player_id)\n",
    "    if (nba_player.three_point_attempts > 750):\n",
    "        try: \n",
    "            if \".\" in nba_player_name:\n",
    "                nba_player_name = nba_player_name.split('.')\n",
    "                nba_player_name = \"\".join(nba_player_name)\n",
    "            ncaa_player_id = nba_player_name.lower().split()\n",
    "            ncaa_player_id = '-'.join(ncaa_player_id) + '-1'\n",
    "            ncaa_player = NCAAPlayer(ncaa_player_id) \n",
    "            \n",
    "            #Each index matches the nba_college_player_df_column_names\n",
    "            nba_ncaa_raw_player_data.append([\n",
    "                nba_player_name,\n",
    "                nba_player_id, \n",
    "                nba_player.three_point_attempts,\n",
    "                nba_player.three_point_percentage,\n",
    "                ncaa_player.free_throw_percentage,\n",
    "                ncaa_player.three_point_percentage,\n",
    "                ncaa_player.free_throw_attempts\n",
    "\n",
    "            ])\n",
    "            \n",
    "        except TypeError as e:\n",
    "            print(nba_player_names['name'].loc[player_index], ' not found! ', ncaa_player_id)\n",
    "            nba_player_college_data_not_found.append([\n",
    "                nba_player_names['name'].loc[player_index],\n",
    "                nba_player_id, \n",
    "                player_index\n",
    "            ])"
   ]
  },
  {
   "cell_type": "code",
   "execution_count": 6,
   "metadata": {},
   "outputs": [],
   "source": [
    "nba_ncaa_data_df = pd.DataFrame(nba_ncaa_raw_player_data, columns =nba_college_player_df_column_names)\n",
    "nba_ncaa_not_found_df = pd.DataFrame(nba_player_college_data_not_found, columns=['name','slug', 'player_df_index'])"
   ]
  },
  {
   "cell_type": "code",
   "execution_count": 7,
   "metadata": {},
   "outputs": [
    {
     "data": {
      "text/html": [
       "<div>\n",
       "<style scoped>\n",
       "    .dataframe tbody tr th:only-of-type {\n",
       "        vertical-align: middle;\n",
       "    }\n",
       "\n",
       "    .dataframe tbody tr th {\n",
       "        vertical-align: top;\n",
       "    }\n",
       "\n",
       "    .dataframe thead th {\n",
       "        text-align: right;\n",
       "    }\n",
       "</style>\n",
       "<table border=\"1\" class=\"dataframe\">\n",
       "  <thead>\n",
       "    <tr style=\"text-align: right;\">\n",
       "      <th></th>\n",
       "      <th>name</th>\n",
       "      <th>slug</th>\n",
       "      <th>NBA_3PA</th>\n",
       "      <th>NBA_3P%</th>\n",
       "      <th>NCAA_FT%</th>\n",
       "      <th>NCAA_3P%</th>\n",
       "      <th>NCAA_FTA</th>\n",
       "    </tr>\n",
       "  </thead>\n",
       "  <tbody>\n",
       "    <tr>\n",
       "      <th>374</th>\n",
       "      <td>Joe Harris</td>\n",
       "      <td>harrijo01</td>\n",
       "      <td>1459</td>\n",
       "      <td>0.426</td>\n",
       "      <td>0.000</td>\n",
       "      <td>0.375</td>\n",
       "      <td>4</td>\n",
       "    </tr>\n",
       "    <tr>\n",
       "      <th>371</th>\n",
       "      <td>Aaron Gordon</td>\n",
       "      <td>gordoaa01</td>\n",
       "      <td>1383</td>\n",
       "      <td>0.319</td>\n",
       "      <td>0.422</td>\n",
       "      <td>0.356</td>\n",
       "      <td>180</td>\n",
       "    </tr>\n",
       "    <tr>\n",
       "      <th>214</th>\n",
       "      <td>Josh Smith</td>\n",
       "      <td>smithjo03</td>\n",
       "      <td>1578</td>\n",
       "      <td>0.285</td>\n",
       "      <td>0.500</td>\n",
       "      <td>NaN</td>\n",
       "      <td>2</td>\n",
       "    </tr>\n",
       "    <tr>\n",
       "      <th>205</th>\n",
       "      <td>Trevor Ariza</td>\n",
       "      <td>arizatr01</td>\n",
       "      <td>4362</td>\n",
       "      <td>0.352</td>\n",
       "      <td>0.504</td>\n",
       "      <td>0.237</td>\n",
       "      <td>113</td>\n",
       "    </tr>\n",
       "    <tr>\n",
       "      <th>305</th>\n",
       "      <td>Wesley Johnson</td>\n",
       "      <td>johnswe01</td>\n",
       "      <td>1823</td>\n",
       "      <td>0.337</td>\n",
       "      <td>0.508</td>\n",
       "      <td>NaN</td>\n",
       "      <td>61</td>\n",
       "    </tr>\n",
       "    <tr>\n",
       "      <th>...</th>\n",
       "      <td>...</td>\n",
       "      <td>...</td>\n",
       "      <td>...</td>\n",
       "      <td>...</td>\n",
       "      <td>...</td>\n",
       "      <td>...</td>\n",
       "      <td>...</td>\n",
       "    </tr>\n",
       "    <tr>\n",
       "      <th>297</th>\n",
       "      <td>Luke Babbitt</td>\n",
       "      <td>babbilu01</td>\n",
       "      <td>979</td>\n",
       "      <td>0.402</td>\n",
       "      <td>0.893</td>\n",
       "      <td>0.421</td>\n",
       "      <td>393</td>\n",
       "    </tr>\n",
       "    <tr>\n",
       "      <th>315</th>\n",
       "      <td>Kyrie Irving</td>\n",
       "      <td>irvinky01</td>\n",
       "      <td>2870</td>\n",
       "      <td>0.390</td>\n",
       "      <td>0.901</td>\n",
       "      <td>0.462</td>\n",
       "      <td>71</td>\n",
       "    </tr>\n",
       "    <tr>\n",
       "      <th>240</th>\n",
       "      <td>JJ Redick</td>\n",
       "      <td>redicjj01</td>\n",
       "      <td>4526</td>\n",
       "      <td>0.416</td>\n",
       "      <td>0.912</td>\n",
       "      <td>0.406</td>\n",
       "      <td>726</td>\n",
       "    </tr>\n",
       "    <tr>\n",
       "      <th>239</th>\n",
       "      <td>Steve Novak</td>\n",
       "      <td>novakst01</td>\n",
       "      <td>1337</td>\n",
       "      <td>0.430</td>\n",
       "      <td>0.931</td>\n",
       "      <td>0.461</td>\n",
       "      <td>261</td>\n",
       "    </tr>\n",
       "    <tr>\n",
       "      <th>376</th>\n",
       "      <td>Tyler Johnson</td>\n",
       "      <td>johnsty01</td>\n",
       "      <td>1072</td>\n",
       "      <td>0.359</td>\n",
       "      <td>NaN</td>\n",
       "      <td>1.000</td>\n",
       "      <td>0</td>\n",
       "    </tr>\n",
       "  </tbody>\n",
       "</table>\n",
       "<p>409 rows × 7 columns</p>\n",
       "</div>"
      ],
      "text/plain": [
       "               name       slug  NBA_3PA  NBA_3P%  NCAA_FT%  NCAA_3P%  NCAA_FTA\n",
       "374      Joe Harris  harrijo01     1459    0.426     0.000     0.375         4\n",
       "371    Aaron Gordon  gordoaa01     1383    0.319     0.422     0.356       180\n",
       "214      Josh Smith  smithjo03     1578    0.285     0.500       NaN         2\n",
       "205    Trevor Ariza  arizatr01     4362    0.352     0.504     0.237       113\n",
       "305  Wesley Johnson  johnswe01     1823    0.337     0.508       NaN        61\n",
       "..              ...        ...      ...      ...       ...       ...       ...\n",
       "297    Luke Babbitt  babbilu01      979    0.402     0.893     0.421       393\n",
       "315    Kyrie Irving  irvinky01     2870    0.390     0.901     0.462        71\n",
       "240       JJ Redick  redicjj01     4526    0.416     0.912     0.406       726\n",
       "239     Steve Novak  novakst01     1337    0.430     0.931     0.461       261\n",
       "376   Tyler Johnson  johnsty01     1072    0.359       NaN     1.000         0\n",
       "\n",
       "[409 rows x 7 columns]"
      ]
     },
     "execution_count": 7,
     "metadata": {},
     "output_type": "execute_result"
    }
   ],
   "source": [
    "nba_ncaa_data_df.sort_values(by=['NCAA_FT%'])"
   ]
  },
  {
   "cell_type": "markdown",
   "metadata": {},
   "source": [
    "We have an outlier in Joe Harris and this is from a bug in error collection so we'll drop that row "
   ]
  },
  {
   "cell_type": "code",
   "execution_count": 8,
   "metadata": {},
   "outputs": [
    {
     "data": {
      "text/plain": [
       "0.39713533519150995"
      ]
     },
     "execution_count": 8,
     "metadata": {},
     "output_type": "execute_result"
    }
   ],
   "source": [
    "nba_ncaa_data_df = nba_ncaa_data_df.drop(374)\n",
    "nba_ncaa_data_df = nba_ncaa_data_df.dropna()\n",
    "nba_ncaa_data_df['NBA_3P%'].corr(nba_ncaa_data_df['NCAA_FT%'])"
   ]
  },
  {
   "cell_type": "markdown",
   "metadata": {},
   "source": [
    "A moderate to low correlation! Let's graph out our data and see what it looks like."
   ]
  },
  {
   "cell_type": "code",
   "execution_count": 9,
   "metadata": {},
   "outputs": [
    {
     "ename": "ValueError",
     "evalue": "\nThe orca executable is required to export figures as static images,\nbut it could not be found on the system path.\n\nSearched for executable 'orca' on the following path:\n    C:\\Users\\Aman Riat\\Programming\\envs\\3PExpl\\lib\\site-packages\\pywin32_system32\n    c:\\users\\aman riat\\programming\\envs\\3pexpl\\lib\\site-packages\\pywin32_system32\n    C:\\Users\\Aman Riat\\Programming\\envs\\3PExpl\n    C:\\Users\\Aman Riat\\Programming\\envs\\3PExpl\\Library\\mingw-w64\\bin\n    C:\\Users\\Aman Riat\\Programming\\envs\\3PExpl\\Library\\usr\\bin\n    C:\\Users\\Aman Riat\\Programming\\envs\\3PExpl\\Library\\bin\n    C:\\Users\\Aman Riat\\Programming\\envs\\3PExpl\\Scripts\n    C:\\Users\\Aman Riat\\Programming\\envs\\3PExpl\\bin\n    C:\\Users\\Aman Riat\\Programming\\condabin\n    C:\\Windows\\system32\n    C:\\Windows\n    C:\\Windows\\System32\\Wbem\n    C:\\Windows\\System32\\WindowsPowerShell\\v1.0\n    C:\\Windows\\System32\\OpenSSH\n    C:\\Program Files\\NVIDIA Corporation\\NVIDIA NvDLISR\n    C:\\Program Files (x86)\\NVIDIA Corporation\\PhysX\\Common\n    C:\\Program Files\\Git\\cmd\n    C:\\Program Files\\nodejs\n    C:\\Program Files (x86)\\Yarn\\bin\n    C:\\Program Files\\Docker\\Docker\\resources\\bin\n    C:\\ProgramData\\DockerDesktop\\version-bin\n    C:\\Program Files\\dotnet\n    C:\\Users\\Aman Riat\\AppData\\Local\\Programs\\Python\\Python39\\Scripts\n    C:\\Users\\Aman Riat\\AppData\\Local\\Programs\\Python\\Python39\n    C:\\Users\\Aman Riat\\AppData\\Local\\Microsoft\\WindowsApps\n    C:\\Users\\Aman Riat\\AppData\\Local\\Programs\\Microsoft VS Code\\bin\n    C:\\Users\\Aman Riat\\AppData\\Roaming\\npm\n    C:\\Users\\Aman Riat\\AppData\\Local\\Yarn\\bin\n    C:\\Program Files\\heroku\\bin\n    C:\\Users\\Aman Riat\\.dotnet\\tools\n    C:\\Windows\\Microsoft.NET\\Framework\\v4.0.30319\n    .\n    C:\\Users\\Aman Riat\\Programming\\envs\\3PExpl\\lib\\site-packages\\numpy\\.libs\n\nIf you haven't installed orca yet, you can do so using conda as follows:\n\n    $ conda install -c plotly plotly-orca\n\nAlternatively, see other installation methods in the orca project README at\nhttps://github.com/plotly/orca\n\nAfter installation is complete, no further configuration should be needed.\n\nIf you have installed orca, then for some reason plotly.py was unable to\nlocate it. In this case, set the `plotly.io.orca.config.executable`\nproperty to the full path of your orca executable. For example:\n\n    >>> plotly.io.orca.config.executable = '/path/to/orca'\n\nAfter updating this executable property, try the export operation again.\nIf it is successful then you may want to save this configuration so that it\nwill be applied automatically in future sessions. You can do this as follows:\n\n    >>> plotly.io.orca.config.save()\n\nIf you're still having trouble, feel free to ask for help on the forums at\nhttps://community.plot.ly/c/api/python\n",
     "output_type": "error",
     "traceback": [
      "\u001b[1;31m---------------------------------------------------------------------------\u001b[0m",
      "\u001b[1;31mValueError\u001b[0m                                Traceback (most recent call last)",
      "\u001b[1;32m<ipython-input-9-ea934db10f00>\u001b[0m in \u001b[0;36m<module>\u001b[1;34m\u001b[0m\n\u001b[0;32m      1\u001b[0m \u001b[1;32mimport\u001b[0m \u001b[0mplotly\u001b[0m\u001b[1;33m.\u001b[0m\u001b[0mexpress\u001b[0m \u001b[1;32mas\u001b[0m \u001b[0mpx\u001b[0m\u001b[1;33m\u001b[0m\u001b[1;33m\u001b[0m\u001b[0m\n\u001b[0;32m      2\u001b[0m \u001b[0mfig\u001b[0m \u001b[1;33m=\u001b[0m \u001b[0mpx\u001b[0m\u001b[1;33m.\u001b[0m\u001b[0mscatter\u001b[0m\u001b[1;33m(\u001b[0m\u001b[0mnba_ncaa_data_df\u001b[0m\u001b[1;33m,\u001b[0m \u001b[0mx\u001b[0m\u001b[1;33m=\u001b[0m\u001b[1;34m\"NCAA_FT%\"\u001b[0m\u001b[1;33m,\u001b[0m \u001b[0my\u001b[0m\u001b[1;33m=\u001b[0m\u001b[1;34m\"NBA_3P%\"\u001b[0m\u001b[1;33m,\u001b[0m \u001b[0msize\u001b[0m\u001b[1;33m=\u001b[0m\u001b[1;34m\"NBA_3PA\"\u001b[0m\u001b[1;33m,\u001b[0m \u001b[0mcolor\u001b[0m\u001b[1;33m=\u001b[0m\u001b[1;34m\"NCAA_FTA\"\u001b[0m\u001b[1;33m,\u001b[0m \u001b[0mhover_data\u001b[0m\u001b[1;33m=\u001b[0m\u001b[1;33m[\u001b[0m\u001b[1;34m\"name\"\u001b[0m\u001b[1;33m]\u001b[0m\u001b[1;33m)\u001b[0m\u001b[1;33m\u001b[0m\u001b[1;33m\u001b[0m\u001b[0m\n\u001b[1;32m----> 3\u001b[1;33m \u001b[0mfig\u001b[0m\u001b[1;33m.\u001b[0m\u001b[0mshow\u001b[0m\u001b[1;33m(\u001b[0m\u001b[1;34m\"png\"\u001b[0m\u001b[1;33m)\u001b[0m\u001b[1;33m\u001b[0m\u001b[1;33m\u001b[0m\u001b[0m\n\u001b[0m",
      "\u001b[1;32m~\\Programming\\envs\\3PExpl\\lib\\site-packages\\plotly\\basedatatypes.py\u001b[0m in \u001b[0;36mshow\u001b[1;34m(self, *args, **kwargs)\u001b[0m\n\u001b[0;32m   3395\u001b[0m         \u001b[1;32mimport\u001b[0m \u001b[0mplotly\u001b[0m\u001b[1;33m.\u001b[0m\u001b[0mio\u001b[0m \u001b[1;32mas\u001b[0m \u001b[0mpio\u001b[0m\u001b[1;33m\u001b[0m\u001b[1;33m\u001b[0m\u001b[0m\n\u001b[0;32m   3396\u001b[0m \u001b[1;33m\u001b[0m\u001b[0m\n\u001b[1;32m-> 3397\u001b[1;33m         \u001b[1;32mreturn\u001b[0m \u001b[0mpio\u001b[0m\u001b[1;33m.\u001b[0m\u001b[0mshow\u001b[0m\u001b[1;33m(\u001b[0m\u001b[0mself\u001b[0m\u001b[1;33m,\u001b[0m \u001b[1;33m*\u001b[0m\u001b[0margs\u001b[0m\u001b[1;33m,\u001b[0m \u001b[1;33m**\u001b[0m\u001b[0mkwargs\u001b[0m\u001b[1;33m)\u001b[0m\u001b[1;33m\u001b[0m\u001b[1;33m\u001b[0m\u001b[0m\n\u001b[0m\u001b[0;32m   3398\u001b[0m \u001b[1;33m\u001b[0m\u001b[0m\n\u001b[0;32m   3399\u001b[0m     \u001b[1;32mdef\u001b[0m \u001b[0mto_json\u001b[0m\u001b[1;33m(\u001b[0m\u001b[0mself\u001b[0m\u001b[1;33m,\u001b[0m \u001b[1;33m*\u001b[0m\u001b[0margs\u001b[0m\u001b[1;33m,\u001b[0m \u001b[1;33m**\u001b[0m\u001b[0mkwargs\u001b[0m\u001b[1;33m)\u001b[0m\u001b[1;33m:\u001b[0m\u001b[1;33m\u001b[0m\u001b[1;33m\u001b[0m\u001b[0m\n",
      "\u001b[1;32m~\\Programming\\envs\\3PExpl\\lib\\site-packages\\plotly\\io\\_renderers.py\u001b[0m in \u001b[0;36mshow\u001b[1;34m(fig, renderer, validate, **kwargs)\u001b[0m\n\u001b[0;32m    387\u001b[0m \u001b[1;33m\u001b[0m\u001b[0m\n\u001b[0;32m    388\u001b[0m     \u001b[1;31m# Mimetype renderers\u001b[0m\u001b[1;33m\u001b[0m\u001b[1;33m\u001b[0m\u001b[1;33m\u001b[0m\u001b[0m\n\u001b[1;32m--> 389\u001b[1;33m     \u001b[0mbundle\u001b[0m \u001b[1;33m=\u001b[0m \u001b[0mrenderers\u001b[0m\u001b[1;33m.\u001b[0m\u001b[0m_build_mime_bundle\u001b[0m\u001b[1;33m(\u001b[0m\u001b[0mfig_dict\u001b[0m\u001b[1;33m,\u001b[0m \u001b[0mrenderers_string\u001b[0m\u001b[1;33m=\u001b[0m\u001b[0mrenderer\u001b[0m\u001b[1;33m,\u001b[0m \u001b[1;33m**\u001b[0m\u001b[0mkwargs\u001b[0m\u001b[1;33m)\u001b[0m\u001b[1;33m\u001b[0m\u001b[1;33m\u001b[0m\u001b[0m\n\u001b[0m\u001b[0;32m    390\u001b[0m     \u001b[1;32mif\u001b[0m \u001b[0mbundle\u001b[0m\u001b[1;33m:\u001b[0m\u001b[1;33m\u001b[0m\u001b[1;33m\u001b[0m\u001b[0m\n\u001b[0;32m    391\u001b[0m         \u001b[1;32mif\u001b[0m \u001b[1;32mnot\u001b[0m \u001b[0mipython_display\u001b[0m\u001b[1;33m:\u001b[0m\u001b[1;33m\u001b[0m\u001b[1;33m\u001b[0m\u001b[0m\n",
      "\u001b[1;32m~\\Programming\\envs\\3PExpl\\lib\\site-packages\\plotly\\io\\_renderers.py\u001b[0m in \u001b[0;36m_build_mime_bundle\u001b[1;34m(self, fig_dict, renderers_string, **kwargs)\u001b[0m\n\u001b[0;32m    295\u001b[0m                         \u001b[0msetattr\u001b[0m\u001b[1;33m(\u001b[0m\u001b[0mrenderer\u001b[0m\u001b[1;33m,\u001b[0m \u001b[0mk\u001b[0m\u001b[1;33m,\u001b[0m \u001b[0mv\u001b[0m\u001b[1;33m)\u001b[0m\u001b[1;33m\u001b[0m\u001b[1;33m\u001b[0m\u001b[0m\n\u001b[0;32m    296\u001b[0m \u001b[1;33m\u001b[0m\u001b[0m\n\u001b[1;32m--> 297\u001b[1;33m                 \u001b[0mbundle\u001b[0m\u001b[1;33m.\u001b[0m\u001b[0mupdate\u001b[0m\u001b[1;33m(\u001b[0m\u001b[0mrenderer\u001b[0m\u001b[1;33m.\u001b[0m\u001b[0mto_mimebundle\u001b[0m\u001b[1;33m(\u001b[0m\u001b[0mfig_dict\u001b[0m\u001b[1;33m)\u001b[0m\u001b[1;33m)\u001b[0m\u001b[1;33m\u001b[0m\u001b[1;33m\u001b[0m\u001b[0m\n\u001b[0m\u001b[0;32m    298\u001b[0m \u001b[1;33m\u001b[0m\u001b[0m\n\u001b[0;32m    299\u001b[0m         \u001b[1;32mreturn\u001b[0m \u001b[0mbundle\u001b[0m\u001b[1;33m\u001b[0m\u001b[1;33m\u001b[0m\u001b[0m\n",
      "\u001b[1;32m~\\Programming\\envs\\3PExpl\\lib\\site-packages\\plotly\\io\\_base_renderers.py\u001b[0m in \u001b[0;36mto_mimebundle\u001b[1;34m(self, fig_dict)\u001b[0m\n\u001b[0;32m    132\u001b[0m             \u001b[0mscale\u001b[0m\u001b[1;33m=\u001b[0m\u001b[0mself\u001b[0m\u001b[1;33m.\u001b[0m\u001b[0mscale\u001b[0m\u001b[1;33m,\u001b[0m\u001b[1;33m\u001b[0m\u001b[1;33m\u001b[0m\u001b[0m\n\u001b[0;32m    133\u001b[0m             \u001b[0mvalidate\u001b[0m\u001b[1;33m=\u001b[0m\u001b[1;32mFalse\u001b[0m\u001b[1;33m,\u001b[0m\u001b[1;33m\u001b[0m\u001b[1;33m\u001b[0m\u001b[0m\n\u001b[1;32m--> 134\u001b[1;33m             \u001b[0mengine\u001b[0m\u001b[1;33m=\u001b[0m\u001b[0mself\u001b[0m\u001b[1;33m.\u001b[0m\u001b[0mengine\u001b[0m\u001b[1;33m,\u001b[0m\u001b[1;33m\u001b[0m\u001b[1;33m\u001b[0m\u001b[0m\n\u001b[0m\u001b[0;32m    135\u001b[0m         )\n\u001b[0;32m    136\u001b[0m \u001b[1;33m\u001b[0m\u001b[0m\n",
      "\u001b[1;32m~\\Programming\\envs\\3PExpl\\lib\\site-packages\\plotly\\io\\_kaleido.py\u001b[0m in \u001b[0;36mto_image\u001b[1;34m(fig, format, width, height, scale, validate, engine)\u001b[0m\n\u001b[0;32m    107\u001b[0m             \u001b[0mheight\u001b[0m\u001b[1;33m=\u001b[0m\u001b[0mheight\u001b[0m\u001b[1;33m,\u001b[0m\u001b[1;33m\u001b[0m\u001b[1;33m\u001b[0m\u001b[0m\n\u001b[0;32m    108\u001b[0m             \u001b[0mscale\u001b[0m\u001b[1;33m=\u001b[0m\u001b[0mscale\u001b[0m\u001b[1;33m,\u001b[0m\u001b[1;33m\u001b[0m\u001b[1;33m\u001b[0m\u001b[0m\n\u001b[1;32m--> 109\u001b[1;33m             \u001b[0mvalidate\u001b[0m\u001b[1;33m=\u001b[0m\u001b[0mvalidate\u001b[0m\u001b[1;33m,\u001b[0m\u001b[1;33m\u001b[0m\u001b[1;33m\u001b[0m\u001b[0m\n\u001b[0m\u001b[0;32m    110\u001b[0m         )\n\u001b[0;32m    111\u001b[0m     \u001b[1;32melif\u001b[0m \u001b[0mengine\u001b[0m \u001b[1;33m!=\u001b[0m \u001b[1;34m\"kaleido\"\u001b[0m\u001b[1;33m:\u001b[0m\u001b[1;33m\u001b[0m\u001b[1;33m\u001b[0m\u001b[0m\n",
      "\u001b[1;32m~\\Programming\\envs\\3PExpl\\lib\\site-packages\\plotly\\io\\_orca.py\u001b[0m in \u001b[0;36mto_image\u001b[1;34m(fig, format, width, height, scale, validate)\u001b[0m\n\u001b[0;32m   1533\u001b[0m     \u001b[1;31m# Make sure orca sever is running\u001b[0m\u001b[1;33m\u001b[0m\u001b[1;33m\u001b[0m\u001b[1;33m\u001b[0m\u001b[0m\n\u001b[0;32m   1534\u001b[0m     \u001b[1;31m# -------------------------------\u001b[0m\u001b[1;33m\u001b[0m\u001b[1;33m\u001b[0m\u001b[1;33m\u001b[0m\u001b[0m\n\u001b[1;32m-> 1535\u001b[1;33m     \u001b[0mensure_server\u001b[0m\u001b[1;33m(\u001b[0m\u001b[1;33m)\u001b[0m\u001b[1;33m\u001b[0m\u001b[1;33m\u001b[0m\u001b[0m\n\u001b[0m\u001b[0;32m   1536\u001b[0m \u001b[1;33m\u001b[0m\u001b[0m\n\u001b[0;32m   1537\u001b[0m     \u001b[1;31m# Handle defaults\u001b[0m\u001b[1;33m\u001b[0m\u001b[1;33m\u001b[0m\u001b[1;33m\u001b[0m\u001b[0m\n",
      "\u001b[1;32m~\\Programming\\envs\\3PExpl\\lib\\site-packages\\plotly\\io\\_orca.py\u001b[0m in \u001b[0;36mensure_server\u001b[1;34m()\u001b[0m\n\u001b[0;32m   1388\u001b[0m         \u001b[1;31m# Validate orca executable only if server_url is not provided\u001b[0m\u001b[1;33m\u001b[0m\u001b[1;33m\u001b[0m\u001b[1;33m\u001b[0m\u001b[0m\n\u001b[0;32m   1389\u001b[0m         \u001b[1;32mif\u001b[0m \u001b[0mstatus\u001b[0m\u001b[1;33m.\u001b[0m\u001b[0mstate\u001b[0m \u001b[1;33m==\u001b[0m \u001b[1;34m\"unvalidated\"\u001b[0m\u001b[1;33m:\u001b[0m\u001b[1;33m\u001b[0m\u001b[1;33m\u001b[0m\u001b[0m\n\u001b[1;32m-> 1390\u001b[1;33m             \u001b[0mvalidate_executable\u001b[0m\u001b[1;33m(\u001b[0m\u001b[1;33m)\u001b[0m\u001b[1;33m\u001b[0m\u001b[1;33m\u001b[0m\u001b[0m\n\u001b[0m\u001b[0;32m   1391\u001b[0m         \u001b[1;31m# Acquire lock to make sure that we keep the properties of orca_state\u001b[0m\u001b[1;33m\u001b[0m\u001b[1;33m\u001b[0m\u001b[1;33m\u001b[0m\u001b[0m\n\u001b[0;32m   1392\u001b[0m         \u001b[1;31m# consistent across threads\u001b[0m\u001b[1;33m\u001b[0m\u001b[1;33m\u001b[0m\u001b[1;33m\u001b[0m\u001b[0m\n",
      "\u001b[1;32m~\\Programming\\envs\\3PExpl\\lib\\site-packages\\plotly\\io\\_orca.py\u001b[0m in \u001b[0;36mvalidate_executable\u001b[1;34m()\u001b[0m\n\u001b[0;32m   1085\u001b[0m                 \u001b[0mexecutable\u001b[0m\u001b[1;33m=\u001b[0m\u001b[0mconfig\u001b[0m\u001b[1;33m.\u001b[0m\u001b[0mexecutable\u001b[0m\u001b[1;33m,\u001b[0m\u001b[1;33m\u001b[0m\u001b[1;33m\u001b[0m\u001b[0m\n\u001b[0;32m   1086\u001b[0m                 \u001b[0mformatted_path\u001b[0m\u001b[1;33m=\u001b[0m\u001b[0mformatted_path\u001b[0m\u001b[1;33m,\u001b[0m\u001b[1;33m\u001b[0m\u001b[1;33m\u001b[0m\u001b[0m\n\u001b[1;32m-> 1087\u001b[1;33m                 \u001b[0minstructions\u001b[0m\u001b[1;33m=\u001b[0m\u001b[0minstall_location_instructions\u001b[0m\u001b[1;33m,\u001b[0m\u001b[1;33m\u001b[0m\u001b[1;33m\u001b[0m\u001b[0m\n\u001b[0m\u001b[0;32m   1088\u001b[0m             )\n\u001b[0;32m   1089\u001b[0m         )\n",
      "\u001b[1;31mValueError\u001b[0m: \nThe orca executable is required to export figures as static images,\nbut it could not be found on the system path.\n\nSearched for executable 'orca' on the following path:\n    C:\\Users\\Aman Riat\\Programming\\envs\\3PExpl\\lib\\site-packages\\pywin32_system32\n    c:\\users\\aman riat\\programming\\envs\\3pexpl\\lib\\site-packages\\pywin32_system32\n    C:\\Users\\Aman Riat\\Programming\\envs\\3PExpl\n    C:\\Users\\Aman Riat\\Programming\\envs\\3PExpl\\Library\\mingw-w64\\bin\n    C:\\Users\\Aman Riat\\Programming\\envs\\3PExpl\\Library\\usr\\bin\n    C:\\Users\\Aman Riat\\Programming\\envs\\3PExpl\\Library\\bin\n    C:\\Users\\Aman Riat\\Programming\\envs\\3PExpl\\Scripts\n    C:\\Users\\Aman Riat\\Programming\\envs\\3PExpl\\bin\n    C:\\Users\\Aman Riat\\Programming\\condabin\n    C:\\Windows\\system32\n    C:\\Windows\n    C:\\Windows\\System32\\Wbem\n    C:\\Windows\\System32\\WindowsPowerShell\\v1.0\n    C:\\Windows\\System32\\OpenSSH\n    C:\\Program Files\\NVIDIA Corporation\\NVIDIA NvDLISR\n    C:\\Program Files (x86)\\NVIDIA Corporation\\PhysX\\Common\n    C:\\Program Files\\Git\\cmd\n    C:\\Program Files\\nodejs\n    C:\\Program Files (x86)\\Yarn\\bin\n    C:\\Program Files\\Docker\\Docker\\resources\\bin\n    C:\\ProgramData\\DockerDesktop\\version-bin\n    C:\\Program Files\\dotnet\n    C:\\Users\\Aman Riat\\AppData\\Local\\Programs\\Python\\Python39\\Scripts\n    C:\\Users\\Aman Riat\\AppData\\Local\\Programs\\Python\\Python39\n    C:\\Users\\Aman Riat\\AppData\\Local\\Microsoft\\WindowsApps\n    C:\\Users\\Aman Riat\\AppData\\Local\\Programs\\Microsoft VS Code\\bin\n    C:\\Users\\Aman Riat\\AppData\\Roaming\\npm\n    C:\\Users\\Aman Riat\\AppData\\Local\\Yarn\\bin\n    C:\\Program Files\\heroku\\bin\n    C:\\Users\\Aman Riat\\.dotnet\\tools\n    C:\\Windows\\Microsoft.NET\\Framework\\v4.0.30319\n    .\n    C:\\Users\\Aman Riat\\Programming\\envs\\3PExpl\\lib\\site-packages\\numpy\\.libs\n\nIf you haven't installed orca yet, you can do so using conda as follows:\n\n    $ conda install -c plotly plotly-orca\n\nAlternatively, see other installation methods in the orca project README at\nhttps://github.com/plotly/orca\n\nAfter installation is complete, no further configuration should be needed.\n\nIf you have installed orca, then for some reason plotly.py was unable to\nlocate it. In this case, set the `plotly.io.orca.config.executable`\nproperty to the full path of your orca executable. For example:\n\n    >>> plotly.io.orca.config.executable = '/path/to/orca'\n\nAfter updating this executable property, try the export operation again.\nIf it is successful then you may want to save this configuration so that it\nwill be applied automatically in future sessions. You can do this as follows:\n\n    >>> plotly.io.orca.config.save()\n\nIf you're still having trouble, feel free to ask for help on the forums at\nhttps://community.plot.ly/c/api/python\n"
     ]
    }
   ],
   "source": [
    "import plotly.express as px\n",
    "fig = px.scatter(nba_ncaa_data_df, x=\"NCAA_FT%\", y=\"NBA_3P%\", size=\"NBA_3PA\", color=\"NCAA_FTA\", hover_data=[\"name\"])\n",
    "fig.show(\"png\")"
   ]
  },
  {
   "cell_type": "markdown",
   "metadata": {},
   "source": [
    "Let's find out how this metric compares for great three point shooters. We'll filter by shooters who shoot three pointers at or above 40%."
   ]
  },
  {
   "cell_type": "code",
   "execution_count": null,
   "metadata": {},
   "outputs": [],
   "source": [
    "above_40_percent_df = nba_ncaa_data_df[nba_ncaa_data_df['NBA_3P%'] > 0.4]\n",
    "above_40_percent_df['NCAA_FT%'].corr(above_40_percent_df['NBA_3P%'])"
   ]
  },
  {
   "cell_type": "markdown",
   "metadata": {},
   "source": [
    "Not much better, how about sorting for top 50 FTA in the NCAA?"
   ]
  },
  {
   "cell_type": "code",
   "execution_count": null,
   "metadata": {},
   "outputs": [],
   "source": [
    "top_50_NCAA_FTA_df = nba_ncaa_data_df.sort_values(by=['NCAA_FTA'], ascending=False)[0:50]\n",
    "top_50_NCAA_FTA_df['NCAA_FT%'].corr(top_50_NCAA_FTA_df['NBA_3P%'])"
   ]
  },
  {
   "cell_type": "markdown",
   "metadata": {},
   "source": [
    "A better correlation. How about we visualize the data"
   ]
  },
  {
   "cell_type": "code",
   "execution_count": null,
   "metadata": {},
   "outputs": [],
   "source": [
    "fig = px.scatter(nba_ncaa_data_df.sort_values(by=['NCAA_FTA'], ascending=False)[0:50], x=\"NCAA_FT%\", y=\"NBA_3P%\", size=\"NBA_3PA\", color=\"NCAA_FTA\", hover_data=[\"name\"])\n",
    "fig.show()"
   ]
  },
  {
   "cell_type": "code",
   "execution_count": 112,
   "metadata": {},
   "outputs": [],
   "source": [
    "nba_ncaa_data_df.to_csv('data/nba_ncaa_data_df_2000_2020.csv', index=False)\n",
    "nba_ncaa_not_found_df.to_csv('data/nba_ncaa_not_found_df_2000_2020.csv', index=False)"
   ]
  },
  {
   "cell_type": "code",
   "execution_count": null,
   "metadata": {},
   "outputs": [],
   "source": []
  }
 ],
 "metadata": {
  "kernelspec": {
   "display_name": "3PExpl",
   "language": "python",
   "name": "myenv"
  },
  "language_info": {
   "codemirror_mode": {
    "name": "ipython",
    "version": 3
   },
   "file_extension": ".py",
   "mimetype": "text/x-python",
   "name": "python",
   "nbconvert_exporter": "python",
   "pygments_lexer": "ipython3",
   "version": "3.6.12"
  }
 },
 "nbformat": 4,
 "nbformat_minor": 4
}
